{
 "cells": [
  {
   "cell_type": "markdown",
   "metadata": {},
   "source": [
    "# Brazil - No Show Appointment - Deu Migué <a id='topo'></a>\n",
    "\n",
    "## Table of Contents\n",
    "<ul>\n",
    "<li>\n",
    "    <a href=\"#intro\">Introduction</a>\n",
    "    <ul>\n",
    "        <li><a href=\"#objective\">Objective</a></li>\n",
    "        <li><a href=\"#columns\">Columns descriptions and insights</a></li>\n",
    "    </ul>\n",
    "</li>\n",
    "<li>\n",
    "    <a href=\"#wrangling\">Data Wrangling</a>\n",
    "    <ul>\n",
    "        <li><a href=\"#general\">General Properties</a></li>\n",
    "        <li><a href=\"#snake\">Change columns to snake case</a></li>\n",
    "        <li><a href=\"#check_unique\">Check unique values</a></li>\n",
    "        <ul>\n",
    "            <li><a href=\"#fix_handcap\">Fix handicap</a></li>\n",
    "        </ul>\n",
    "        <li><a href=\"#convert_date\">Convert to datetime</a></li>\n",
    "        <li><a href=\"#check_date\">Check the date fields</a></li>\n",
    "        <ul>\n",
    "            <li><a href=\"#check_schecule_appointment\">Check if ScheduledDay > AppointmentDay</a></li>\n",
    "            <li><a href=\"#clean_schedule\">Clean ScheduledDay > AppointmentDay</a></li>\n",
    "        </ul>\n",
    "        <li><a href=\"#check_appointment\">Check AppointmentID</a></li>\n",
    "        <li><a href=\"#check_patient\">Check PatientId</a></li>\n",
    "        <li><a href=\"#no_show\">Change no show column</a></li>\n",
    "        <li><a href=\"#check_age\">Check age</a></li>\n",
    "        <li><a href=\"#check_nei\">Check neighbourhood</a></li>\n",
    "        <li><a href=\"#create_dif\">Create column waiting days</a></li>\n",
    "        <li><a href=\"#save\">Save data cleaned</a></li>\n",
    "    </ul>\n",
    "</li>\n",
    "<li><a href=\"#eda\">Exploratory Data Analysis</a></li>\n",
    "<ul>\n",
    "    <li><a href=\"#w_percentage\">What the percentage of patients who did not showed up?</a></li>\n",
    "    <li><a href=\"#w_age\">What ages have more patients who did not showed up?</a></li>\n",
    "    <ul>\n",
    "        <li><a href=\"#divide\">Divide in 2 groups, showed up and not showed up</a></li>\n",
    "        <li><a href=\"#wc_age\">Check age column</a></li>\n",
    "        <li><a href=\"#wd_age\">Difference between showed up and not showed up</a></li>\n",
    "        <li><a href=\"#wn_age\">No showed up percentage by age</a></li>\n",
    "        <li><a href=\"#wa_age\">Answer</a></li>\n",
    "    </ul>\n",
    "    <li><a href=\"#w_gender\">Which gender have more patients who did not showed up?</a></li>\n",
    "    <ul>\n",
    "        <li><a href=\"#wa_gender\">Answer</a></li>\n",
    "    </ul>\n",
    "    <li><a href=\"#w_school\">Does schorlaship have more patients who did not showed up?</a></li>\n",
    "    <ul>\n",
    "        <li><a href=\"#wa_school\">Answer</a></li>\n",
    "    </ul>\n",
    "    <li><a href=\"#w_disease\">Which disease has more patients who did not showed up?</a></li>\n",
    "    <ul>\n",
    "        <li><a href=\"#wa_disease\">Answer</a></li>\n",
    "    </ul>\n",
    "    <li><a href=\"#w_sms\">Is sms a important factor to a patient to showed up?</a></li>\n",
    "    <ul>\n",
    "        <li><a href=\"#wa_sms\">Answer</a></li>\n",
    "    </ul>\n",
    "    <li><a href=\"#w_days\">Does waiting days have some correlation with patients who did not showed up?</a></li>\n",
    "    <li><a href=\"#w_time\">Wich wait time in days has more patients whod did not showed up?</a></li>\n",
    "    <li><a href=\"#w_appoi\">What are appointment the periods with more patientes who did not showed up? </a></li>\n",
    "    <ul>\n",
    "        <li><a href=\"#wa_appoi\">Answer</a></li>\n",
    "    </ul>\n",
    "    <li><a href=\"#w_local\">What are the hospital locations with more patients who dis not showed up?</a></li>\n",
    "    <ul>\n",
    "        <li><a href=\"#wa_local\">Answer</a></li>\n",
    "    </ul>\n",
    "    <li><a href=\"#w_maria\">Between the ages groups with more higher and lower indices, What is the means percentages of Maria Ortiz hospital patients who did not showed?</a></li>\n",
    "    <ul>\n",
    "        <li><a href=\"#wch_maria\">Create age group with more higher index of missing appointments</a></li>\n",
    "        <li><a href=\"#wcl_maria\">Create age group with more lower index of missing appointments </a></li>\n",
    "        <li><a href=\"#wcc_maria\">Charts</a></li>\n",
    "        <li><a href=\"#wa_maria\">Answer</a></li>\n",
    "    </ul>\n",
    "</ul>\n",
    "<li><a href=\"#conclusions\">Conclusions</a></li>\n",
    "<ul>\n",
    "    <li><a href=\"#c_percentage\">The percentage of patients who did not showed up</a></li>\n",
    "    <li><a href=\"#c_ages\">The ages with more patients who did not show up</a></li>\n",
    "    <ul>\n",
    "        <li><a href=\"#c_maria\">The means percentages of Maria Ortiz hospital patients who did not show up</a></li>\n",
    "    </ul>\n",
    "    <li><a href=\"#c_gender\">Women have indices of no show up more higher</a></li>\n",
    "    <li><a href=\"#c_welfare\">The scholarship with more patients who did not show up</a></li>\n",
    "    <li><a href=\"#c_disease\">The disease with more patients who did not show up</a></li>\n",
    "    <li><a href=\"#c_sms\">SMS is not an important factor to a patient show up</a></li>\n",
    "    <li><a href=\"#c_days\">Waiting days have correlation with patients who did not show up</a></li>\n",
    "    <li><a href=\"#c_local\">The hospital locations with more patients who did not show up</a></li>\n",
    "</ul>\n",
    "<li><a href=\"#final\">Limitations and final thoughs</a></li>\n",
    "</ul>"
   ]
  },
  {
   "cell_type": "markdown",
   "metadata": {},
   "source": [
    "## Introduction <a id='intro'></a>\n",
    "\n",
    "This dataset collects information from 100k medical appointments in Brazil and is focused on the question of whether or not patients show up for their appointment. A number of characteristics about the patient are included in each row.\n",
    "\n",
    "You can download the dataset [here](https://d17h27t6h515a5.cloudfront.net/topher/2017/October/59dd2e9a_noshowappointments-kagglev2-may-2016/noshowappointments-kagglev2-may-2016.csv). Put the file in same directory of this file and rename it to 'brasil_migue.csv'."
   ]
  },
  {
   "cell_type": "markdown",
   "metadata": {},
   "source": [
    "### Objective <a id='objective'></a>\n",
    "The objective of this analysis is to discover some correlations about the reasons of patients that not show up in a scheduled appointment."
   ]
  },
  {
   "cell_type": "code",
   "execution_count": 121,
   "metadata": {},
   "outputs": [],
   "source": [
    "import pandas as pd\n",
    "import matplotlib.pyplot as plt\n",
    "import numpy as np"
   ]
  },
  {
   "cell_type": "code",
   "execution_count": 122,
   "metadata": {},
   "outputs": [],
   "source": [
    "df = pd.read_csv('brasil_migue.csv')"
   ]
  },
  {
   "cell_type": "code",
   "execution_count": 123,
   "metadata": {
    "scrolled": false
   },
   "outputs": [
    {
     "data": {
      "text/html": [
       "<div>\n",
       "<style scoped>\n",
       "    .dataframe tbody tr th:only-of-type {\n",
       "        vertical-align: middle;\n",
       "    }\n",
       "\n",
       "    .dataframe tbody tr th {\n",
       "        vertical-align: top;\n",
       "    }\n",
       "\n",
       "    .dataframe thead th {\n",
       "        text-align: right;\n",
       "    }\n",
       "</style>\n",
       "<table border=\"1\" class=\"dataframe\">\n",
       "  <thead>\n",
       "    <tr style=\"text-align: right;\">\n",
       "      <th></th>\n",
       "      <th>PatientId</th>\n",
       "      <th>AppointmentID</th>\n",
       "      <th>Gender</th>\n",
       "      <th>ScheduledDay</th>\n",
       "      <th>AppointmentDay</th>\n",
       "      <th>Age</th>\n",
       "      <th>Neighbourhood</th>\n",
       "      <th>Scholarship</th>\n",
       "      <th>Hipertension</th>\n",
       "      <th>Diabetes</th>\n",
       "      <th>Alcoholism</th>\n",
       "      <th>Handcap</th>\n",
       "      <th>SMS_received</th>\n",
       "      <th>No-show</th>\n",
       "    </tr>\n",
       "  </thead>\n",
       "  <tbody>\n",
       "    <tr>\n",
       "      <th>0</th>\n",
       "      <td>2.987250e+13</td>\n",
       "      <td>5642903</td>\n",
       "      <td>F</td>\n",
       "      <td>2016-04-29T18:38:08Z</td>\n",
       "      <td>2016-04-29T00:00:00Z</td>\n",
       "      <td>62</td>\n",
       "      <td>JARDIM DA PENHA</td>\n",
       "      <td>0</td>\n",
       "      <td>1</td>\n",
       "      <td>0</td>\n",
       "      <td>0</td>\n",
       "      <td>0</td>\n",
       "      <td>0</td>\n",
       "      <td>No</td>\n",
       "    </tr>\n",
       "    <tr>\n",
       "      <th>1</th>\n",
       "      <td>5.589978e+14</td>\n",
       "      <td>5642503</td>\n",
       "      <td>M</td>\n",
       "      <td>2016-04-29T16:08:27Z</td>\n",
       "      <td>2016-04-29T00:00:00Z</td>\n",
       "      <td>56</td>\n",
       "      <td>JARDIM DA PENHA</td>\n",
       "      <td>0</td>\n",
       "      <td>0</td>\n",
       "      <td>0</td>\n",
       "      <td>0</td>\n",
       "      <td>0</td>\n",
       "      <td>0</td>\n",
       "      <td>No</td>\n",
       "    </tr>\n",
       "    <tr>\n",
       "      <th>2</th>\n",
       "      <td>4.262962e+12</td>\n",
       "      <td>5642549</td>\n",
       "      <td>F</td>\n",
       "      <td>2016-04-29T16:19:04Z</td>\n",
       "      <td>2016-04-29T00:00:00Z</td>\n",
       "      <td>62</td>\n",
       "      <td>MATA DA PRAIA</td>\n",
       "      <td>0</td>\n",
       "      <td>0</td>\n",
       "      <td>0</td>\n",
       "      <td>0</td>\n",
       "      <td>0</td>\n",
       "      <td>0</td>\n",
       "      <td>No</td>\n",
       "    </tr>\n",
       "    <tr>\n",
       "      <th>3</th>\n",
       "      <td>8.679512e+11</td>\n",
       "      <td>5642828</td>\n",
       "      <td>F</td>\n",
       "      <td>2016-04-29T17:29:31Z</td>\n",
       "      <td>2016-04-29T00:00:00Z</td>\n",
       "      <td>8</td>\n",
       "      <td>PONTAL DE CAMBURI</td>\n",
       "      <td>0</td>\n",
       "      <td>0</td>\n",
       "      <td>0</td>\n",
       "      <td>0</td>\n",
       "      <td>0</td>\n",
       "      <td>0</td>\n",
       "      <td>No</td>\n",
       "    </tr>\n",
       "  </tbody>\n",
       "</table>\n",
       "</div>"
      ],
      "text/plain": [
       "      PatientId  AppointmentID Gender          ScheduledDay  \\\n",
       "0  2.987250e+13        5642903      F  2016-04-29T18:38:08Z   \n",
       "1  5.589978e+14        5642503      M  2016-04-29T16:08:27Z   \n",
       "2  4.262962e+12        5642549      F  2016-04-29T16:19:04Z   \n",
       "3  8.679512e+11        5642828      F  2016-04-29T17:29:31Z   \n",
       "\n",
       "         AppointmentDay  Age      Neighbourhood  Scholarship  Hipertension  \\\n",
       "0  2016-04-29T00:00:00Z   62    JARDIM DA PENHA            0             1   \n",
       "1  2016-04-29T00:00:00Z   56    JARDIM DA PENHA            0             0   \n",
       "2  2016-04-29T00:00:00Z   62      MATA DA PRAIA            0             0   \n",
       "3  2016-04-29T00:00:00Z    8  PONTAL DE CAMBURI            0             0   \n",
       "\n",
       "   Diabetes  Alcoholism  Handcap  SMS_received No-show  \n",
       "0         0           0        0             0      No  \n",
       "1         0           0        0             0      No  \n",
       "2         0           0        0             0      No  \n",
       "3         0           0        0             0      No  "
      ]
     },
     "execution_count": 123,
     "metadata": {},
     "output_type": "execute_result"
    }
   ],
   "source": [
    "df.head(4)"
   ]
  },
  {
   "cell_type": "markdown",
   "metadata": {},
   "source": [
    "## Columns descriptions and insights <a id='columns'></a>\n",
    "\n",
    "The columns that is not listed below are considered self explained.\n",
    "- **Scholarship** - Indicates whether or not the patient is enrolled in Brasilian welfare program Bolsa Família. \n",
    "    - Could indicate the real scholarship of the patient. The information if the patition is in the welfare could be another column.\n",
    "    \n",
    "- **ScheduledDay** - The day that the patient set up their appointment. \n",
    "    - In the first lines listed above is possible to see some problems in this data, some dates are the same or after the appointment day. The same day is a problem because in brazilian public hospiltals an appointment is scheduled only months before. This data does not seem truthful.\n",
    "\n",
    "- **Neighbourhood** - The place where the hospital is located and not where the patient lives.\n",
    "    - A data set with informations about the region could be useful. Only the the name of the place, where the hospital is located, become diffcult to link the place with the reason that the patient does not show up. The location where the patient live could be useful because some hospitals receive patients from another cities.\n",
    "\n",
    "- **Handcap** - I am considering that the handicap means people with disabilities.\n",
    "\n",
    "- **No-show** - Yes if the patient does not show up.\n",
    "    - I could invert the 'yes' data value mean to when the patient showed up. The column name could be showed up in this case. This could avoid misunderstood.\n",
    "    \n",
    "- **SMS_received** - If the patient received a sms remembering about the appointment.\n",
    "    - I have doubts about if this data is relevant. There is some reasons about my doubts that I am going to try to explain below:\n",
    "        - This system of reminder is not common in Brazil\n",
    "        - Some patients are enrolled in the welfare program Bolsa Família. Most certain that they do not have cellphones. This can be cheked more later in the data analysis.\n",
    "        - The data do not explain when the sms was received.\n",
    "\n",
    "> **Note**: The insights above are only my first impressions about the data. I am going to do a more profund analysis later in this document.  "
   ]
  },
  {
   "cell_type": "markdown",
   "metadata": {},
   "source": [
    "## Data Wrangling <a id='wrangling'/>"
   ]
  },
  {
   "cell_type": "markdown",
   "metadata": {},
   "source": [
    "### General Properties <a id='general'></a>\n",
    "Display all the info about the data. <a href='#topo'>Top</a>"
   ]
  },
  {
   "cell_type": "code",
   "execution_count": 124,
   "metadata": {},
   "outputs": [
    {
     "name": "stdout",
     "output_type": "stream",
     "text": [
      "<class 'pandas.core.frame.DataFrame'>\n",
      "RangeIndex: 110527 entries, 0 to 110526\n",
      "Data columns (total 14 columns):\n",
      "PatientId         110527 non-null float64\n",
      "AppointmentID     110527 non-null int64\n",
      "Gender            110527 non-null object\n",
      "ScheduledDay      110527 non-null object\n",
      "AppointmentDay    110527 non-null object\n",
      "Age               110527 non-null int64\n",
      "Neighbourhood     110527 non-null object\n",
      "Scholarship       110527 non-null int64\n",
      "Hipertension      110527 non-null int64\n",
      "Diabetes          110527 non-null int64\n",
      "Alcoholism        110527 non-null int64\n",
      "Handcap           110527 non-null int64\n",
      "SMS_received      110527 non-null int64\n",
      "No-show           110527 non-null object\n",
      "dtypes: float64(1), int64(8), object(5)\n",
      "memory usage: 11.8+ MB\n"
     ]
    }
   ],
   "source": [
    "df.info()"
   ]
  },
  {
   "cell_type": "markdown",
   "metadata": {},
   "source": [
    "There is no missing values in the data frame. Let's check if has duplicates values"
   ]
  },
  {
   "cell_type": "code",
   "execution_count": 125,
   "metadata": {},
   "outputs": [
    {
     "data": {
      "text/plain": [
       "0"
      ]
     },
     "execution_count": 125,
     "metadata": {},
     "output_type": "execute_result"
    }
   ],
   "source": [
    "sum(df.duplicated())"
   ]
  },
  {
   "cell_type": "markdown",
   "metadata": {},
   "source": [
    "### Change columns to snake case <a id=\"snake\"/>\n",
    "I am going to change the columns to snake case to become more easy to explore the data set. <a href='#topo'>Top</a>"
   ]
  },
  {
   "cell_type": "code",
   "execution_count": 126,
   "metadata": {},
   "outputs": [],
   "source": [
    "import data_frame_helper"
   ]
  },
  {
   "cell_type": "code",
   "execution_count": 127,
   "metadata": {},
   "outputs": [
    {
     "data": {
      "text/plain": [
       "Index(['patient_id', 'appointment_id', 'gender', 'scheduled_day',\n",
       "       'appointment_day', 'age', 'neighbourhood', 'scholarship',\n",
       "       'hipertension', 'diabetes', 'alcoholism', 'handcap', 'sms_received',\n",
       "       'no-show'],\n",
       "      dtype='object')"
      ]
     },
     "execution_count": 127,
     "metadata": {},
     "output_type": "execute_result"
    }
   ],
   "source": [
    "data_frame_helper.columns_to_snake_case(df).columns"
   ]
  },
  {
   "cell_type": "code",
   "execution_count": 128,
   "metadata": {},
   "outputs": [
    {
     "data": {
      "text/plain": [
       "Index(['patient_id', 'appointment_id', 'gender', 'scheduled_day',\n",
       "       'appointment_day', 'age', 'neighbourhood', 'scholarship',\n",
       "       'hipertension', 'diabetes', 'alcoholism', 'handcap', 'sms_received',\n",
       "       'no_show'],\n",
       "      dtype='object')"
      ]
     },
     "execution_count": 128,
     "metadata": {},
     "output_type": "execute_result"
    }
   ],
   "source": [
    "df.columns = df.columns.str.replace('-', '_')\n",
    "df.columns"
   ]
  },
  {
   "cell_type": "markdown",
   "metadata": {},
   "source": [
    "### Check unique values <a id='check_unique'></a>\n",
    "The columns below should just have two possible values each. Let's check if is allright with the unique function. <a href='#topo'>Top</a>"
   ]
  },
  {
   "cell_type": "code",
   "execution_count": 129,
   "metadata": {},
   "outputs": [
    {
     "data": {
      "text/plain": [
       "array(['F', 'M'], dtype=object)"
      ]
     },
     "execution_count": 129,
     "metadata": {},
     "output_type": "execute_result"
    }
   ],
   "source": [
    "df.gender.unique()"
   ]
  },
  {
   "cell_type": "code",
   "execution_count": 130,
   "metadata": {},
   "outputs": [
    {
     "data": {
      "text/plain": [
       "array([0, 1], dtype=int64)"
      ]
     },
     "execution_count": 130,
     "metadata": {},
     "output_type": "execute_result"
    }
   ],
   "source": [
    "df.scholarship.unique()"
   ]
  },
  {
   "cell_type": "code",
   "execution_count": 131,
   "metadata": {},
   "outputs": [
    {
     "data": {
      "text/plain": [
       "array([1, 0], dtype=int64)"
      ]
     },
     "execution_count": 131,
     "metadata": {},
     "output_type": "execute_result"
    }
   ],
   "source": [
    "df.hipertension.unique()"
   ]
  },
  {
   "cell_type": "code",
   "execution_count": 132,
   "metadata": {},
   "outputs": [
    {
     "data": {
      "text/plain": [
       "array([0, 1], dtype=int64)"
      ]
     },
     "execution_count": 132,
     "metadata": {},
     "output_type": "execute_result"
    }
   ],
   "source": [
    "df.diabetes.unique()"
   ]
  },
  {
   "cell_type": "code",
   "execution_count": 133,
   "metadata": {},
   "outputs": [
    {
     "data": {
      "text/plain": [
       "array([0, 1], dtype=int64)"
      ]
     },
     "execution_count": 133,
     "metadata": {},
     "output_type": "execute_result"
    }
   ],
   "source": [
    "df.alcoholism.unique()"
   ]
  },
  {
   "cell_type": "code",
   "execution_count": 134,
   "metadata": {},
   "outputs": [
    {
     "data": {
      "text/plain": [
       "array([0, 1, 2, 3, 4], dtype=int64)"
      ]
     },
     "execution_count": 134,
     "metadata": {},
     "output_type": "execute_result"
    }
   ],
   "source": [
    "df.handcap.unique()"
   ]
  },
  {
   "cell_type": "code",
   "execution_count": 135,
   "metadata": {},
   "outputs": [
    {
     "data": {
      "text/plain": [
       "array([0, 1], dtype=int64)"
      ]
     },
     "execution_count": 135,
     "metadata": {},
     "output_type": "execute_result"
    }
   ],
   "source": [
    "df.sms_received.unique()"
   ]
  },
  {
   "cell_type": "code",
   "execution_count": 136,
   "metadata": {},
   "outputs": [
    {
     "data": {
      "text/plain": [
       "array(['No', 'Yes'], dtype=object)"
      ]
     },
     "execution_count": 136,
     "metadata": {},
     "output_type": "execute_result"
    }
   ],
   "source": [
    "df.no_show.unique()"
   ]
  },
  {
   "cell_type": "markdown",
   "metadata": {},
   "source": [
    "#### Fix handicap <a id='fix_handcap'/>\n",
    "According with the data set documentation, the Handcap column should be true or false. I am going to transform handicaps greater than 1 to become 1. <a href='#topo'>Top</a>"
   ]
  },
  {
   "cell_type": "code",
   "execution_count": 137,
   "metadata": {},
   "outputs": [
    {
     "data": {
      "text/plain": [
       "array([0, 1], dtype=int64)"
      ]
     },
     "execution_count": 137,
     "metadata": {},
     "output_type": "execute_result"
    }
   ],
   "source": [
    "df.handcap = df.handcap.apply(lambda x: 1 if x > 1 else x)\n",
    "df.handcap.unique()"
   ]
  },
  {
   "cell_type": "code",
   "execution_count": 138,
   "metadata": {},
   "outputs": [
    {
     "name": "stdout",
     "output_type": "stream",
     "text": [
      "<class 'pandas.core.frame.DataFrame'>\n",
      "RangeIndex: 110527 entries, 0 to 110526\n",
      "Data columns (total 14 columns):\n",
      "patient_id         110527 non-null float64\n",
      "appointment_id     110527 non-null int64\n",
      "gender             110527 non-null object\n",
      "scheduled_day      110527 non-null object\n",
      "appointment_day    110527 non-null object\n",
      "age                110527 non-null int64\n",
      "neighbourhood      110527 non-null object\n",
      "scholarship        110527 non-null int64\n",
      "hipertension       110527 non-null int64\n",
      "diabetes           110527 non-null int64\n",
      "alcoholism         110527 non-null int64\n",
      "handcap            110527 non-null int64\n",
      "sms_received       110527 non-null int64\n",
      "no_show            110527 non-null object\n",
      "dtypes: float64(1), int64(8), object(5)\n",
      "memory usage: 11.8+ MB\n"
     ]
    }
   ],
   "source": [
    "df.info()"
   ]
  },
  {
   "cell_type": "markdown",
   "metadata": {},
   "source": [
    "### Convert to datetime <a id='convert_date'></a>\n",
    "First, let's convert to datetime the scheduled day and appointment day column. <a href='#topo'>Top</a>"
   ]
  },
  {
   "cell_type": "code",
   "execution_count": 139,
   "metadata": {},
   "outputs": [],
   "source": [
    "df.scheduled_day = pd.to_datetime(df.scheduled_day).dt.normalize()\n",
    "df.appointment_day = pd.to_datetime(df.appointment_day)"
   ]
  },
  {
   "cell_type": "code",
   "execution_count": 140,
   "metadata": {},
   "outputs": [
    {
     "data": {
      "text/html": [
       "<div>\n",
       "<style scoped>\n",
       "    .dataframe tbody tr th:only-of-type {\n",
       "        vertical-align: middle;\n",
       "    }\n",
       "\n",
       "    .dataframe tbody tr th {\n",
       "        vertical-align: top;\n",
       "    }\n",
       "\n",
       "    .dataframe thead th {\n",
       "        text-align: right;\n",
       "    }\n",
       "</style>\n",
       "<table border=\"1\" class=\"dataframe\">\n",
       "  <thead>\n",
       "    <tr style=\"text-align: right;\">\n",
       "      <th></th>\n",
       "      <th>patient_id</th>\n",
       "      <th>appointment_id</th>\n",
       "      <th>gender</th>\n",
       "      <th>scheduled_day</th>\n",
       "      <th>appointment_day</th>\n",
       "      <th>age</th>\n",
       "      <th>neighbourhood</th>\n",
       "      <th>scholarship</th>\n",
       "      <th>hipertension</th>\n",
       "      <th>diabetes</th>\n",
       "      <th>alcoholism</th>\n",
       "      <th>handcap</th>\n",
       "      <th>sms_received</th>\n",
       "      <th>no_show</th>\n",
       "    </tr>\n",
       "  </thead>\n",
       "  <tbody>\n",
       "    <tr>\n",
       "      <th>0</th>\n",
       "      <td>2.987250e+13</td>\n",
       "      <td>5642903</td>\n",
       "      <td>F</td>\n",
       "      <td>2016-04-29</td>\n",
       "      <td>2016-04-29</td>\n",
       "      <td>62</td>\n",
       "      <td>JARDIM DA PENHA</td>\n",
       "      <td>0</td>\n",
       "      <td>1</td>\n",
       "      <td>0</td>\n",
       "      <td>0</td>\n",
       "      <td>0</td>\n",
       "      <td>0</td>\n",
       "      <td>No</td>\n",
       "    </tr>\n",
       "    <tr>\n",
       "      <th>1</th>\n",
       "      <td>5.589978e+14</td>\n",
       "      <td>5642503</td>\n",
       "      <td>M</td>\n",
       "      <td>2016-04-29</td>\n",
       "      <td>2016-04-29</td>\n",
       "      <td>56</td>\n",
       "      <td>JARDIM DA PENHA</td>\n",
       "      <td>0</td>\n",
       "      <td>0</td>\n",
       "      <td>0</td>\n",
       "      <td>0</td>\n",
       "      <td>0</td>\n",
       "      <td>0</td>\n",
       "      <td>No</td>\n",
       "    </tr>\n",
       "    <tr>\n",
       "      <th>2</th>\n",
       "      <td>4.262962e+12</td>\n",
       "      <td>5642549</td>\n",
       "      <td>F</td>\n",
       "      <td>2016-04-29</td>\n",
       "      <td>2016-04-29</td>\n",
       "      <td>62</td>\n",
       "      <td>MATA DA PRAIA</td>\n",
       "      <td>0</td>\n",
       "      <td>0</td>\n",
       "      <td>0</td>\n",
       "      <td>0</td>\n",
       "      <td>0</td>\n",
       "      <td>0</td>\n",
       "      <td>No</td>\n",
       "    </tr>\n",
       "    <tr>\n",
       "      <th>3</th>\n",
       "      <td>8.679512e+11</td>\n",
       "      <td>5642828</td>\n",
       "      <td>F</td>\n",
       "      <td>2016-04-29</td>\n",
       "      <td>2016-04-29</td>\n",
       "      <td>8</td>\n",
       "      <td>PONTAL DE CAMBURI</td>\n",
       "      <td>0</td>\n",
       "      <td>0</td>\n",
       "      <td>0</td>\n",
       "      <td>0</td>\n",
       "      <td>0</td>\n",
       "      <td>0</td>\n",
       "      <td>No</td>\n",
       "    </tr>\n",
       "  </tbody>\n",
       "</table>\n",
       "</div>"
      ],
      "text/plain": [
       "     patient_id  appointment_id gender scheduled_day appointment_day  age  \\\n",
       "0  2.987250e+13         5642903      F    2016-04-29      2016-04-29   62   \n",
       "1  5.589978e+14         5642503      M    2016-04-29      2016-04-29   56   \n",
       "2  4.262962e+12         5642549      F    2016-04-29      2016-04-29   62   \n",
       "3  8.679512e+11         5642828      F    2016-04-29      2016-04-29    8   \n",
       "\n",
       "       neighbourhood  scholarship  hipertension  diabetes  alcoholism  \\\n",
       "0    JARDIM DA PENHA            0             1         0           0   \n",
       "1    JARDIM DA PENHA            0             0         0           0   \n",
       "2      MATA DA PRAIA            0             0         0           0   \n",
       "3  PONTAL DE CAMBURI            0             0         0           0   \n",
       "\n",
       "   handcap  sms_received no_show  \n",
       "0        0             0      No  \n",
       "1        0             0      No  \n",
       "2        0             0      No  \n",
       "3        0             0      No  "
      ]
     },
     "execution_count": 140,
     "metadata": {},
     "output_type": "execute_result"
    }
   ],
   "source": [
    "df.head(4)"
   ]
  },
  {
   "cell_type": "code",
   "execution_count": 141,
   "metadata": {
    "scrolled": true
   },
   "outputs": [
    {
     "name": "stdout",
     "output_type": "stream",
     "text": [
      "<class 'pandas.core.frame.DataFrame'>\n",
      "RangeIndex: 110527 entries, 0 to 110526\n",
      "Data columns (total 14 columns):\n",
      "patient_id         110527 non-null float64\n",
      "appointment_id     110527 non-null int64\n",
      "gender             110527 non-null object\n",
      "scheduled_day      110527 non-null datetime64[ns]\n",
      "appointment_day    110527 non-null datetime64[ns]\n",
      "age                110527 non-null int64\n",
      "neighbourhood      110527 non-null object\n",
      "scholarship        110527 non-null int64\n",
      "hipertension       110527 non-null int64\n",
      "diabetes           110527 non-null int64\n",
      "alcoholism         110527 non-null int64\n",
      "handcap            110527 non-null int64\n",
      "sms_received       110527 non-null int64\n",
      "no_show            110527 non-null object\n",
      "dtypes: datetime64[ns](2), float64(1), int64(8), object(3)\n",
      "memory usage: 11.8+ MB\n"
     ]
    }
   ],
   "source": [
    "df.info()"
   ]
  },
  {
   "cell_type": "markdown",
   "metadata": {},
   "source": [
    "### Check the date fields <a id='check_date'></a>\n",
    "How we see before, the data set has some inconsistent data in the date fields, Scheduled Day and Appointment Day. Let's check with more details in the steps below. <a href='#topo'>Top</a>"
   ]
  },
  {
   "cell_type": "markdown",
   "metadata": {},
   "source": [
    "#### Check if ScheduledDay > AppointmentDay <a id='check_schecule_appointment'></a>\n",
    "I want to check how many Scheduled days are after the AppointmentDay. <a href='#topo'>Top</a>"
   ]
  },
  {
   "cell_type": "code",
   "execution_count": 142,
   "metadata": {},
   "outputs": [
    {
     "data": {
      "text/html": [
       "<div>\n",
       "<style scoped>\n",
       "    .dataframe tbody tr th:only-of-type {\n",
       "        vertical-align: middle;\n",
       "    }\n",
       "\n",
       "    .dataframe tbody tr th {\n",
       "        vertical-align: top;\n",
       "    }\n",
       "\n",
       "    .dataframe thead th {\n",
       "        text-align: right;\n",
       "    }\n",
       "</style>\n",
       "<table border=\"1\" class=\"dataframe\">\n",
       "  <thead>\n",
       "    <tr style=\"text-align: right;\">\n",
       "      <th></th>\n",
       "      <th>patient_id</th>\n",
       "      <th>appointment_id</th>\n",
       "      <th>gender</th>\n",
       "      <th>scheduled_day</th>\n",
       "      <th>appointment_day</th>\n",
       "      <th>age</th>\n",
       "      <th>neighbourhood</th>\n",
       "      <th>scholarship</th>\n",
       "      <th>hipertension</th>\n",
       "      <th>diabetes</th>\n",
       "      <th>alcoholism</th>\n",
       "      <th>handcap</th>\n",
       "      <th>sms_received</th>\n",
       "      <th>no_show</th>\n",
       "    </tr>\n",
       "  </thead>\n",
       "  <tbody>\n",
       "    <tr>\n",
       "      <th>27033</th>\n",
       "      <td>7.839273e+12</td>\n",
       "      <td>5679978</td>\n",
       "      <td>M</td>\n",
       "      <td>2016-05-10</td>\n",
       "      <td>2016-05-09</td>\n",
       "      <td>38</td>\n",
       "      <td>RESISTÊNCIA</td>\n",
       "      <td>0</td>\n",
       "      <td>0</td>\n",
       "      <td>0</td>\n",
       "      <td>0</td>\n",
       "      <td>1</td>\n",
       "      <td>0</td>\n",
       "      <td>Yes</td>\n",
       "    </tr>\n",
       "    <tr>\n",
       "      <th>55226</th>\n",
       "      <td>7.896294e+12</td>\n",
       "      <td>5715660</td>\n",
       "      <td>F</td>\n",
       "      <td>2016-05-18</td>\n",
       "      <td>2016-05-17</td>\n",
       "      <td>19</td>\n",
       "      <td>SANTO ANTÔNIO</td>\n",
       "      <td>0</td>\n",
       "      <td>0</td>\n",
       "      <td>0</td>\n",
       "      <td>0</td>\n",
       "      <td>1</td>\n",
       "      <td>0</td>\n",
       "      <td>Yes</td>\n",
       "    </tr>\n",
       "    <tr>\n",
       "      <th>64175</th>\n",
       "      <td>2.425226e+13</td>\n",
       "      <td>5664962</td>\n",
       "      <td>F</td>\n",
       "      <td>2016-05-05</td>\n",
       "      <td>2016-05-04</td>\n",
       "      <td>22</td>\n",
       "      <td>CONSOLAÇÃO</td>\n",
       "      <td>0</td>\n",
       "      <td>0</td>\n",
       "      <td>0</td>\n",
       "      <td>0</td>\n",
       "      <td>0</td>\n",
       "      <td>0</td>\n",
       "      <td>Yes</td>\n",
       "    </tr>\n",
       "    <tr>\n",
       "      <th>71533</th>\n",
       "      <td>9.982316e+14</td>\n",
       "      <td>5686628</td>\n",
       "      <td>F</td>\n",
       "      <td>2016-05-11</td>\n",
       "      <td>2016-05-05</td>\n",
       "      <td>81</td>\n",
       "      <td>SANTO ANTÔNIO</td>\n",
       "      <td>0</td>\n",
       "      <td>0</td>\n",
       "      <td>0</td>\n",
       "      <td>0</td>\n",
       "      <td>0</td>\n",
       "      <td>0</td>\n",
       "      <td>Yes</td>\n",
       "    </tr>\n",
       "    <tr>\n",
       "      <th>72362</th>\n",
       "      <td>3.787482e+12</td>\n",
       "      <td>5655637</td>\n",
       "      <td>M</td>\n",
       "      <td>2016-05-04</td>\n",
       "      <td>2016-05-03</td>\n",
       "      <td>7</td>\n",
       "      <td>TABUAZEIRO</td>\n",
       "      <td>0</td>\n",
       "      <td>0</td>\n",
       "      <td>0</td>\n",
       "      <td>0</td>\n",
       "      <td>0</td>\n",
       "      <td>0</td>\n",
       "      <td>Yes</td>\n",
       "    </tr>\n",
       "  </tbody>\n",
       "</table>\n",
       "</div>"
      ],
      "text/plain": [
       "         patient_id  appointment_id gender scheduled_day appointment_day  age  \\\n",
       "27033  7.839273e+12         5679978      M    2016-05-10      2016-05-09   38   \n",
       "55226  7.896294e+12         5715660      F    2016-05-18      2016-05-17   19   \n",
       "64175  2.425226e+13         5664962      F    2016-05-05      2016-05-04   22   \n",
       "71533  9.982316e+14         5686628      F    2016-05-11      2016-05-05   81   \n",
       "72362  3.787482e+12         5655637      M    2016-05-04      2016-05-03    7   \n",
       "\n",
       "       neighbourhood  scholarship  hipertension  diabetes  alcoholism  \\\n",
       "27033    RESISTÊNCIA            0             0         0           0   \n",
       "55226  SANTO ANTÔNIO            0             0         0           0   \n",
       "64175     CONSOLAÇÃO            0             0         0           0   \n",
       "71533  SANTO ANTÔNIO            0             0         0           0   \n",
       "72362     TABUAZEIRO            0             0         0           0   \n",
       "\n",
       "       handcap  sms_received no_show  \n",
       "27033        1             0     Yes  \n",
       "55226        1             0     Yes  \n",
       "64175        0             0     Yes  \n",
       "71533        0             0     Yes  \n",
       "72362        0             0     Yes  "
      ]
     },
     "execution_count": 142,
     "metadata": {},
     "output_type": "execute_result"
    }
   ],
   "source": [
    "df.query('scheduled_day > appointment_day')"
   ]
  },
  {
   "cell_type": "code",
   "execution_count": 143,
   "metadata": {},
   "outputs": [
    {
     "data": {
      "text/plain": [
       "5"
      ]
     },
     "execution_count": 143,
     "metadata": {},
     "output_type": "execute_result"
    }
   ],
   "source": [
    "sum(df.scheduled_day > df.appointment_day)"
   ]
  },
  {
   "cell_type": "markdown",
   "metadata": {},
   "source": [
    "The dataset has values with scheduled day after the appointment day, but just five rows."
   ]
  },
  {
   "cell_type": "markdown",
   "metadata": {},
   "source": [
    "#### Clean ScheduledDay > AppointmentDay <a id='clean_schedule'></a>\n",
    "I am goint to remove the datas with ScheduledDay > AppointmentDay. <a href='#topo'>Top</a>"
   ]
  },
  {
   "cell_type": "code",
   "execution_count": 144,
   "metadata": {},
   "outputs": [],
   "source": [
    "df = df.query('scheduled_day <= appointment_day')"
   ]
  },
  {
   "cell_type": "code",
   "execution_count": 145,
   "metadata": {},
   "outputs": [
    {
     "name": "stdout",
     "output_type": "stream",
     "text": [
      "<class 'pandas.core.frame.DataFrame'>\n",
      "Int64Index: 110522 entries, 0 to 110526\n",
      "Data columns (total 14 columns):\n",
      "patient_id         110522 non-null float64\n",
      "appointment_id     110522 non-null int64\n",
      "gender             110522 non-null object\n",
      "scheduled_day      110522 non-null datetime64[ns]\n",
      "appointment_day    110522 non-null datetime64[ns]\n",
      "age                110522 non-null int64\n",
      "neighbourhood      110522 non-null object\n",
      "scholarship        110522 non-null int64\n",
      "hipertension       110522 non-null int64\n",
      "diabetes           110522 non-null int64\n",
      "alcoholism         110522 non-null int64\n",
      "handcap            110522 non-null int64\n",
      "sms_received       110522 non-null int64\n",
      "no_show            110522 non-null object\n",
      "dtypes: datetime64[ns](2), float64(1), int64(8), object(3)\n",
      "memory usage: 12.6+ MB\n"
     ]
    }
   ],
   "source": [
    "df.info()"
   ]
  },
  {
   "cell_type": "markdown",
   "metadata": {},
   "source": [
    "### Check AppointmentID <a id='check_appointment'></a>\n",
    "Beforehand, I am goind to check if the data has Appointment id duplicated. <a href='#topo'>Top</a>"
   ]
  },
  {
   "cell_type": "code",
   "execution_count": 146,
   "metadata": {},
   "outputs": [
    {
     "data": {
      "text/plain": [
       "0"
      ]
     },
     "execution_count": 146,
     "metadata": {},
     "output_type": "execute_result"
    }
   ],
   "source": [
    "df.appointment_id.duplicated().sum()"
   ]
  },
  {
   "cell_type": "markdown",
   "metadata": {},
   "source": [
    "### Check PatientId <a id='check_patient'></a>\n",
    "Maybe the patient can have more than one appointment. Let's check. <a href='#topo'>Top</a>"
   ]
  },
  {
   "cell_type": "code",
   "execution_count": 147,
   "metadata": {},
   "outputs": [
    {
     "data": {
      "text/plain": [
       "True"
      ]
     },
     "execution_count": 147,
     "metadata": {},
     "output_type": "execute_result"
    }
   ],
   "source": [
    "# Must be true to has more than one appointment\n",
    "len(df.patient_id.unique()) != len(df.patient_id)"
   ]
  },
  {
   "cell_type": "markdown",
   "metadata": {},
   "source": [
    "The data has patients with more than one appointment. Let's check how many PatientId are duplicated"
   ]
  },
  {
   "cell_type": "code",
   "execution_count": 148,
   "metadata": {},
   "outputs": [
    {
     "data": {
      "text/plain": [
       "48223"
      ]
     },
     "execution_count": 148,
     "metadata": {},
     "output_type": "execute_result"
    }
   ],
   "source": [
    "df.patient_id.duplicated().sum()"
   ]
  },
  {
   "cell_type": "markdown",
   "metadata": {},
   "source": [
    "I am going to check the mean, min and max appointment quantity by patient"
   ]
  },
  {
   "cell_type": "code",
   "execution_count": 149,
   "metadata": {
    "scrolled": false
   },
   "outputs": [
    {
     "data": {
      "text/plain": [
       "count    62299.000000\n",
       "mean         1.774057\n",
       "std          1.770219\n",
       "min          1.000000\n",
       "25%          1.000000\n",
       "50%          1.000000\n",
       "75%          2.000000\n",
       "85%          3.000000\n",
       "90%          3.000000\n",
       "95%          4.000000\n",
       "98%          6.000000\n",
       "99%          8.000000\n",
       "100%        88.000000\n",
       "max         88.000000\n",
       "Name: appointment_id, dtype: float64"
      ]
     },
     "execution_count": 149,
     "metadata": {},
     "output_type": "execute_result"
    }
   ],
   "source": [
    "df.groupby(['patient_id']).count().appointment_id.describe(percentiles=[.25, .5, .75, .85, .90, .95, .98, .99, 1])"
   ]
  },
  {
   "cell_type": "markdown",
   "metadata": {},
   "source": [
    "The mean is 1.56 but Seems that some patients has 30 appointments. Let's  check these patients"
   ]
  },
  {
   "cell_type": "code",
   "execution_count": 150,
   "metadata": {},
   "outputs": [
    {
     "data": {
      "text/plain": [
       "[6128878448536.0, 416755661551767.0]"
      ]
     },
     "execution_count": 150,
     "metadata": {},
     "output_type": "execute_result"
    }
   ],
   "source": [
    "index = df.groupby(['patient_id']).count().query('appointment_id == 30').index.tolist()\n",
    "index"
   ]
  },
  {
   "cell_type": "markdown",
   "metadata": {},
   "source": [
    "Just one patient has 30 appointments"
   ]
  },
  {
   "cell_type": "code",
   "execution_count": 151,
   "metadata": {
    "scrolled": true
   },
   "outputs": [
    {
     "data": {
      "text/html": [
       "<div>\n",
       "<style scoped>\n",
       "    .dataframe tbody tr th:only-of-type {\n",
       "        vertical-align: middle;\n",
       "    }\n",
       "\n",
       "    .dataframe tbody tr th {\n",
       "        vertical-align: top;\n",
       "    }\n",
       "\n",
       "    .dataframe thead th {\n",
       "        text-align: right;\n",
       "    }\n",
       "</style>\n",
       "<table border=\"1\" class=\"dataframe\">\n",
       "  <thead>\n",
       "    <tr style=\"text-align: right;\">\n",
       "      <th></th>\n",
       "      <th>patient_id</th>\n",
       "      <th>appointment_id</th>\n",
       "      <th>gender</th>\n",
       "      <th>scheduled_day</th>\n",
       "      <th>appointment_day</th>\n",
       "      <th>age</th>\n",
       "      <th>neighbourhood</th>\n",
       "      <th>scholarship</th>\n",
       "      <th>hipertension</th>\n",
       "      <th>diabetes</th>\n",
       "      <th>alcoholism</th>\n",
       "      <th>handcap</th>\n",
       "      <th>sms_received</th>\n",
       "      <th>no_show</th>\n",
       "    </tr>\n",
       "  </thead>\n",
       "  <tbody>\n",
       "    <tr>\n",
       "      <th>3005</th>\n",
       "      <td>4.167557e+14</td>\n",
       "      <td>5638977</td>\n",
       "      <td>M</td>\n",
       "      <td>2016-04-29</td>\n",
       "      <td>2016-04-29</td>\n",
       "      <td>33</td>\n",
       "      <td>BONFIM</td>\n",
       "      <td>0</td>\n",
       "      <td>0</td>\n",
       "      <td>0</td>\n",
       "      <td>0</td>\n",
       "      <td>0</td>\n",
       "      <td>0</td>\n",
       "      <td>No</td>\n",
       "    </tr>\n",
       "    <tr>\n",
       "      <th>3063</th>\n",
       "      <td>4.167557e+14</td>\n",
       "      <td>5641054</td>\n",
       "      <td>M</td>\n",
       "      <td>2016-04-29</td>\n",
       "      <td>2016-04-29</td>\n",
       "      <td>33</td>\n",
       "      <td>BONFIM</td>\n",
       "      <td>0</td>\n",
       "      <td>0</td>\n",
       "      <td>0</td>\n",
       "      <td>0</td>\n",
       "      <td>0</td>\n",
       "      <td>0</td>\n",
       "      <td>No</td>\n",
       "    </tr>\n",
       "    <tr>\n",
       "      <th>3104</th>\n",
       "      <td>4.167557e+14</td>\n",
       "      <td>5642799</td>\n",
       "      <td>M</td>\n",
       "      <td>2016-04-29</td>\n",
       "      <td>2016-04-29</td>\n",
       "      <td>33</td>\n",
       "      <td>BONFIM</td>\n",
       "      <td>0</td>\n",
       "      <td>0</td>\n",
       "      <td>0</td>\n",
       "      <td>0</td>\n",
       "      <td>0</td>\n",
       "      <td>0</td>\n",
       "      <td>No</td>\n",
       "    </tr>\n",
       "    <tr>\n",
       "      <th>7115</th>\n",
       "      <td>6.128878e+12</td>\n",
       "      <td>5736809</td>\n",
       "      <td>F</td>\n",
       "      <td>2016-05-25</td>\n",
       "      <td>2016-05-25</td>\n",
       "      <td>51</td>\n",
       "      <td>PRAIA DO CANTO</td>\n",
       "      <td>0</td>\n",
       "      <td>0</td>\n",
       "      <td>0</td>\n",
       "      <td>0</td>\n",
       "      <td>0</td>\n",
       "      <td>0</td>\n",
       "      <td>No</td>\n",
       "    </tr>\n",
       "    <tr>\n",
       "      <th>7118</th>\n",
       "      <td>4.167557e+14</td>\n",
       "      <td>5711893</td>\n",
       "      <td>M</td>\n",
       "      <td>2016-05-18</td>\n",
       "      <td>2016-05-18</td>\n",
       "      <td>33</td>\n",
       "      <td>BONFIM</td>\n",
       "      <td>0</td>\n",
       "      <td>0</td>\n",
       "      <td>0</td>\n",
       "      <td>0</td>\n",
       "      <td>0</td>\n",
       "      <td>0</td>\n",
       "      <td>No</td>\n",
       "    </tr>\n",
       "    <tr>\n",
       "      <th>7153</th>\n",
       "      <td>6.128878e+12</td>\n",
       "      <td>5719600</td>\n",
       "      <td>F</td>\n",
       "      <td>2016-05-19</td>\n",
       "      <td>2016-05-19</td>\n",
       "      <td>51</td>\n",
       "      <td>PRAIA DO CANTO</td>\n",
       "      <td>0</td>\n",
       "      <td>0</td>\n",
       "      <td>0</td>\n",
       "      <td>0</td>\n",
       "      <td>0</td>\n",
       "      <td>0</td>\n",
       "      <td>No</td>\n",
       "    </tr>\n",
       "    <tr>\n",
       "      <th>7289</th>\n",
       "      <td>4.167557e+14</td>\n",
       "      <td>5691240</td>\n",
       "      <td>M</td>\n",
       "      <td>2016-05-12</td>\n",
       "      <td>2016-05-12</td>\n",
       "      <td>33</td>\n",
       "      <td>BONFIM</td>\n",
       "      <td>0</td>\n",
       "      <td>0</td>\n",
       "      <td>0</td>\n",
       "      <td>0</td>\n",
       "      <td>0</td>\n",
       "      <td>0</td>\n",
       "      <td>No</td>\n",
       "    </tr>\n",
       "    <tr>\n",
       "      <th>7295</th>\n",
       "      <td>6.128878e+12</td>\n",
       "      <td>5737698</td>\n",
       "      <td>F</td>\n",
       "      <td>2016-05-25</td>\n",
       "      <td>2016-05-31</td>\n",
       "      <td>51</td>\n",
       "      <td>PRAIA DO CANTO</td>\n",
       "      <td>0</td>\n",
       "      <td>0</td>\n",
       "      <td>0</td>\n",
       "      <td>0</td>\n",
       "      <td>0</td>\n",
       "      <td>1</td>\n",
       "      <td>No</td>\n",
       "    </tr>\n",
       "    <tr>\n",
       "      <th>7302</th>\n",
       "      <td>6.128878e+12</td>\n",
       "      <td>5724897</td>\n",
       "      <td>F</td>\n",
       "      <td>2016-05-20</td>\n",
       "      <td>2016-05-25</td>\n",
       "      <td>51</td>\n",
       "      <td>PRAIA DO CANTO</td>\n",
       "      <td>0</td>\n",
       "      <td>0</td>\n",
       "      <td>0</td>\n",
       "      <td>0</td>\n",
       "      <td>0</td>\n",
       "      <td>1</td>\n",
       "      <td>No</td>\n",
       "    </tr>\n",
       "    <tr>\n",
       "      <th>7388</th>\n",
       "      <td>4.167557e+14</td>\n",
       "      <td>5692772</td>\n",
       "      <td>M</td>\n",
       "      <td>2016-05-12</td>\n",
       "      <td>2016-05-19</td>\n",
       "      <td>33</td>\n",
       "      <td>BONFIM</td>\n",
       "      <td>0</td>\n",
       "      <td>0</td>\n",
       "      <td>0</td>\n",
       "      <td>0</td>\n",
       "      <td>0</td>\n",
       "      <td>0</td>\n",
       "      <td>Yes</td>\n",
       "    </tr>\n",
       "    <tr>\n",
       "      <th>7422</th>\n",
       "      <td>6.128878e+12</td>\n",
       "      <td>5740970</td>\n",
       "      <td>F</td>\n",
       "      <td>2016-05-25</td>\n",
       "      <td>2016-05-25</td>\n",
       "      <td>51</td>\n",
       "      <td>PRAIA DO CANTO</td>\n",
       "      <td>0</td>\n",
       "      <td>0</td>\n",
       "      <td>0</td>\n",
       "      <td>0</td>\n",
       "      <td>0</td>\n",
       "      <td>0</td>\n",
       "      <td>No</td>\n",
       "    </tr>\n",
       "    <tr>\n",
       "      <th>7492</th>\n",
       "      <td>4.167557e+14</td>\n",
       "      <td>5681506</td>\n",
       "      <td>M</td>\n",
       "      <td>2016-05-10</td>\n",
       "      <td>2016-05-10</td>\n",
       "      <td>33</td>\n",
       "      <td>BONFIM</td>\n",
       "      <td>0</td>\n",
       "      <td>0</td>\n",
       "      <td>0</td>\n",
       "      <td>0</td>\n",
       "      <td>0</td>\n",
       "      <td>0</td>\n",
       "      <td>No</td>\n",
       "    </tr>\n",
       "    <tr>\n",
       "      <th>7521</th>\n",
       "      <td>6.128878e+12</td>\n",
       "      <td>5734011</td>\n",
       "      <td>F</td>\n",
       "      <td>2016-05-24</td>\n",
       "      <td>2016-05-24</td>\n",
       "      <td>51</td>\n",
       "      <td>PRAIA DO CANTO</td>\n",
       "      <td>0</td>\n",
       "      <td>0</td>\n",
       "      <td>0</td>\n",
       "      <td>0</td>\n",
       "      <td>0</td>\n",
       "      <td>0</td>\n",
       "      <td>No</td>\n",
       "    </tr>\n",
       "    <tr>\n",
       "      <th>7588</th>\n",
       "      <td>6.128878e+12</td>\n",
       "      <td>5745359</td>\n",
       "      <td>F</td>\n",
       "      <td>2016-05-30</td>\n",
       "      <td>2016-05-30</td>\n",
       "      <td>51</td>\n",
       "      <td>PRAIA DO CANTO</td>\n",
       "      <td>0</td>\n",
       "      <td>0</td>\n",
       "      <td>0</td>\n",
       "      <td>0</td>\n",
       "      <td>0</td>\n",
       "      <td>0</td>\n",
       "      <td>No</td>\n",
       "    </tr>\n",
       "    <tr>\n",
       "      <th>7623</th>\n",
       "      <td>4.167557e+14</td>\n",
       "      <td>5689429</td>\n",
       "      <td>M</td>\n",
       "      <td>2016-05-12</td>\n",
       "      <td>2016-05-12</td>\n",
       "      <td>33</td>\n",
       "      <td>BONFIM</td>\n",
       "      <td>0</td>\n",
       "      <td>0</td>\n",
       "      <td>0</td>\n",
       "      <td>0</td>\n",
       "      <td>0</td>\n",
       "      <td>0</td>\n",
       "      <td>No</td>\n",
       "    </tr>\n",
       "    <tr>\n",
       "      <th>7639</th>\n",
       "      <td>4.167557e+14</td>\n",
       "      <td>5662503</td>\n",
       "      <td>M</td>\n",
       "      <td>2016-05-05</td>\n",
       "      <td>2016-05-05</td>\n",
       "      <td>33</td>\n",
       "      <td>BONFIM</td>\n",
       "      <td>0</td>\n",
       "      <td>0</td>\n",
       "      <td>0</td>\n",
       "      <td>0</td>\n",
       "      <td>0</td>\n",
       "      <td>0</td>\n",
       "      <td>No</td>\n",
       "    </tr>\n",
       "    <tr>\n",
       "      <th>7670</th>\n",
       "      <td>4.167557e+14</td>\n",
       "      <td>5669839</td>\n",
       "      <td>M</td>\n",
       "      <td>2016-05-06</td>\n",
       "      <td>2016-05-06</td>\n",
       "      <td>33</td>\n",
       "      <td>BONFIM</td>\n",
       "      <td>0</td>\n",
       "      <td>0</td>\n",
       "      <td>0</td>\n",
       "      <td>0</td>\n",
       "      <td>0</td>\n",
       "      <td>0</td>\n",
       "      <td>No</td>\n",
       "    </tr>\n",
       "    <tr>\n",
       "      <th>7687</th>\n",
       "      <td>4.167557e+14</td>\n",
       "      <td>5682192</td>\n",
       "      <td>M</td>\n",
       "      <td>2016-05-10</td>\n",
       "      <td>2016-05-10</td>\n",
       "      <td>33</td>\n",
       "      <td>BONFIM</td>\n",
       "      <td>0</td>\n",
       "      <td>0</td>\n",
       "      <td>0</td>\n",
       "      <td>0</td>\n",
       "      <td>0</td>\n",
       "      <td>0</td>\n",
       "      <td>No</td>\n",
       "    </tr>\n",
       "    <tr>\n",
       "      <th>7760</th>\n",
       "      <td>4.167557e+14</td>\n",
       "      <td>5630506</td>\n",
       "      <td>M</td>\n",
       "      <td>2016-04-27</td>\n",
       "      <td>2016-05-04</td>\n",
       "      <td>33</td>\n",
       "      <td>BONFIM</td>\n",
       "      <td>0</td>\n",
       "      <td>0</td>\n",
       "      <td>0</td>\n",
       "      <td>0</td>\n",
       "      <td>0</td>\n",
       "      <td>0</td>\n",
       "      <td>Yes</td>\n",
       "    </tr>\n",
       "    <tr>\n",
       "      <th>7774</th>\n",
       "      <td>6.128878e+12</td>\n",
       "      <td>5713649</td>\n",
       "      <td>F</td>\n",
       "      <td>2016-05-18</td>\n",
       "      <td>2016-05-18</td>\n",
       "      <td>51</td>\n",
       "      <td>PRAIA DO CANTO</td>\n",
       "      <td>0</td>\n",
       "      <td>0</td>\n",
       "      <td>0</td>\n",
       "      <td>0</td>\n",
       "      <td>0</td>\n",
       "      <td>0</td>\n",
       "      <td>No</td>\n",
       "    </tr>\n",
       "    <tr>\n",
       "      <th>7819</th>\n",
       "      <td>6.128878e+12</td>\n",
       "      <td>5725400</td>\n",
       "      <td>F</td>\n",
       "      <td>2016-05-20</td>\n",
       "      <td>2016-05-20</td>\n",
       "      <td>51</td>\n",
       "      <td>PRAIA DO CANTO</td>\n",
       "      <td>0</td>\n",
       "      <td>0</td>\n",
       "      <td>0</td>\n",
       "      <td>0</td>\n",
       "      <td>0</td>\n",
       "      <td>0</td>\n",
       "      <td>No</td>\n",
       "    </tr>\n",
       "    <tr>\n",
       "      <th>8407</th>\n",
       "      <td>4.167557e+14</td>\n",
       "      <td>5630538</td>\n",
       "      <td>M</td>\n",
       "      <td>2016-04-27</td>\n",
       "      <td>2016-05-04</td>\n",
       "      <td>33</td>\n",
       "      <td>BONFIM</td>\n",
       "      <td>0</td>\n",
       "      <td>0</td>\n",
       "      <td>0</td>\n",
       "      <td>0</td>\n",
       "      <td>0</td>\n",
       "      <td>0</td>\n",
       "      <td>Yes</td>\n",
       "    </tr>\n",
       "    <tr>\n",
       "      <th>8477</th>\n",
       "      <td>6.128878e+12</td>\n",
       "      <td>5738921</td>\n",
       "      <td>F</td>\n",
       "      <td>2016-05-25</td>\n",
       "      <td>2016-05-25</td>\n",
       "      <td>51</td>\n",
       "      <td>PRAIA DO CANTO</td>\n",
       "      <td>0</td>\n",
       "      <td>0</td>\n",
       "      <td>0</td>\n",
       "      <td>0</td>\n",
       "      <td>0</td>\n",
       "      <td>0</td>\n",
       "      <td>No</td>\n",
       "    </tr>\n",
       "    <tr>\n",
       "      <th>8634</th>\n",
       "      <td>6.128878e+12</td>\n",
       "      <td>5734690</td>\n",
       "      <td>F</td>\n",
       "      <td>2016-05-24</td>\n",
       "      <td>2016-05-24</td>\n",
       "      <td>51</td>\n",
       "      <td>PRAIA DO CANTO</td>\n",
       "      <td>0</td>\n",
       "      <td>0</td>\n",
       "      <td>0</td>\n",
       "      <td>0</td>\n",
       "      <td>0</td>\n",
       "      <td>0</td>\n",
       "      <td>No</td>\n",
       "    </tr>\n",
       "    <tr>\n",
       "      <th>8637</th>\n",
       "      <td>6.128878e+12</td>\n",
       "      <td>5754265</td>\n",
       "      <td>F</td>\n",
       "      <td>2016-05-31</td>\n",
       "      <td>2016-05-31</td>\n",
       "      <td>51</td>\n",
       "      <td>PRAIA DO CANTO</td>\n",
       "      <td>0</td>\n",
       "      <td>0</td>\n",
       "      <td>0</td>\n",
       "      <td>0</td>\n",
       "      <td>0</td>\n",
       "      <td>0</td>\n",
       "      <td>No</td>\n",
       "    </tr>\n",
       "    <tr>\n",
       "      <th>8696</th>\n",
       "      <td>4.167557e+14</td>\n",
       "      <td>5673255</td>\n",
       "      <td>M</td>\n",
       "      <td>2016-05-09</td>\n",
       "      <td>2016-05-09</td>\n",
       "      <td>33</td>\n",
       "      <td>BONFIM</td>\n",
       "      <td>0</td>\n",
       "      <td>0</td>\n",
       "      <td>0</td>\n",
       "      <td>0</td>\n",
       "      <td>0</td>\n",
       "      <td>0</td>\n",
       "      <td>No</td>\n",
       "    </tr>\n",
       "    <tr>\n",
       "      <th>8706</th>\n",
       "      <td>4.167557e+14</td>\n",
       "      <td>5645142</td>\n",
       "      <td>M</td>\n",
       "      <td>2016-05-02</td>\n",
       "      <td>2016-05-02</td>\n",
       "      <td>33</td>\n",
       "      <td>BONFIM</td>\n",
       "      <td>0</td>\n",
       "      <td>0</td>\n",
       "      <td>0</td>\n",
       "      <td>0</td>\n",
       "      <td>0</td>\n",
       "      <td>0</td>\n",
       "      <td>No</td>\n",
       "    </tr>\n",
       "    <tr>\n",
       "      <th>8793</th>\n",
       "      <td>6.128878e+12</td>\n",
       "      <td>5752919</td>\n",
       "      <td>F</td>\n",
       "      <td>2016-05-31</td>\n",
       "      <td>2016-05-31</td>\n",
       "      <td>51</td>\n",
       "      <td>PRAIA DO CANTO</td>\n",
       "      <td>0</td>\n",
       "      <td>0</td>\n",
       "      <td>0</td>\n",
       "      <td>0</td>\n",
       "      <td>0</td>\n",
       "      <td>0</td>\n",
       "      <td>No</td>\n",
       "    </tr>\n",
       "    <tr>\n",
       "      <th>8797</th>\n",
       "      <td>6.128878e+12</td>\n",
       "      <td>5732768</td>\n",
       "      <td>F</td>\n",
       "      <td>2016-05-24</td>\n",
       "      <td>2016-05-24</td>\n",
       "      <td>51</td>\n",
       "      <td>PRAIA DO CANTO</td>\n",
       "      <td>0</td>\n",
       "      <td>0</td>\n",
       "      <td>0</td>\n",
       "      <td>0</td>\n",
       "      <td>0</td>\n",
       "      <td>0</td>\n",
       "      <td>No</td>\n",
       "    </tr>\n",
       "    <tr>\n",
       "      <th>8801</th>\n",
       "      <td>4.167557e+14</td>\n",
       "      <td>5680659</td>\n",
       "      <td>M</td>\n",
       "      <td>2016-05-10</td>\n",
       "      <td>2016-05-10</td>\n",
       "      <td>33</td>\n",
       "      <td>BONFIM</td>\n",
       "      <td>0</td>\n",
       "      <td>0</td>\n",
       "      <td>0</td>\n",
       "      <td>0</td>\n",
       "      <td>0</td>\n",
       "      <td>0</td>\n",
       "      <td>No</td>\n",
       "    </tr>\n",
       "    <tr>\n",
       "      <th>8868</th>\n",
       "      <td>4.167557e+14</td>\n",
       "      <td>5668029</td>\n",
       "      <td>M</td>\n",
       "      <td>2016-05-06</td>\n",
       "      <td>2016-05-06</td>\n",
       "      <td>33</td>\n",
       "      <td>BONFIM</td>\n",
       "      <td>0</td>\n",
       "      <td>0</td>\n",
       "      <td>0</td>\n",
       "      <td>0</td>\n",
       "      <td>0</td>\n",
       "      <td>0</td>\n",
       "      <td>No</td>\n",
       "    </tr>\n",
       "    <tr>\n",
       "      <th>13340</th>\n",
       "      <td>6.128878e+12</td>\n",
       "      <td>5743846</td>\n",
       "      <td>F</td>\n",
       "      <td>2016-05-30</td>\n",
       "      <td>2016-05-30</td>\n",
       "      <td>51</td>\n",
       "      <td>PRAIA DO CANTO</td>\n",
       "      <td>0</td>\n",
       "      <td>0</td>\n",
       "      <td>0</td>\n",
       "      <td>0</td>\n",
       "      <td>0</td>\n",
       "      <td>0</td>\n",
       "      <td>No</td>\n",
       "    </tr>\n",
       "    <tr>\n",
       "      <th>25407</th>\n",
       "      <td>4.167557e+14</td>\n",
       "      <td>5715410</td>\n",
       "      <td>M</td>\n",
       "      <td>2016-05-18</td>\n",
       "      <td>2016-05-18</td>\n",
       "      <td>33</td>\n",
       "      <td>BONFIM</td>\n",
       "      <td>0</td>\n",
       "      <td>0</td>\n",
       "      <td>0</td>\n",
       "      <td>0</td>\n",
       "      <td>0</td>\n",
       "      <td>0</td>\n",
       "      <td>No</td>\n",
       "    </tr>\n",
       "    <tr>\n",
       "      <th>25432</th>\n",
       "      <td>6.128878e+12</td>\n",
       "      <td>5748283</td>\n",
       "      <td>F</td>\n",
       "      <td>2016-05-30</td>\n",
       "      <td>2016-05-30</td>\n",
       "      <td>51</td>\n",
       "      <td>PRAIA DO CANTO</td>\n",
       "      <td>0</td>\n",
       "      <td>0</td>\n",
       "      <td>0</td>\n",
       "      <td>0</td>\n",
       "      <td>0</td>\n",
       "      <td>0</td>\n",
       "      <td>No</td>\n",
       "    </tr>\n",
       "    <tr>\n",
       "      <th>25474</th>\n",
       "      <td>6.128878e+12</td>\n",
       "      <td>5748217</td>\n",
       "      <td>F</td>\n",
       "      <td>2016-05-30</td>\n",
       "      <td>2016-05-30</td>\n",
       "      <td>51</td>\n",
       "      <td>PRAIA DO CANTO</td>\n",
       "      <td>0</td>\n",
       "      <td>0</td>\n",
       "      <td>0</td>\n",
       "      <td>0</td>\n",
       "      <td>0</td>\n",
       "      <td>0</td>\n",
       "      <td>No</td>\n",
       "    </tr>\n",
       "    <tr>\n",
       "      <th>25479</th>\n",
       "      <td>4.167557e+14</td>\n",
       "      <td>5677166</td>\n",
       "      <td>M</td>\n",
       "      <td>2016-05-09</td>\n",
       "      <td>2016-05-09</td>\n",
       "      <td>33</td>\n",
       "      <td>BONFIM</td>\n",
       "      <td>0</td>\n",
       "      <td>0</td>\n",
       "      <td>0</td>\n",
       "      <td>0</td>\n",
       "      <td>0</td>\n",
       "      <td>0</td>\n",
       "      <td>No</td>\n",
       "    </tr>\n",
       "    <tr>\n",
       "      <th>25488</th>\n",
       "      <td>6.128878e+12</td>\n",
       "      <td>5728564</td>\n",
       "      <td>F</td>\n",
       "      <td>2016-05-20</td>\n",
       "      <td>2016-05-20</td>\n",
       "      <td>51</td>\n",
       "      <td>PRAIA DO CANTO</td>\n",
       "      <td>0</td>\n",
       "      <td>0</td>\n",
       "      <td>0</td>\n",
       "      <td>0</td>\n",
       "      <td>0</td>\n",
       "      <td>0</td>\n",
       "      <td>No</td>\n",
       "    </tr>\n",
       "    <tr>\n",
       "      <th>25493</th>\n",
       "      <td>4.167557e+14</td>\n",
       "      <td>5697584</td>\n",
       "      <td>M</td>\n",
       "      <td>2016-05-13</td>\n",
       "      <td>2016-05-13</td>\n",
       "      <td>33</td>\n",
       "      <td>BONFIM</td>\n",
       "      <td>0</td>\n",
       "      <td>0</td>\n",
       "      <td>0</td>\n",
       "      <td>0</td>\n",
       "      <td>0</td>\n",
       "      <td>0</td>\n",
       "      <td>No</td>\n",
       "    </tr>\n",
       "    <tr>\n",
       "      <th>25508</th>\n",
       "      <td>4.167557e+14</td>\n",
       "      <td>5671204</td>\n",
       "      <td>M</td>\n",
       "      <td>2016-05-06</td>\n",
       "      <td>2016-05-06</td>\n",
       "      <td>33</td>\n",
       "      <td>BONFIM</td>\n",
       "      <td>0</td>\n",
       "      <td>0</td>\n",
       "      <td>0</td>\n",
       "      <td>0</td>\n",
       "      <td>0</td>\n",
       "      <td>0</td>\n",
       "      <td>No</td>\n",
       "    </tr>\n",
       "    <tr>\n",
       "      <th>31564</th>\n",
       "      <td>6.128878e+12</td>\n",
       "      <td>5714528</td>\n",
       "      <td>F</td>\n",
       "      <td>2016-05-18</td>\n",
       "      <td>2016-05-19</td>\n",
       "      <td>51</td>\n",
       "      <td>PRAIA DO CANTO</td>\n",
       "      <td>0</td>\n",
       "      <td>0</td>\n",
       "      <td>0</td>\n",
       "      <td>0</td>\n",
       "      <td>0</td>\n",
       "      <td>0</td>\n",
       "      <td>No</td>\n",
       "    </tr>\n",
       "    <tr>\n",
       "      <th>35647</th>\n",
       "      <td>4.167557e+14</td>\n",
       "      <td>5674649</td>\n",
       "      <td>M</td>\n",
       "      <td>2016-05-09</td>\n",
       "      <td>2016-05-09</td>\n",
       "      <td>33</td>\n",
       "      <td>BONFIM</td>\n",
       "      <td>0</td>\n",
       "      <td>0</td>\n",
       "      <td>0</td>\n",
       "      <td>0</td>\n",
       "      <td>0</td>\n",
       "      <td>0</td>\n",
       "      <td>No</td>\n",
       "    </tr>\n",
       "    <tr>\n",
       "      <th>35685</th>\n",
       "      <td>4.167557e+14</td>\n",
       "      <td>5649175</td>\n",
       "      <td>M</td>\n",
       "      <td>2016-05-02</td>\n",
       "      <td>2016-05-02</td>\n",
       "      <td>33</td>\n",
       "      <td>BONFIM</td>\n",
       "      <td>0</td>\n",
       "      <td>0</td>\n",
       "      <td>0</td>\n",
       "      <td>0</td>\n",
       "      <td>0</td>\n",
       "      <td>0</td>\n",
       "      <td>No</td>\n",
       "    </tr>\n",
       "    <tr>\n",
       "      <th>35697</th>\n",
       "      <td>6.128878e+12</td>\n",
       "      <td>5721689</td>\n",
       "      <td>F</td>\n",
       "      <td>2016-05-19</td>\n",
       "      <td>2016-05-19</td>\n",
       "      <td>51</td>\n",
       "      <td>PRAIA DO CANTO</td>\n",
       "      <td>0</td>\n",
       "      <td>0</td>\n",
       "      <td>0</td>\n",
       "      <td>0</td>\n",
       "      <td>0</td>\n",
       "      <td>0</td>\n",
       "      <td>No</td>\n",
       "    </tr>\n",
       "    <tr>\n",
       "      <th>40532</th>\n",
       "      <td>4.167557e+14</td>\n",
       "      <td>5681996</td>\n",
       "      <td>M</td>\n",
       "      <td>2016-05-10</td>\n",
       "      <td>2016-05-10</td>\n",
       "      <td>33</td>\n",
       "      <td>BONFIM</td>\n",
       "      <td>0</td>\n",
       "      <td>0</td>\n",
       "      <td>0</td>\n",
       "      <td>0</td>\n",
       "      <td>0</td>\n",
       "      <td>0</td>\n",
       "      <td>No</td>\n",
       "    </tr>\n",
       "    <tr>\n",
       "      <th>40546</th>\n",
       "      <td>4.167557e+14</td>\n",
       "      <td>5721197</td>\n",
       "      <td>M</td>\n",
       "      <td>2016-05-19</td>\n",
       "      <td>2016-05-19</td>\n",
       "      <td>33</td>\n",
       "      <td>BONFIM</td>\n",
       "      <td>0</td>\n",
       "      <td>0</td>\n",
       "      <td>0</td>\n",
       "      <td>0</td>\n",
       "      <td>0</td>\n",
       "      <td>0</td>\n",
       "      <td>Yes</td>\n",
       "    </tr>\n",
       "    <tr>\n",
       "      <th>40550</th>\n",
       "      <td>4.167557e+14</td>\n",
       "      <td>5692535</td>\n",
       "      <td>M</td>\n",
       "      <td>2016-05-12</td>\n",
       "      <td>2016-05-12</td>\n",
       "      <td>33</td>\n",
       "      <td>BONFIM</td>\n",
       "      <td>0</td>\n",
       "      <td>0</td>\n",
       "      <td>0</td>\n",
       "      <td>0</td>\n",
       "      <td>0</td>\n",
       "      <td>0</td>\n",
       "      <td>No</td>\n",
       "    </tr>\n",
       "    <tr>\n",
       "      <th>40551</th>\n",
       "      <td>4.167557e+14</td>\n",
       "      <td>5724162</td>\n",
       "      <td>M</td>\n",
       "      <td>2016-05-20</td>\n",
       "      <td>2016-05-20</td>\n",
       "      <td>33</td>\n",
       "      <td>BONFIM</td>\n",
       "      <td>0</td>\n",
       "      <td>0</td>\n",
       "      <td>0</td>\n",
       "      <td>0</td>\n",
       "      <td>0</td>\n",
       "      <td>0</td>\n",
       "      <td>Yes</td>\n",
       "    </tr>\n",
       "    <tr>\n",
       "      <th>40560</th>\n",
       "      <td>4.167557e+14</td>\n",
       "      <td>5697433</td>\n",
       "      <td>M</td>\n",
       "      <td>2016-05-13</td>\n",
       "      <td>2016-05-13</td>\n",
       "      <td>33</td>\n",
       "      <td>BONFIM</td>\n",
       "      <td>0</td>\n",
       "      <td>0</td>\n",
       "      <td>0</td>\n",
       "      <td>0</td>\n",
       "      <td>0</td>\n",
       "      <td>0</td>\n",
       "      <td>No</td>\n",
       "    </tr>\n",
       "    <tr>\n",
       "      <th>40562</th>\n",
       "      <td>4.167557e+14</td>\n",
       "      <td>5671202</td>\n",
       "      <td>M</td>\n",
       "      <td>2016-05-06</td>\n",
       "      <td>2016-05-06</td>\n",
       "      <td>33</td>\n",
       "      <td>BONFIM</td>\n",
       "      <td>0</td>\n",
       "      <td>0</td>\n",
       "      <td>0</td>\n",
       "      <td>0</td>\n",
       "      <td>0</td>\n",
       "      <td>0</td>\n",
       "      <td>No</td>\n",
       "    </tr>\n",
       "    <tr>\n",
       "      <th>85029</th>\n",
       "      <td>6.128878e+12</td>\n",
       "      <td>5763189</td>\n",
       "      <td>F</td>\n",
       "      <td>2016-06-02</td>\n",
       "      <td>2016-06-07</td>\n",
       "      <td>51</td>\n",
       "      <td>PRAIA DO CANTO</td>\n",
       "      <td>0</td>\n",
       "      <td>0</td>\n",
       "      <td>0</td>\n",
       "      <td>0</td>\n",
       "      <td>0</td>\n",
       "      <td>1</td>\n",
       "      <td>Yes</td>\n",
       "    </tr>\n",
       "    <tr>\n",
       "      <th>100356</th>\n",
       "      <td>6.128878e+12</td>\n",
       "      <td>5767199</td>\n",
       "      <td>F</td>\n",
       "      <td>2016-06-02</td>\n",
       "      <td>2016-06-02</td>\n",
       "      <td>51</td>\n",
       "      <td>PRAIA DO CANTO</td>\n",
       "      <td>0</td>\n",
       "      <td>0</td>\n",
       "      <td>0</td>\n",
       "      <td>0</td>\n",
       "      <td>0</td>\n",
       "      <td>0</td>\n",
       "      <td>No</td>\n",
       "    </tr>\n",
       "    <tr>\n",
       "      <th>101529</th>\n",
       "      <td>6.128878e+12</td>\n",
       "      <td>5758939</td>\n",
       "      <td>F</td>\n",
       "      <td>2016-06-01</td>\n",
       "      <td>2016-06-02</td>\n",
       "      <td>51</td>\n",
       "      <td>PRAIA DO CANTO</td>\n",
       "      <td>0</td>\n",
       "      <td>0</td>\n",
       "      <td>0</td>\n",
       "      <td>0</td>\n",
       "      <td>0</td>\n",
       "      <td>0</td>\n",
       "      <td>No</td>\n",
       "    </tr>\n",
       "    <tr>\n",
       "      <th>103531</th>\n",
       "      <td>4.167557e+14</td>\n",
       "      <td>5760698</td>\n",
       "      <td>M</td>\n",
       "      <td>2016-06-01</td>\n",
       "      <td>2016-06-01</td>\n",
       "      <td>33</td>\n",
       "      <td>BONFIM</td>\n",
       "      <td>0</td>\n",
       "      <td>0</td>\n",
       "      <td>0</td>\n",
       "      <td>0</td>\n",
       "      <td>0</td>\n",
       "      <td>0</td>\n",
       "      <td>No</td>\n",
       "    </tr>\n",
       "    <tr>\n",
       "      <th>108766</th>\n",
       "      <td>6.128878e+12</td>\n",
       "      <td>5760563</td>\n",
       "      <td>F</td>\n",
       "      <td>2016-06-01</td>\n",
       "      <td>2016-06-01</td>\n",
       "      <td>51</td>\n",
       "      <td>PRAIA DO CANTO</td>\n",
       "      <td>0</td>\n",
       "      <td>0</td>\n",
       "      <td>0</td>\n",
       "      <td>0</td>\n",
       "      <td>0</td>\n",
       "      <td>0</td>\n",
       "      <td>No</td>\n",
       "    </tr>\n",
       "    <tr>\n",
       "      <th>109059</th>\n",
       "      <td>6.128878e+12</td>\n",
       "      <td>5763523</td>\n",
       "      <td>F</td>\n",
       "      <td>2016-06-02</td>\n",
       "      <td>2016-06-02</td>\n",
       "      <td>51</td>\n",
       "      <td>PRAIA DO CANTO</td>\n",
       "      <td>0</td>\n",
       "      <td>0</td>\n",
       "      <td>0</td>\n",
       "      <td>0</td>\n",
       "      <td>0</td>\n",
       "      <td>0</td>\n",
       "      <td>No</td>\n",
       "    </tr>\n",
       "    <tr>\n",
       "      <th>109156</th>\n",
       "      <td>6.128878e+12</td>\n",
       "      <td>5758167</td>\n",
       "      <td>F</td>\n",
       "      <td>2016-06-01</td>\n",
       "      <td>2016-06-08</td>\n",
       "      <td>51</td>\n",
       "      <td>PRAIA DO CANTO</td>\n",
       "      <td>0</td>\n",
       "      <td>0</td>\n",
       "      <td>0</td>\n",
       "      <td>0</td>\n",
       "      <td>0</td>\n",
       "      <td>0</td>\n",
       "      <td>No</td>\n",
       "    </tr>\n",
       "    <tr>\n",
       "      <th>109172</th>\n",
       "      <td>6.128878e+12</td>\n",
       "      <td>5737671</td>\n",
       "      <td>F</td>\n",
       "      <td>2016-05-25</td>\n",
       "      <td>2016-06-01</td>\n",
       "      <td>51</td>\n",
       "      <td>PRAIA DO CANTO</td>\n",
       "      <td>0</td>\n",
       "      <td>0</td>\n",
       "      <td>0</td>\n",
       "      <td>0</td>\n",
       "      <td>0</td>\n",
       "      <td>1</td>\n",
       "      <td>No</td>\n",
       "    </tr>\n",
       "    <tr>\n",
       "      <th>109193</th>\n",
       "      <td>6.128878e+12</td>\n",
       "      <td>5714540</td>\n",
       "      <td>F</td>\n",
       "      <td>2016-05-18</td>\n",
       "      <td>2016-06-08</td>\n",
       "      <td>51</td>\n",
       "      <td>PRAIA DO CANTO</td>\n",
       "      <td>0</td>\n",
       "      <td>0</td>\n",
       "      <td>0</td>\n",
       "      <td>0</td>\n",
       "      <td>0</td>\n",
       "      <td>1</td>\n",
       "      <td>No</td>\n",
       "    </tr>\n",
       "    <tr>\n",
       "      <th>109227</th>\n",
       "      <td>6.128878e+12</td>\n",
       "      <td>5765154</td>\n",
       "      <td>F</td>\n",
       "      <td>2016-06-02</td>\n",
       "      <td>2016-06-02</td>\n",
       "      <td>51</td>\n",
       "      <td>PRAIA DO CANTO</td>\n",
       "      <td>0</td>\n",
       "      <td>0</td>\n",
       "      <td>0</td>\n",
       "      <td>0</td>\n",
       "      <td>0</td>\n",
       "      <td>0</td>\n",
       "      <td>No</td>\n",
       "    </tr>\n",
       "    <tr>\n",
       "      <th>109236</th>\n",
       "      <td>6.128878e+12</td>\n",
       "      <td>5756976</td>\n",
       "      <td>F</td>\n",
       "      <td>2016-06-01</td>\n",
       "      <td>2016-06-01</td>\n",
       "      <td>51</td>\n",
       "      <td>PRAIA DO CANTO</td>\n",
       "      <td>0</td>\n",
       "      <td>0</td>\n",
       "      <td>0</td>\n",
       "      <td>0</td>\n",
       "      <td>0</td>\n",
       "      <td>0</td>\n",
       "      <td>No</td>\n",
       "    </tr>\n",
       "  </tbody>\n",
       "</table>\n",
       "</div>"
      ],
      "text/plain": [
       "          patient_id  appointment_id gender scheduled_day appointment_day  \\\n",
       "3005    4.167557e+14         5638977      M    2016-04-29      2016-04-29   \n",
       "3063    4.167557e+14         5641054      M    2016-04-29      2016-04-29   \n",
       "3104    4.167557e+14         5642799      M    2016-04-29      2016-04-29   \n",
       "7115    6.128878e+12         5736809      F    2016-05-25      2016-05-25   \n",
       "7118    4.167557e+14         5711893      M    2016-05-18      2016-05-18   \n",
       "7153    6.128878e+12         5719600      F    2016-05-19      2016-05-19   \n",
       "7289    4.167557e+14         5691240      M    2016-05-12      2016-05-12   \n",
       "7295    6.128878e+12         5737698      F    2016-05-25      2016-05-31   \n",
       "7302    6.128878e+12         5724897      F    2016-05-20      2016-05-25   \n",
       "7388    4.167557e+14         5692772      M    2016-05-12      2016-05-19   \n",
       "7422    6.128878e+12         5740970      F    2016-05-25      2016-05-25   \n",
       "7492    4.167557e+14         5681506      M    2016-05-10      2016-05-10   \n",
       "7521    6.128878e+12         5734011      F    2016-05-24      2016-05-24   \n",
       "7588    6.128878e+12         5745359      F    2016-05-30      2016-05-30   \n",
       "7623    4.167557e+14         5689429      M    2016-05-12      2016-05-12   \n",
       "7639    4.167557e+14         5662503      M    2016-05-05      2016-05-05   \n",
       "7670    4.167557e+14         5669839      M    2016-05-06      2016-05-06   \n",
       "7687    4.167557e+14         5682192      M    2016-05-10      2016-05-10   \n",
       "7760    4.167557e+14         5630506      M    2016-04-27      2016-05-04   \n",
       "7774    6.128878e+12         5713649      F    2016-05-18      2016-05-18   \n",
       "7819    6.128878e+12         5725400      F    2016-05-20      2016-05-20   \n",
       "8407    4.167557e+14         5630538      M    2016-04-27      2016-05-04   \n",
       "8477    6.128878e+12         5738921      F    2016-05-25      2016-05-25   \n",
       "8634    6.128878e+12         5734690      F    2016-05-24      2016-05-24   \n",
       "8637    6.128878e+12         5754265      F    2016-05-31      2016-05-31   \n",
       "8696    4.167557e+14         5673255      M    2016-05-09      2016-05-09   \n",
       "8706    4.167557e+14         5645142      M    2016-05-02      2016-05-02   \n",
       "8793    6.128878e+12         5752919      F    2016-05-31      2016-05-31   \n",
       "8797    6.128878e+12         5732768      F    2016-05-24      2016-05-24   \n",
       "8801    4.167557e+14         5680659      M    2016-05-10      2016-05-10   \n",
       "8868    4.167557e+14         5668029      M    2016-05-06      2016-05-06   \n",
       "13340   6.128878e+12         5743846      F    2016-05-30      2016-05-30   \n",
       "25407   4.167557e+14         5715410      M    2016-05-18      2016-05-18   \n",
       "25432   6.128878e+12         5748283      F    2016-05-30      2016-05-30   \n",
       "25474   6.128878e+12         5748217      F    2016-05-30      2016-05-30   \n",
       "25479   4.167557e+14         5677166      M    2016-05-09      2016-05-09   \n",
       "25488   6.128878e+12         5728564      F    2016-05-20      2016-05-20   \n",
       "25493   4.167557e+14         5697584      M    2016-05-13      2016-05-13   \n",
       "25508   4.167557e+14         5671204      M    2016-05-06      2016-05-06   \n",
       "31564   6.128878e+12         5714528      F    2016-05-18      2016-05-19   \n",
       "35647   4.167557e+14         5674649      M    2016-05-09      2016-05-09   \n",
       "35685   4.167557e+14         5649175      M    2016-05-02      2016-05-02   \n",
       "35697   6.128878e+12         5721689      F    2016-05-19      2016-05-19   \n",
       "40532   4.167557e+14         5681996      M    2016-05-10      2016-05-10   \n",
       "40546   4.167557e+14         5721197      M    2016-05-19      2016-05-19   \n",
       "40550   4.167557e+14         5692535      M    2016-05-12      2016-05-12   \n",
       "40551   4.167557e+14         5724162      M    2016-05-20      2016-05-20   \n",
       "40560   4.167557e+14         5697433      M    2016-05-13      2016-05-13   \n",
       "40562   4.167557e+14         5671202      M    2016-05-06      2016-05-06   \n",
       "85029   6.128878e+12         5763189      F    2016-06-02      2016-06-07   \n",
       "100356  6.128878e+12         5767199      F    2016-06-02      2016-06-02   \n",
       "101529  6.128878e+12         5758939      F    2016-06-01      2016-06-02   \n",
       "103531  4.167557e+14         5760698      M    2016-06-01      2016-06-01   \n",
       "108766  6.128878e+12         5760563      F    2016-06-01      2016-06-01   \n",
       "109059  6.128878e+12         5763523      F    2016-06-02      2016-06-02   \n",
       "109156  6.128878e+12         5758167      F    2016-06-01      2016-06-08   \n",
       "109172  6.128878e+12         5737671      F    2016-05-25      2016-06-01   \n",
       "109193  6.128878e+12         5714540      F    2016-05-18      2016-06-08   \n",
       "109227  6.128878e+12         5765154      F    2016-06-02      2016-06-02   \n",
       "109236  6.128878e+12         5756976      F    2016-06-01      2016-06-01   \n",
       "\n",
       "        age   neighbourhood  scholarship  hipertension  diabetes  alcoholism  \\\n",
       "3005     33          BONFIM            0             0         0           0   \n",
       "3063     33          BONFIM            0             0         0           0   \n",
       "3104     33          BONFIM            0             0         0           0   \n",
       "7115     51  PRAIA DO CANTO            0             0         0           0   \n",
       "7118     33          BONFIM            0             0         0           0   \n",
       "7153     51  PRAIA DO CANTO            0             0         0           0   \n",
       "7289     33          BONFIM            0             0         0           0   \n",
       "7295     51  PRAIA DO CANTO            0             0         0           0   \n",
       "7302     51  PRAIA DO CANTO            0             0         0           0   \n",
       "7388     33          BONFIM            0             0         0           0   \n",
       "7422     51  PRAIA DO CANTO            0             0         0           0   \n",
       "7492     33          BONFIM            0             0         0           0   \n",
       "7521     51  PRAIA DO CANTO            0             0         0           0   \n",
       "7588     51  PRAIA DO CANTO            0             0         0           0   \n",
       "7623     33          BONFIM            0             0         0           0   \n",
       "7639     33          BONFIM            0             0         0           0   \n",
       "7670     33          BONFIM            0             0         0           0   \n",
       "7687     33          BONFIM            0             0         0           0   \n",
       "7760     33          BONFIM            0             0         0           0   \n",
       "7774     51  PRAIA DO CANTO            0             0         0           0   \n",
       "7819     51  PRAIA DO CANTO            0             0         0           0   \n",
       "8407     33          BONFIM            0             0         0           0   \n",
       "8477     51  PRAIA DO CANTO            0             0         0           0   \n",
       "8634     51  PRAIA DO CANTO            0             0         0           0   \n",
       "8637     51  PRAIA DO CANTO            0             0         0           0   \n",
       "8696     33          BONFIM            0             0         0           0   \n",
       "8706     33          BONFIM            0             0         0           0   \n",
       "8793     51  PRAIA DO CANTO            0             0         0           0   \n",
       "8797     51  PRAIA DO CANTO            0             0         0           0   \n",
       "8801     33          BONFIM            0             0         0           0   \n",
       "8868     33          BONFIM            0             0         0           0   \n",
       "13340    51  PRAIA DO CANTO            0             0         0           0   \n",
       "25407    33          BONFIM            0             0         0           0   \n",
       "25432    51  PRAIA DO CANTO            0             0         0           0   \n",
       "25474    51  PRAIA DO CANTO            0             0         0           0   \n",
       "25479    33          BONFIM            0             0         0           0   \n",
       "25488    51  PRAIA DO CANTO            0             0         0           0   \n",
       "25493    33          BONFIM            0             0         0           0   \n",
       "25508    33          BONFIM            0             0         0           0   \n",
       "31564    51  PRAIA DO CANTO            0             0         0           0   \n",
       "35647    33          BONFIM            0             0         0           0   \n",
       "35685    33          BONFIM            0             0         0           0   \n",
       "35697    51  PRAIA DO CANTO            0             0         0           0   \n",
       "40532    33          BONFIM            0             0         0           0   \n",
       "40546    33          BONFIM            0             0         0           0   \n",
       "40550    33          BONFIM            0             0         0           0   \n",
       "40551    33          BONFIM            0             0         0           0   \n",
       "40560    33          BONFIM            0             0         0           0   \n",
       "40562    33          BONFIM            0             0         0           0   \n",
       "85029    51  PRAIA DO CANTO            0             0         0           0   \n",
       "100356   51  PRAIA DO CANTO            0             0         0           0   \n",
       "101529   51  PRAIA DO CANTO            0             0         0           0   \n",
       "103531   33          BONFIM            0             0         0           0   \n",
       "108766   51  PRAIA DO CANTO            0             0         0           0   \n",
       "109059   51  PRAIA DO CANTO            0             0         0           0   \n",
       "109156   51  PRAIA DO CANTO            0             0         0           0   \n",
       "109172   51  PRAIA DO CANTO            0             0         0           0   \n",
       "109193   51  PRAIA DO CANTO            0             0         0           0   \n",
       "109227   51  PRAIA DO CANTO            0             0         0           0   \n",
       "109236   51  PRAIA DO CANTO            0             0         0           0   \n",
       "\n",
       "        handcap  sms_received no_show  \n",
       "3005          0             0      No  \n",
       "3063          0             0      No  \n",
       "3104          0             0      No  \n",
       "7115          0             0      No  \n",
       "7118          0             0      No  \n",
       "7153          0             0      No  \n",
       "7289          0             0      No  \n",
       "7295          0             1      No  \n",
       "7302          0             1      No  \n",
       "7388          0             0     Yes  \n",
       "7422          0             0      No  \n",
       "7492          0             0      No  \n",
       "7521          0             0      No  \n",
       "7588          0             0      No  \n",
       "7623          0             0      No  \n",
       "7639          0             0      No  \n",
       "7670          0             0      No  \n",
       "7687          0             0      No  \n",
       "7760          0             0     Yes  \n",
       "7774          0             0      No  \n",
       "7819          0             0      No  \n",
       "8407          0             0     Yes  \n",
       "8477          0             0      No  \n",
       "8634          0             0      No  \n",
       "8637          0             0      No  \n",
       "8696          0             0      No  \n",
       "8706          0             0      No  \n",
       "8793          0             0      No  \n",
       "8797          0             0      No  \n",
       "8801          0             0      No  \n",
       "8868          0             0      No  \n",
       "13340         0             0      No  \n",
       "25407         0             0      No  \n",
       "25432         0             0      No  \n",
       "25474         0             0      No  \n",
       "25479         0             0      No  \n",
       "25488         0             0      No  \n",
       "25493         0             0      No  \n",
       "25508         0             0      No  \n",
       "31564         0             0      No  \n",
       "35647         0             0      No  \n",
       "35685         0             0      No  \n",
       "35697         0             0      No  \n",
       "40532         0             0      No  \n",
       "40546         0             0     Yes  \n",
       "40550         0             0      No  \n",
       "40551         0             0     Yes  \n",
       "40560         0             0      No  \n",
       "40562         0             0      No  \n",
       "85029         0             1     Yes  \n",
       "100356        0             0      No  \n",
       "101529        0             0      No  \n",
       "103531        0             0      No  \n",
       "108766        0             0      No  \n",
       "109059        0             0      No  \n",
       "109156        0             0      No  \n",
       "109172        0             1      No  \n",
       "109193        0             1      No  \n",
       "109227        0             0      No  \n",
       "109236        0             0      No  "
      ]
     },
     "execution_count": 151,
     "metadata": {},
     "output_type": "execute_result"
    }
   ],
   "source": [
    "df.query('patient_id == {}'.format(index))"
   ]
  },
  {
   "cell_type": "markdown",
   "metadata": {},
   "source": [
    "### Change no show column <a id='no_show'/>\n",
    "In the column no show, the values Yes means that the patient no showed up. Let's change the values to means that 1 is when the patient showed up and 0 not. I am going to change the column name to showed up to avoid misunderstood. <a href='#topo'>Top</a>"
   ]
  },
  {
   "cell_type": "code",
   "execution_count": 152,
   "metadata": {},
   "outputs": [],
   "source": [
    "import brasil_migue as brm"
   ]
  },
  {
   "cell_type": "code",
   "execution_count": 153,
   "metadata": {},
   "outputs": [
    {
     "data": {
      "text/plain": [
       "0    No\n",
       "1    No\n",
       "2    No\n",
       "3    No\n",
       "Name: no_show, dtype: object"
      ]
     },
     "execution_count": 153,
     "metadata": {},
     "output_type": "execute_result"
    }
   ],
   "source": [
    "df.no_show.head(4)"
   ]
  },
  {
   "cell_type": "code",
   "execution_count": 154,
   "metadata": {
    "scrolled": true
   },
   "outputs": [
    {
     "data": {
      "text/plain": [
       "0    1\n",
       "1    1\n",
       "2    1\n",
       "3    1\n",
       "Name: showed_up, dtype: int64"
      ]
     },
     "execution_count": 154,
     "metadata": {},
     "output_type": "execute_result"
    }
   ],
   "source": [
    "brm.invert_no_show_values(df).showed_up.head(4)"
   ]
  },
  {
   "cell_type": "code",
   "execution_count": 155,
   "metadata": {},
   "outputs": [
    {
     "data": {
      "text/plain": [
       "Index(['patient_id', 'appointment_id', 'gender', 'scheduled_day',\n",
       "       'appointment_day', 'age', 'neighbourhood', 'scholarship',\n",
       "       'hipertension', 'diabetes', 'alcoholism', 'handcap', 'sms_received',\n",
       "       'showed_up'],\n",
       "      dtype='object')"
      ]
     },
     "execution_count": 155,
     "metadata": {},
     "output_type": "execute_result"
    }
   ],
   "source": [
    "df.columns"
   ]
  },
  {
   "cell_type": "markdown",
   "metadata": {},
   "source": [
    "### Check age <a id='check_age'/>\n",
    "I am going to check the column age. <a href='#topo'>Top</a>"
   ]
  },
  {
   "cell_type": "code",
   "execution_count": 156,
   "metadata": {},
   "outputs": [
    {
     "data": {
      "text/plain": [
       "count    110522.000000\n",
       "mean         37.089041\n",
       "std          23.110064\n",
       "min          -1.000000\n",
       "25%          18.000000\n",
       "50%          37.000000\n",
       "75%          55.000000\n",
       "max         115.000000\n",
       "Name: age, dtype: float64"
      ]
     },
     "execution_count": 156,
     "metadata": {},
     "output_type": "execute_result"
    }
   ],
   "source": [
    "df.age.describe()"
   ]
  },
  {
   "cell_type": "code",
   "execution_count": 157,
   "metadata": {
    "scrolled": true
   },
   "outputs": [
    {
     "data": {
      "text/plain": [
       " 0      3539\n",
       " 1      2273\n",
       " 52     1746\n",
       " 49     1652\n",
       " 53     1651\n",
       " 56     1635\n",
       " 38     1628\n",
       " 59     1624\n",
       " 2      1618\n",
       " 50     1613\n",
       " 57     1603\n",
       " 36     1580\n",
       " 51     1567\n",
       " 19     1544\n",
       " 39     1536\n",
       " 37     1533\n",
       " 54     1530\n",
       " 34     1526\n",
       " 33     1524\n",
       " 30     1521\n",
       " 6      1521\n",
       " 3      1513\n",
       " 17     1509\n",
       " 32     1505\n",
       " 5      1489\n",
       " 44     1487\n",
       " 18     1487\n",
       " 58     1469\n",
       " 46     1460\n",
       " 45     1453\n",
       "        ... \n",
       " 74      602\n",
       " 76      571\n",
       " 75      544\n",
       " 78      541\n",
       " 77      527\n",
       " 80      511\n",
       " 81      433\n",
       " 82      392\n",
       " 79      390\n",
       " 84      311\n",
       " 83      280\n",
       " 85      275\n",
       " 86      260\n",
       " 87      184\n",
       " 89      173\n",
       " 88      126\n",
       " 90      109\n",
       " 92       86\n",
       " 91       66\n",
       " 93       53\n",
       " 94       33\n",
       " 95       24\n",
       " 96       17\n",
       " 97       11\n",
       " 98        6\n",
       " 115       5\n",
       " 100       4\n",
       " 102       2\n",
       " 99        1\n",
       "-1         1\n",
       "Name: age, Length: 104, dtype: int64"
      ]
     },
     "execution_count": 157,
     "metadata": {},
     "output_type": "execute_result"
    }
   ],
   "source": [
    "df.age.value_counts()"
   ]
  },
  {
   "cell_type": "markdown",
   "metadata": {},
   "source": [
    "As we can see above, there is some values with age == 0. I can imagine that is a child with just months of live. I am going to check if data is ok for this case."
   ]
  },
  {
   "cell_type": "code",
   "execution_count": 158,
   "metadata": {},
   "outputs": [
    {
     "data": {
      "text/html": [
       "<div>\n",
       "<style scoped>\n",
       "    .dataframe tbody tr th:only-of-type {\n",
       "        vertical-align: middle;\n",
       "    }\n",
       "\n",
       "    .dataframe tbody tr th {\n",
       "        vertical-align: top;\n",
       "    }\n",
       "\n",
       "    .dataframe thead th {\n",
       "        text-align: right;\n",
       "    }\n",
       "</style>\n",
       "<table border=\"1\" class=\"dataframe\">\n",
       "  <thead>\n",
       "    <tr style=\"text-align: right;\">\n",
       "      <th></th>\n",
       "      <th>patient_id</th>\n",
       "      <th>appointment_id</th>\n",
       "      <th>gender</th>\n",
       "      <th>scheduled_day</th>\n",
       "      <th>appointment_day</th>\n",
       "      <th>age</th>\n",
       "      <th>neighbourhood</th>\n",
       "      <th>scholarship</th>\n",
       "      <th>hipertension</th>\n",
       "      <th>diabetes</th>\n",
       "      <th>alcoholism</th>\n",
       "      <th>handcap</th>\n",
       "      <th>sms_received</th>\n",
       "      <th>showed_up</th>\n",
       "    </tr>\n",
       "  </thead>\n",
       "  <tbody>\n",
       "    <tr>\n",
       "      <th>59</th>\n",
       "      <td>7.184428e+13</td>\n",
       "      <td>5638545</td>\n",
       "      <td>F</td>\n",
       "      <td>2016-04-29</td>\n",
       "      <td>2016-04-29</td>\n",
       "      <td>0</td>\n",
       "      <td>CONQUISTA</td>\n",
       "      <td>0</td>\n",
       "      <td>0</td>\n",
       "      <td>0</td>\n",
       "      <td>0</td>\n",
       "      <td>0</td>\n",
       "      <td>0</td>\n",
       "      <td>1</td>\n",
       "    </tr>\n",
       "    <tr>\n",
       "      <th>63</th>\n",
       "      <td>2.366233e+14</td>\n",
       "      <td>5628286</td>\n",
       "      <td>M</td>\n",
       "      <td>2016-04-27</td>\n",
       "      <td>2016-04-29</td>\n",
       "      <td>0</td>\n",
       "      <td>SÃO BENEDITO</td>\n",
       "      <td>0</td>\n",
       "      <td>0</td>\n",
       "      <td>0</td>\n",
       "      <td>0</td>\n",
       "      <td>0</td>\n",
       "      <td>0</td>\n",
       "      <td>1</td>\n",
       "    </tr>\n",
       "    <tr>\n",
       "      <th>64</th>\n",
       "      <td>1.885174e+14</td>\n",
       "      <td>5616082</td>\n",
       "      <td>M</td>\n",
       "      <td>2016-04-25</td>\n",
       "      <td>2016-04-29</td>\n",
       "      <td>0</td>\n",
       "      <td>ILHA DAS CAIEIRAS</td>\n",
       "      <td>0</td>\n",
       "      <td>0</td>\n",
       "      <td>0</td>\n",
       "      <td>0</td>\n",
       "      <td>0</td>\n",
       "      <td>1</td>\n",
       "      <td>1</td>\n",
       "    </tr>\n",
       "    <tr>\n",
       "      <th>65</th>\n",
       "      <td>2.718818e+14</td>\n",
       "      <td>5628321</td>\n",
       "      <td>M</td>\n",
       "      <td>2016-04-27</td>\n",
       "      <td>2016-04-29</td>\n",
       "      <td>0</td>\n",
       "      <td>CONQUISTA</td>\n",
       "      <td>0</td>\n",
       "      <td>0</td>\n",
       "      <td>0</td>\n",
       "      <td>0</td>\n",
       "      <td>0</td>\n",
       "      <td>0</td>\n",
       "      <td>1</td>\n",
       "    </tr>\n",
       "    <tr>\n",
       "      <th>67</th>\n",
       "      <td>8.647128e+13</td>\n",
       "      <td>5639264</td>\n",
       "      <td>F</td>\n",
       "      <td>2016-04-29</td>\n",
       "      <td>2016-04-29</td>\n",
       "      <td>0</td>\n",
       "      <td>NOVA PALESTINA</td>\n",
       "      <td>0</td>\n",
       "      <td>0</td>\n",
       "      <td>0</td>\n",
       "      <td>0</td>\n",
       "      <td>0</td>\n",
       "      <td>0</td>\n",
       "      <td>1</td>\n",
       "    </tr>\n",
       "    <tr>\n",
       "      <th>89</th>\n",
       "      <td>4.314932e+14</td>\n",
       "      <td>5640380</td>\n",
       "      <td>M</td>\n",
       "      <td>2016-04-29</td>\n",
       "      <td>2016-04-29</td>\n",
       "      <td>0</td>\n",
       "      <td>MONTE BELO</td>\n",
       "      <td>0</td>\n",
       "      <td>0</td>\n",
       "      <td>0</td>\n",
       "      <td>0</td>\n",
       "      <td>0</td>\n",
       "      <td>0</td>\n",
       "      <td>1</td>\n",
       "    </tr>\n",
       "    <tr>\n",
       "      <th>101</th>\n",
       "      <td>6.822847e+13</td>\n",
       "      <td>5642813</td>\n",
       "      <td>M</td>\n",
       "      <td>2016-04-29</td>\n",
       "      <td>2016-04-29</td>\n",
       "      <td>0</td>\n",
       "      <td>BONFIM</td>\n",
       "      <td>0</td>\n",
       "      <td>0</td>\n",
       "      <td>0</td>\n",
       "      <td>0</td>\n",
       "      <td>0</td>\n",
       "      <td>0</td>\n",
       "      <td>1</td>\n",
       "    </tr>\n",
       "    <tr>\n",
       "      <th>104</th>\n",
       "      <td>3.326985e+12</td>\n",
       "      <td>5632495</td>\n",
       "      <td>F</td>\n",
       "      <td>2016-04-28</td>\n",
       "      <td>2016-04-29</td>\n",
       "      <td>0</td>\n",
       "      <td>SANTO ANTÔNIO</td>\n",
       "      <td>0</td>\n",
       "      <td>0</td>\n",
       "      <td>0</td>\n",
       "      <td>0</td>\n",
       "      <td>0</td>\n",
       "      <td>0</td>\n",
       "      <td>0</td>\n",
       "    </tr>\n",
       "    <tr>\n",
       "      <th>132</th>\n",
       "      <td>8.468587e+14</td>\n",
       "      <td>5560742</td>\n",
       "      <td>M</td>\n",
       "      <td>2016-04-08</td>\n",
       "      <td>2016-04-29</td>\n",
       "      <td>0</td>\n",
       "      <td>PRAIA DO SUÁ</td>\n",
       "      <td>0</td>\n",
       "      <td>0</td>\n",
       "      <td>0</td>\n",
       "      <td>0</td>\n",
       "      <td>0</td>\n",
       "      <td>1</td>\n",
       "      <td>0</td>\n",
       "    </tr>\n",
       "    <tr>\n",
       "      <th>150</th>\n",
       "      <td>5.392419e+10</td>\n",
       "      <td>5641476</td>\n",
       "      <td>M</td>\n",
       "      <td>2016-04-29</td>\n",
       "      <td>2016-04-29</td>\n",
       "      <td>0</td>\n",
       "      <td>ITARARÉ</td>\n",
       "      <td>0</td>\n",
       "      <td>0</td>\n",
       "      <td>0</td>\n",
       "      <td>0</td>\n",
       "      <td>0</td>\n",
       "      <td>0</td>\n",
       "      <td>1</td>\n",
       "    </tr>\n",
       "    <tr>\n",
       "      <th>188</th>\n",
       "      <td>1.883366e+14</td>\n",
       "      <td>5640933</td>\n",
       "      <td>M</td>\n",
       "      <td>2016-04-29</td>\n",
       "      <td>2016-04-29</td>\n",
       "      <td>0</td>\n",
       "      <td>NOVA PALESTINA</td>\n",
       "      <td>0</td>\n",
       "      <td>0</td>\n",
       "      <td>0</td>\n",
       "      <td>0</td>\n",
       "      <td>0</td>\n",
       "      <td>0</td>\n",
       "      <td>1</td>\n",
       "    </tr>\n",
       "    <tr>\n",
       "      <th>192</th>\n",
       "      <td>1.165338e+12</td>\n",
       "      <td>5640561</td>\n",
       "      <td>M</td>\n",
       "      <td>2016-04-29</td>\n",
       "      <td>2016-04-29</td>\n",
       "      <td>0</td>\n",
       "      <td>CONQUISTA</td>\n",
       "      <td>0</td>\n",
       "      <td>0</td>\n",
       "      <td>0</td>\n",
       "      <td>0</td>\n",
       "      <td>0</td>\n",
       "      <td>0</td>\n",
       "      <td>1</td>\n",
       "    </tr>\n",
       "    <tr>\n",
       "      <th>193</th>\n",
       "      <td>2.379698e+11</td>\n",
       "      <td>5532452</td>\n",
       "      <td>F</td>\n",
       "      <td>2016-03-31</td>\n",
       "      <td>2016-04-29</td>\n",
       "      <td>0</td>\n",
       "      <td>NOVA PALESTINA</td>\n",
       "      <td>0</td>\n",
       "      <td>0</td>\n",
       "      <td>0</td>\n",
       "      <td>0</td>\n",
       "      <td>0</td>\n",
       "      <td>1</td>\n",
       "      <td>1</td>\n",
       "    </tr>\n",
       "    <tr>\n",
       "      <th>194</th>\n",
       "      <td>4.442538e+11</td>\n",
       "      <td>5539566</td>\n",
       "      <td>M</td>\n",
       "      <td>2016-04-01</td>\n",
       "      <td>2016-04-29</td>\n",
       "      <td>0</td>\n",
       "      <td>REDENÇÃO</td>\n",
       "      <td>0</td>\n",
       "      <td>0</td>\n",
       "      <td>0</td>\n",
       "      <td>0</td>\n",
       "      <td>0</td>\n",
       "      <td>0</td>\n",
       "      <td>1</td>\n",
       "    </tr>\n",
       "    <tr>\n",
       "      <th>250</th>\n",
       "      <td>2.942723e+14</td>\n",
       "      <td>5640181</td>\n",
       "      <td>M</td>\n",
       "      <td>2016-04-29</td>\n",
       "      <td>2016-04-29</td>\n",
       "      <td>0</td>\n",
       "      <td>CARATOÍRA</td>\n",
       "      <td>0</td>\n",
       "      <td>0</td>\n",
       "      <td>0</td>\n",
       "      <td>0</td>\n",
       "      <td>0</td>\n",
       "      <td>0</td>\n",
       "      <td>0</td>\n",
       "    </tr>\n",
       "    <tr>\n",
       "      <th>256</th>\n",
       "      <td>8.599713e+10</td>\n",
       "      <td>5629906</td>\n",
       "      <td>F</td>\n",
       "      <td>2016-04-27</td>\n",
       "      <td>2016-04-29</td>\n",
       "      <td>0</td>\n",
       "      <td>ARIOVALDO FAVALESSA</td>\n",
       "      <td>0</td>\n",
       "      <td>0</td>\n",
       "      <td>0</td>\n",
       "      <td>0</td>\n",
       "      <td>0</td>\n",
       "      <td>0</td>\n",
       "      <td>0</td>\n",
       "    </tr>\n",
       "    <tr>\n",
       "      <th>266</th>\n",
       "      <td>1.198173e+13</td>\n",
       "      <td>5639237</td>\n",
       "      <td>M</td>\n",
       "      <td>2016-04-29</td>\n",
       "      <td>2016-04-29</td>\n",
       "      <td>0</td>\n",
       "      <td>MARIA ORTIZ</td>\n",
       "      <td>0</td>\n",
       "      <td>0</td>\n",
       "      <td>0</td>\n",
       "      <td>0</td>\n",
       "      <td>0</td>\n",
       "      <td>0</td>\n",
       "      <td>1</td>\n",
       "    </tr>\n",
       "    <tr>\n",
       "      <th>292</th>\n",
       "      <td>4.645238e+13</td>\n",
       "      <td>5642766</td>\n",
       "      <td>F</td>\n",
       "      <td>2016-04-29</td>\n",
       "      <td>2016-04-29</td>\n",
       "      <td>0</td>\n",
       "      <td>GURIGICA</td>\n",
       "      <td>0</td>\n",
       "      <td>0</td>\n",
       "      <td>0</td>\n",
       "      <td>0</td>\n",
       "      <td>0</td>\n",
       "      <td>0</td>\n",
       "      <td>1</td>\n",
       "    </tr>\n",
       "    <tr>\n",
       "      <th>305</th>\n",
       "      <td>9.794819e+11</td>\n",
       "      <td>5638226</td>\n",
       "      <td>F</td>\n",
       "      <td>2016-04-29</td>\n",
       "      <td>2016-04-29</td>\n",
       "      <td>0</td>\n",
       "      <td>JOANA D´ARC</td>\n",
       "      <td>0</td>\n",
       "      <td>0</td>\n",
       "      <td>0</td>\n",
       "      <td>0</td>\n",
       "      <td>0</td>\n",
       "      <td>0</td>\n",
       "      <td>1</td>\n",
       "    </tr>\n",
       "    <tr>\n",
       "      <th>306</th>\n",
       "      <td>2.648746e+11</td>\n",
       "      <td>5638370</td>\n",
       "      <td>M</td>\n",
       "      <td>2016-04-29</td>\n",
       "      <td>2016-04-29</td>\n",
       "      <td>0</td>\n",
       "      <td>SANTA MARTHA</td>\n",
       "      <td>0</td>\n",
       "      <td>0</td>\n",
       "      <td>0</td>\n",
       "      <td>0</td>\n",
       "      <td>0</td>\n",
       "      <td>0</td>\n",
       "      <td>1</td>\n",
       "    </tr>\n",
       "    <tr>\n",
       "      <th>310</th>\n",
       "      <td>3.732371e+14</td>\n",
       "      <td>5639056</td>\n",
       "      <td>M</td>\n",
       "      <td>2016-04-29</td>\n",
       "      <td>2016-04-29</td>\n",
       "      <td>0</td>\n",
       "      <td>SANTA MARTHA</td>\n",
       "      <td>0</td>\n",
       "      <td>0</td>\n",
       "      <td>0</td>\n",
       "      <td>0</td>\n",
       "      <td>0</td>\n",
       "      <td>0</td>\n",
       "      <td>1</td>\n",
       "    </tr>\n",
       "    <tr>\n",
       "      <th>358</th>\n",
       "      <td>7.349270e+14</td>\n",
       "      <td>5531831</td>\n",
       "      <td>F</td>\n",
       "      <td>2016-03-31</td>\n",
       "      <td>2016-04-29</td>\n",
       "      <td>0</td>\n",
       "      <td>CONSOLAÇÃO</td>\n",
       "      <td>0</td>\n",
       "      <td>0</td>\n",
       "      <td>0</td>\n",
       "      <td>0</td>\n",
       "      <td>0</td>\n",
       "      <td>0</td>\n",
       "      <td>0</td>\n",
       "    </tr>\n",
       "    <tr>\n",
       "      <th>359</th>\n",
       "      <td>7.975283e+11</td>\n",
       "      <td>5551583</td>\n",
       "      <td>M</td>\n",
       "      <td>2016-04-06</td>\n",
       "      <td>2016-04-29</td>\n",
       "      <td>0</td>\n",
       "      <td>CONSOLAÇÃO</td>\n",
       "      <td>0</td>\n",
       "      <td>0</td>\n",
       "      <td>0</td>\n",
       "      <td>0</td>\n",
       "      <td>0</td>\n",
       "      <td>0</td>\n",
       "      <td>1</td>\n",
       "    </tr>\n",
       "    <tr>\n",
       "      <th>366</th>\n",
       "      <td>3.499167e+14</td>\n",
       "      <td>5531933</td>\n",
       "      <td>F</td>\n",
       "      <td>2016-03-31</td>\n",
       "      <td>2016-04-29</td>\n",
       "      <td>0</td>\n",
       "      <td>CONSOLAÇÃO</td>\n",
       "      <td>0</td>\n",
       "      <td>0</td>\n",
       "      <td>0</td>\n",
       "      <td>0</td>\n",
       "      <td>0</td>\n",
       "      <td>1</td>\n",
       "      <td>0</td>\n",
       "    </tr>\n",
       "    <tr>\n",
       "      <th>377</th>\n",
       "      <td>9.123627e+11</td>\n",
       "      <td>5522585</td>\n",
       "      <td>M</td>\n",
       "      <td>2016-03-29</td>\n",
       "      <td>2016-04-29</td>\n",
       "      <td>0</td>\n",
       "      <td>DA PENHA</td>\n",
       "      <td>0</td>\n",
       "      <td>0</td>\n",
       "      <td>0</td>\n",
       "      <td>0</td>\n",
       "      <td>0</td>\n",
       "      <td>1</td>\n",
       "      <td>1</td>\n",
       "    </tr>\n",
       "    <tr>\n",
       "      <th>434</th>\n",
       "      <td>9.625417e+14</td>\n",
       "      <td>5533985</td>\n",
       "      <td>F</td>\n",
       "      <td>2016-03-31</td>\n",
       "      <td>2016-04-29</td>\n",
       "      <td>0</td>\n",
       "      <td>MORADA DE CAMBURI</td>\n",
       "      <td>0</td>\n",
       "      <td>0</td>\n",
       "      <td>0</td>\n",
       "      <td>0</td>\n",
       "      <td>0</td>\n",
       "      <td>1</td>\n",
       "      <td>0</td>\n",
       "    </tr>\n",
       "    <tr>\n",
       "      <th>524</th>\n",
       "      <td>5.815365e+13</td>\n",
       "      <td>5488633</td>\n",
       "      <td>M</td>\n",
       "      <td>2016-03-18</td>\n",
       "      <td>2016-04-29</td>\n",
       "      <td>0</td>\n",
       "      <td>ITARARÉ</td>\n",
       "      <td>0</td>\n",
       "      <td>0</td>\n",
       "      <td>0</td>\n",
       "      <td>0</td>\n",
       "      <td>0</td>\n",
       "      <td>1</td>\n",
       "      <td>1</td>\n",
       "    </tr>\n",
       "    <tr>\n",
       "      <th>525</th>\n",
       "      <td>4.239228e+13</td>\n",
       "      <td>5537936</td>\n",
       "      <td>F</td>\n",
       "      <td>2016-04-01</td>\n",
       "      <td>2016-04-29</td>\n",
       "      <td>0</td>\n",
       "      <td>ITARARÉ</td>\n",
       "      <td>0</td>\n",
       "      <td>0</td>\n",
       "      <td>0</td>\n",
       "      <td>0</td>\n",
       "      <td>0</td>\n",
       "      <td>1</td>\n",
       "      <td>0</td>\n",
       "    </tr>\n",
       "    <tr>\n",
       "      <th>526</th>\n",
       "      <td>8.574376e+12</td>\n",
       "      <td>5639659</td>\n",
       "      <td>M</td>\n",
       "      <td>2016-04-29</td>\n",
       "      <td>2016-04-29</td>\n",
       "      <td>0</td>\n",
       "      <td>ITARARÉ</td>\n",
       "      <td>0</td>\n",
       "      <td>0</td>\n",
       "      <td>0</td>\n",
       "      <td>0</td>\n",
       "      <td>0</td>\n",
       "      <td>0</td>\n",
       "      <td>1</td>\n",
       "    </tr>\n",
       "    <tr>\n",
       "      <th>565</th>\n",
       "      <td>5.569896e+14</td>\n",
       "      <td>5591488</td>\n",
       "      <td>F</td>\n",
       "      <td>2016-04-15</td>\n",
       "      <td>2016-04-29</td>\n",
       "      <td>0</td>\n",
       "      <td>SANTA LUÍZA</td>\n",
       "      <td>0</td>\n",
       "      <td>0</td>\n",
       "      <td>0</td>\n",
       "      <td>0</td>\n",
       "      <td>0</td>\n",
       "      <td>1</td>\n",
       "      <td>1</td>\n",
       "    </tr>\n",
       "    <tr>\n",
       "      <th>...</th>\n",
       "      <td>...</td>\n",
       "      <td>...</td>\n",
       "      <td>...</td>\n",
       "      <td>...</td>\n",
       "      <td>...</td>\n",
       "      <td>...</td>\n",
       "      <td>...</td>\n",
       "      <td>...</td>\n",
       "      <td>...</td>\n",
       "      <td>...</td>\n",
       "      <td>...</td>\n",
       "      <td>...</td>\n",
       "      <td>...</td>\n",
       "      <td>...</td>\n",
       "    </tr>\n",
       "    <tr>\n",
       "      <th>109629</th>\n",
       "      <td>3.689222e+13</td>\n",
       "      <td>5660428</td>\n",
       "      <td>F</td>\n",
       "      <td>2016-05-04</td>\n",
       "      <td>2016-06-01</td>\n",
       "      <td>0</td>\n",
       "      <td>ROMÃO</td>\n",
       "      <td>0</td>\n",
       "      <td>0</td>\n",
       "      <td>0</td>\n",
       "      <td>0</td>\n",
       "      <td>0</td>\n",
       "      <td>0</td>\n",
       "      <td>0</td>\n",
       "    </tr>\n",
       "    <tr>\n",
       "      <th>109633</th>\n",
       "      <td>3.689222e+13</td>\n",
       "      <td>5660427</td>\n",
       "      <td>F</td>\n",
       "      <td>2016-05-04</td>\n",
       "      <td>2016-06-01</td>\n",
       "      <td>0</td>\n",
       "      <td>ROMÃO</td>\n",
       "      <td>0</td>\n",
       "      <td>0</td>\n",
       "      <td>0</td>\n",
       "      <td>0</td>\n",
       "      <td>0</td>\n",
       "      <td>1</td>\n",
       "      <td>0</td>\n",
       "    </tr>\n",
       "    <tr>\n",
       "      <th>109646</th>\n",
       "      <td>5.941811e+13</td>\n",
       "      <td>5659194</td>\n",
       "      <td>M</td>\n",
       "      <td>2016-05-04</td>\n",
       "      <td>2016-06-01</td>\n",
       "      <td>0</td>\n",
       "      <td>FORTE SÃO JOÃO</td>\n",
       "      <td>0</td>\n",
       "      <td>0</td>\n",
       "      <td>0</td>\n",
       "      <td>0</td>\n",
       "      <td>0</td>\n",
       "      <td>0</td>\n",
       "      <td>1</td>\n",
       "    </tr>\n",
       "    <tr>\n",
       "      <th>109647</th>\n",
       "      <td>5.635258e+13</td>\n",
       "      <td>5691391</td>\n",
       "      <td>M</td>\n",
       "      <td>2016-05-12</td>\n",
       "      <td>2016-06-08</td>\n",
       "      <td>0</td>\n",
       "      <td>FORTE SÃO JOÃO</td>\n",
       "      <td>0</td>\n",
       "      <td>0</td>\n",
       "      <td>0</td>\n",
       "      <td>0</td>\n",
       "      <td>0</td>\n",
       "      <td>0</td>\n",
       "      <td>0</td>\n",
       "    </tr>\n",
       "    <tr>\n",
       "      <th>109649</th>\n",
       "      <td>5.941811e+13</td>\n",
       "      <td>5659193</td>\n",
       "      <td>M</td>\n",
       "      <td>2016-05-04</td>\n",
       "      <td>2016-06-01</td>\n",
       "      <td>0</td>\n",
       "      <td>FORTE SÃO JOÃO</td>\n",
       "      <td>0</td>\n",
       "      <td>0</td>\n",
       "      <td>0</td>\n",
       "      <td>0</td>\n",
       "      <td>0</td>\n",
       "      <td>0</td>\n",
       "      <td>1</td>\n",
       "    </tr>\n",
       "    <tr>\n",
       "      <th>109650</th>\n",
       "      <td>5.635258e+13</td>\n",
       "      <td>5691390</td>\n",
       "      <td>M</td>\n",
       "      <td>2016-05-12</td>\n",
       "      <td>2016-06-08</td>\n",
       "      <td>0</td>\n",
       "      <td>FORTE SÃO JOÃO</td>\n",
       "      <td>0</td>\n",
       "      <td>0</td>\n",
       "      <td>0</td>\n",
       "      <td>0</td>\n",
       "      <td>0</td>\n",
       "      <td>0</td>\n",
       "      <td>0</td>\n",
       "    </tr>\n",
       "    <tr>\n",
       "      <th>109830</th>\n",
       "      <td>6.931429e+11</td>\n",
       "      <td>5739239</td>\n",
       "      <td>F</td>\n",
       "      <td>2016-05-25</td>\n",
       "      <td>2016-06-02</td>\n",
       "      <td>0</td>\n",
       "      <td>SÃO BENEDITO</td>\n",
       "      <td>0</td>\n",
       "      <td>0</td>\n",
       "      <td>0</td>\n",
       "      <td>0</td>\n",
       "      <td>0</td>\n",
       "      <td>0</td>\n",
       "      <td>0</td>\n",
       "    </tr>\n",
       "    <tr>\n",
       "      <th>109847</th>\n",
       "      <td>9.174483e+11</td>\n",
       "      <td>5685977</td>\n",
       "      <td>M</td>\n",
       "      <td>2016-05-11</td>\n",
       "      <td>2016-06-02</td>\n",
       "      <td>0</td>\n",
       "      <td>NOVA PALESTINA</td>\n",
       "      <td>0</td>\n",
       "      <td>0</td>\n",
       "      <td>0</td>\n",
       "      <td>0</td>\n",
       "      <td>0</td>\n",
       "      <td>1</td>\n",
       "      <td>0</td>\n",
       "    </tr>\n",
       "    <tr>\n",
       "      <th>109848</th>\n",
       "      <td>5.853540e+12</td>\n",
       "      <td>5707361</td>\n",
       "      <td>M</td>\n",
       "      <td>2016-05-17</td>\n",
       "      <td>2016-06-02</td>\n",
       "      <td>0</td>\n",
       "      <td>RESISTÊNCIA</td>\n",
       "      <td>0</td>\n",
       "      <td>0</td>\n",
       "      <td>0</td>\n",
       "      <td>0</td>\n",
       "      <td>0</td>\n",
       "      <td>0</td>\n",
       "      <td>1</td>\n",
       "    </tr>\n",
       "    <tr>\n",
       "      <th>109852</th>\n",
       "      <td>1.663316e+13</td>\n",
       "      <td>5731578</td>\n",
       "      <td>F</td>\n",
       "      <td>2016-05-24</td>\n",
       "      <td>2016-06-02</td>\n",
       "      <td>0</td>\n",
       "      <td>RESISTÊNCIA</td>\n",
       "      <td>0</td>\n",
       "      <td>0</td>\n",
       "      <td>0</td>\n",
       "      <td>0</td>\n",
       "      <td>0</td>\n",
       "      <td>0</td>\n",
       "      <td>1</td>\n",
       "    </tr>\n",
       "    <tr>\n",
       "      <th>110231</th>\n",
       "      <td>1.731548e+14</td>\n",
       "      <td>5634706</td>\n",
       "      <td>M</td>\n",
       "      <td>2016-04-28</td>\n",
       "      <td>2016-06-01</td>\n",
       "      <td>0</td>\n",
       "      <td>RESISTÊNCIA</td>\n",
       "      <td>0</td>\n",
       "      <td>0</td>\n",
       "      <td>0</td>\n",
       "      <td>0</td>\n",
       "      <td>0</td>\n",
       "      <td>0</td>\n",
       "      <td>1</td>\n",
       "    </tr>\n",
       "    <tr>\n",
       "      <th>110235</th>\n",
       "      <td>3.279373e+14</td>\n",
       "      <td>5634274</td>\n",
       "      <td>M</td>\n",
       "      <td>2016-04-28</td>\n",
       "      <td>2016-06-01</td>\n",
       "      <td>0</td>\n",
       "      <td>RESISTÊNCIA</td>\n",
       "      <td>0</td>\n",
       "      <td>0</td>\n",
       "      <td>0</td>\n",
       "      <td>0</td>\n",
       "      <td>0</td>\n",
       "      <td>0</td>\n",
       "      <td>0</td>\n",
       "    </tr>\n",
       "    <tr>\n",
       "      <th>110236</th>\n",
       "      <td>1.174717e+13</td>\n",
       "      <td>5669996</td>\n",
       "      <td>M</td>\n",
       "      <td>2016-05-06</td>\n",
       "      <td>2016-06-08</td>\n",
       "      <td>0</td>\n",
       "      <td>RESISTÊNCIA</td>\n",
       "      <td>0</td>\n",
       "      <td>0</td>\n",
       "      <td>0</td>\n",
       "      <td>0</td>\n",
       "      <td>0</td>\n",
       "      <td>1</td>\n",
       "      <td>1</td>\n",
       "    </tr>\n",
       "    <tr>\n",
       "      <th>110299</th>\n",
       "      <td>5.944513e+10</td>\n",
       "      <td>5746323</td>\n",
       "      <td>F</td>\n",
       "      <td>2016-05-30</td>\n",
       "      <td>2016-06-07</td>\n",
       "      <td>0</td>\n",
       "      <td>RESISTÊNCIA</td>\n",
       "      <td>0</td>\n",
       "      <td>0</td>\n",
       "      <td>0</td>\n",
       "      <td>0</td>\n",
       "      <td>0</td>\n",
       "      <td>1</td>\n",
       "      <td>0</td>\n",
       "    </tr>\n",
       "    <tr>\n",
       "      <th>110313</th>\n",
       "      <td>8.535734e+12</td>\n",
       "      <td>5600209</td>\n",
       "      <td>F</td>\n",
       "      <td>2016-04-19</td>\n",
       "      <td>2016-06-06</td>\n",
       "      <td>0</td>\n",
       "      <td>RESISTÊNCIA</td>\n",
       "      <td>0</td>\n",
       "      <td>0</td>\n",
       "      <td>0</td>\n",
       "      <td>0</td>\n",
       "      <td>0</td>\n",
       "      <td>1</td>\n",
       "      <td>1</td>\n",
       "    </tr>\n",
       "    <tr>\n",
       "      <th>110319</th>\n",
       "      <td>4.524190e+11</td>\n",
       "      <td>5640301</td>\n",
       "      <td>F</td>\n",
       "      <td>2016-04-29</td>\n",
       "      <td>2016-06-06</td>\n",
       "      <td>0</td>\n",
       "      <td>RESISTÊNCIA</td>\n",
       "      <td>0</td>\n",
       "      <td>0</td>\n",
       "      <td>0</td>\n",
       "      <td>0</td>\n",
       "      <td>0</td>\n",
       "      <td>1</td>\n",
       "      <td>1</td>\n",
       "    </tr>\n",
       "    <tr>\n",
       "      <th>110320</th>\n",
       "      <td>3.459268e+13</td>\n",
       "      <td>5675103</td>\n",
       "      <td>M</td>\n",
       "      <td>2016-05-09</td>\n",
       "      <td>2016-06-06</td>\n",
       "      <td>0</td>\n",
       "      <td>RESISTÊNCIA</td>\n",
       "      <td>0</td>\n",
       "      <td>0</td>\n",
       "      <td>0</td>\n",
       "      <td>0</td>\n",
       "      <td>0</td>\n",
       "      <td>1</td>\n",
       "      <td>1</td>\n",
       "    </tr>\n",
       "    <tr>\n",
       "      <th>110321</th>\n",
       "      <td>1.388630e+11</td>\n",
       "      <td>5338643</td>\n",
       "      <td>M</td>\n",
       "      <td>2016-02-11</td>\n",
       "      <td>2016-06-01</td>\n",
       "      <td>0</td>\n",
       "      <td>RESISTÊNCIA</td>\n",
       "      <td>0</td>\n",
       "      <td>0</td>\n",
       "      <td>0</td>\n",
       "      <td>0</td>\n",
       "      <td>0</td>\n",
       "      <td>1</td>\n",
       "      <td>1</td>\n",
       "    </tr>\n",
       "    <tr>\n",
       "      <th>110331</th>\n",
       "      <td>2.739486e+13</td>\n",
       "      <td>5392089</td>\n",
       "      <td>F</td>\n",
       "      <td>2016-02-24</td>\n",
       "      <td>2016-06-01</td>\n",
       "      <td>0</td>\n",
       "      <td>RESISTÊNCIA</td>\n",
       "      <td>0</td>\n",
       "      <td>0</td>\n",
       "      <td>0</td>\n",
       "      <td>0</td>\n",
       "      <td>0</td>\n",
       "      <td>1</td>\n",
       "      <td>0</td>\n",
       "    </tr>\n",
       "    <tr>\n",
       "      <th>110334</th>\n",
       "      <td>1.174717e+13</td>\n",
       "      <td>5756343</td>\n",
       "      <td>M</td>\n",
       "      <td>2016-06-01</td>\n",
       "      <td>2016-06-01</td>\n",
       "      <td>0</td>\n",
       "      <td>RESISTÊNCIA</td>\n",
       "      <td>0</td>\n",
       "      <td>0</td>\n",
       "      <td>0</td>\n",
       "      <td>0</td>\n",
       "      <td>0</td>\n",
       "      <td>0</td>\n",
       "      <td>1</td>\n",
       "    </tr>\n",
       "    <tr>\n",
       "      <th>110335</th>\n",
       "      <td>3.747953e+11</td>\n",
       "      <td>5338761</td>\n",
       "      <td>M</td>\n",
       "      <td>2016-02-11</td>\n",
       "      <td>2016-06-01</td>\n",
       "      <td>0</td>\n",
       "      <td>RESISTÊNCIA</td>\n",
       "      <td>0</td>\n",
       "      <td>0</td>\n",
       "      <td>0</td>\n",
       "      <td>0</td>\n",
       "      <td>0</td>\n",
       "      <td>1</td>\n",
       "      <td>1</td>\n",
       "    </tr>\n",
       "    <tr>\n",
       "      <th>110339</th>\n",
       "      <td>3.731746e+12</td>\n",
       "      <td>5584042</td>\n",
       "      <td>M</td>\n",
       "      <td>2016-04-14</td>\n",
       "      <td>2016-06-01</td>\n",
       "      <td>0</td>\n",
       "      <td>RESISTÊNCIA</td>\n",
       "      <td>0</td>\n",
       "      <td>0</td>\n",
       "      <td>0</td>\n",
       "      <td>0</td>\n",
       "      <td>0</td>\n",
       "      <td>1</td>\n",
       "      <td>0</td>\n",
       "    </tr>\n",
       "    <tr>\n",
       "      <th>110341</th>\n",
       "      <td>4.696832e+12</td>\n",
       "      <td>5713894</td>\n",
       "      <td>M</td>\n",
       "      <td>2016-05-18</td>\n",
       "      <td>2016-06-01</td>\n",
       "      <td>0</td>\n",
       "      <td>RESISTÊNCIA</td>\n",
       "      <td>0</td>\n",
       "      <td>0</td>\n",
       "      <td>0</td>\n",
       "      <td>0</td>\n",
       "      <td>0</td>\n",
       "      <td>1</td>\n",
       "      <td>1</td>\n",
       "    </tr>\n",
       "    <tr>\n",
       "      <th>110342</th>\n",
       "      <td>3.147163e+11</td>\n",
       "      <td>5776749</td>\n",
       "      <td>M</td>\n",
       "      <td>2016-06-06</td>\n",
       "      <td>2016-06-08</td>\n",
       "      <td>0</td>\n",
       "      <td>RESISTÊNCIA</td>\n",
       "      <td>0</td>\n",
       "      <td>0</td>\n",
       "      <td>0</td>\n",
       "      <td>0</td>\n",
       "      <td>0</td>\n",
       "      <td>0</td>\n",
       "      <td>1</td>\n",
       "    </tr>\n",
       "    <tr>\n",
       "      <th>110343</th>\n",
       "      <td>1.759439e+12</td>\n",
       "      <td>5690822</td>\n",
       "      <td>F</td>\n",
       "      <td>2016-05-12</td>\n",
       "      <td>2016-06-01</td>\n",
       "      <td>0</td>\n",
       "      <td>RESISTÊNCIA</td>\n",
       "      <td>0</td>\n",
       "      <td>0</td>\n",
       "      <td>0</td>\n",
       "      <td>0</td>\n",
       "      <td>0</td>\n",
       "      <td>1</td>\n",
       "      <td>1</td>\n",
       "    </tr>\n",
       "    <tr>\n",
       "      <th>110345</th>\n",
       "      <td>1.473952e+14</td>\n",
       "      <td>5702537</td>\n",
       "      <td>F</td>\n",
       "      <td>2016-05-16</td>\n",
       "      <td>2016-06-01</td>\n",
       "      <td>0</td>\n",
       "      <td>RESISTÊNCIA</td>\n",
       "      <td>0</td>\n",
       "      <td>0</td>\n",
       "      <td>0</td>\n",
       "      <td>0</td>\n",
       "      <td>0</td>\n",
       "      <td>0</td>\n",
       "      <td>1</td>\n",
       "    </tr>\n",
       "    <tr>\n",
       "      <th>110346</th>\n",
       "      <td>5.577525e+12</td>\n",
       "      <td>5777724</td>\n",
       "      <td>M</td>\n",
       "      <td>2016-06-06</td>\n",
       "      <td>2016-06-08</td>\n",
       "      <td>0</td>\n",
       "      <td>RESISTÊNCIA</td>\n",
       "      <td>0</td>\n",
       "      <td>0</td>\n",
       "      <td>0</td>\n",
       "      <td>0</td>\n",
       "      <td>0</td>\n",
       "      <td>0</td>\n",
       "      <td>1</td>\n",
       "    </tr>\n",
       "    <tr>\n",
       "      <th>110454</th>\n",
       "      <td>6.142460e+11</td>\n",
       "      <td>5772400</td>\n",
       "      <td>F</td>\n",
       "      <td>2016-06-03</td>\n",
       "      <td>2016-06-03</td>\n",
       "      <td>0</td>\n",
       "      <td>RESISTÊNCIA</td>\n",
       "      <td>0</td>\n",
       "      <td>0</td>\n",
       "      <td>0</td>\n",
       "      <td>0</td>\n",
       "      <td>0</td>\n",
       "      <td>0</td>\n",
       "      <td>1</td>\n",
       "    </tr>\n",
       "    <tr>\n",
       "      <th>110460</th>\n",
       "      <td>4.321846e+13</td>\n",
       "      <td>5769545</td>\n",
       "      <td>F</td>\n",
       "      <td>2016-06-03</td>\n",
       "      <td>2016-06-03</td>\n",
       "      <td>0</td>\n",
       "      <td>RESISTÊNCIA</td>\n",
       "      <td>0</td>\n",
       "      <td>0</td>\n",
       "      <td>0</td>\n",
       "      <td>0</td>\n",
       "      <td>0</td>\n",
       "      <td>0</td>\n",
       "      <td>1</td>\n",
       "    </tr>\n",
       "    <tr>\n",
       "      <th>110507</th>\n",
       "      <td>4.769462e+14</td>\n",
       "      <td>5786918</td>\n",
       "      <td>F</td>\n",
       "      <td>2016-06-08</td>\n",
       "      <td>2016-06-08</td>\n",
       "      <td>0</td>\n",
       "      <td>MARIA ORTIZ</td>\n",
       "      <td>0</td>\n",
       "      <td>0</td>\n",
       "      <td>0</td>\n",
       "      <td>0</td>\n",
       "      <td>0</td>\n",
       "      <td>0</td>\n",
       "      <td>1</td>\n",
       "    </tr>\n",
       "  </tbody>\n",
       "</table>\n",
       "<p>3539 rows × 14 columns</p>\n",
       "</div>"
      ],
      "text/plain": [
       "          patient_id  appointment_id gender scheduled_day appointment_day  \\\n",
       "59      7.184428e+13         5638545      F    2016-04-29      2016-04-29   \n",
       "63      2.366233e+14         5628286      M    2016-04-27      2016-04-29   \n",
       "64      1.885174e+14         5616082      M    2016-04-25      2016-04-29   \n",
       "65      2.718818e+14         5628321      M    2016-04-27      2016-04-29   \n",
       "67      8.647128e+13         5639264      F    2016-04-29      2016-04-29   \n",
       "89      4.314932e+14         5640380      M    2016-04-29      2016-04-29   \n",
       "101     6.822847e+13         5642813      M    2016-04-29      2016-04-29   \n",
       "104     3.326985e+12         5632495      F    2016-04-28      2016-04-29   \n",
       "132     8.468587e+14         5560742      M    2016-04-08      2016-04-29   \n",
       "150     5.392419e+10         5641476      M    2016-04-29      2016-04-29   \n",
       "188     1.883366e+14         5640933      M    2016-04-29      2016-04-29   \n",
       "192     1.165338e+12         5640561      M    2016-04-29      2016-04-29   \n",
       "193     2.379698e+11         5532452      F    2016-03-31      2016-04-29   \n",
       "194     4.442538e+11         5539566      M    2016-04-01      2016-04-29   \n",
       "250     2.942723e+14         5640181      M    2016-04-29      2016-04-29   \n",
       "256     8.599713e+10         5629906      F    2016-04-27      2016-04-29   \n",
       "266     1.198173e+13         5639237      M    2016-04-29      2016-04-29   \n",
       "292     4.645238e+13         5642766      F    2016-04-29      2016-04-29   \n",
       "305     9.794819e+11         5638226      F    2016-04-29      2016-04-29   \n",
       "306     2.648746e+11         5638370      M    2016-04-29      2016-04-29   \n",
       "310     3.732371e+14         5639056      M    2016-04-29      2016-04-29   \n",
       "358     7.349270e+14         5531831      F    2016-03-31      2016-04-29   \n",
       "359     7.975283e+11         5551583      M    2016-04-06      2016-04-29   \n",
       "366     3.499167e+14         5531933      F    2016-03-31      2016-04-29   \n",
       "377     9.123627e+11         5522585      M    2016-03-29      2016-04-29   \n",
       "434     9.625417e+14         5533985      F    2016-03-31      2016-04-29   \n",
       "524     5.815365e+13         5488633      M    2016-03-18      2016-04-29   \n",
       "525     4.239228e+13         5537936      F    2016-04-01      2016-04-29   \n",
       "526     8.574376e+12         5639659      M    2016-04-29      2016-04-29   \n",
       "565     5.569896e+14         5591488      F    2016-04-15      2016-04-29   \n",
       "...              ...             ...    ...           ...             ...   \n",
       "109629  3.689222e+13         5660428      F    2016-05-04      2016-06-01   \n",
       "109633  3.689222e+13         5660427      F    2016-05-04      2016-06-01   \n",
       "109646  5.941811e+13         5659194      M    2016-05-04      2016-06-01   \n",
       "109647  5.635258e+13         5691391      M    2016-05-12      2016-06-08   \n",
       "109649  5.941811e+13         5659193      M    2016-05-04      2016-06-01   \n",
       "109650  5.635258e+13         5691390      M    2016-05-12      2016-06-08   \n",
       "109830  6.931429e+11         5739239      F    2016-05-25      2016-06-02   \n",
       "109847  9.174483e+11         5685977      M    2016-05-11      2016-06-02   \n",
       "109848  5.853540e+12         5707361      M    2016-05-17      2016-06-02   \n",
       "109852  1.663316e+13         5731578      F    2016-05-24      2016-06-02   \n",
       "110231  1.731548e+14         5634706      M    2016-04-28      2016-06-01   \n",
       "110235  3.279373e+14         5634274      M    2016-04-28      2016-06-01   \n",
       "110236  1.174717e+13         5669996      M    2016-05-06      2016-06-08   \n",
       "110299  5.944513e+10         5746323      F    2016-05-30      2016-06-07   \n",
       "110313  8.535734e+12         5600209      F    2016-04-19      2016-06-06   \n",
       "110319  4.524190e+11         5640301      F    2016-04-29      2016-06-06   \n",
       "110320  3.459268e+13         5675103      M    2016-05-09      2016-06-06   \n",
       "110321  1.388630e+11         5338643      M    2016-02-11      2016-06-01   \n",
       "110331  2.739486e+13         5392089      F    2016-02-24      2016-06-01   \n",
       "110334  1.174717e+13         5756343      M    2016-06-01      2016-06-01   \n",
       "110335  3.747953e+11         5338761      M    2016-02-11      2016-06-01   \n",
       "110339  3.731746e+12         5584042      M    2016-04-14      2016-06-01   \n",
       "110341  4.696832e+12         5713894      M    2016-05-18      2016-06-01   \n",
       "110342  3.147163e+11         5776749      M    2016-06-06      2016-06-08   \n",
       "110343  1.759439e+12         5690822      F    2016-05-12      2016-06-01   \n",
       "110345  1.473952e+14         5702537      F    2016-05-16      2016-06-01   \n",
       "110346  5.577525e+12         5777724      M    2016-06-06      2016-06-08   \n",
       "110454  6.142460e+11         5772400      F    2016-06-03      2016-06-03   \n",
       "110460  4.321846e+13         5769545      F    2016-06-03      2016-06-03   \n",
       "110507  4.769462e+14         5786918      F    2016-06-08      2016-06-08   \n",
       "\n",
       "        age        neighbourhood  scholarship  hipertension  diabetes  \\\n",
       "59        0            CONQUISTA            0             0         0   \n",
       "63        0         SÃO BENEDITO            0             0         0   \n",
       "64        0    ILHA DAS CAIEIRAS            0             0         0   \n",
       "65        0            CONQUISTA            0             0         0   \n",
       "67        0       NOVA PALESTINA            0             0         0   \n",
       "89        0           MONTE BELO            0             0         0   \n",
       "101       0               BONFIM            0             0         0   \n",
       "104       0        SANTO ANTÔNIO            0             0         0   \n",
       "132       0         PRAIA DO SUÁ            0             0         0   \n",
       "150       0              ITARARÉ            0             0         0   \n",
       "188       0       NOVA PALESTINA            0             0         0   \n",
       "192       0            CONQUISTA            0             0         0   \n",
       "193       0       NOVA PALESTINA            0             0         0   \n",
       "194       0             REDENÇÃO            0             0         0   \n",
       "250       0            CARATOÍRA            0             0         0   \n",
       "256       0  ARIOVALDO FAVALESSA            0             0         0   \n",
       "266       0          MARIA ORTIZ            0             0         0   \n",
       "292       0             GURIGICA            0             0         0   \n",
       "305       0          JOANA D´ARC            0             0         0   \n",
       "306       0         SANTA MARTHA            0             0         0   \n",
       "310       0         SANTA MARTHA            0             0         0   \n",
       "358       0           CONSOLAÇÃO            0             0         0   \n",
       "359       0           CONSOLAÇÃO            0             0         0   \n",
       "366       0           CONSOLAÇÃO            0             0         0   \n",
       "377       0             DA PENHA            0             0         0   \n",
       "434       0    MORADA DE CAMBURI            0             0         0   \n",
       "524       0              ITARARÉ            0             0         0   \n",
       "525       0              ITARARÉ            0             0         0   \n",
       "526       0              ITARARÉ            0             0         0   \n",
       "565       0          SANTA LUÍZA            0             0         0   \n",
       "...     ...                  ...          ...           ...       ...   \n",
       "109629    0                ROMÃO            0             0         0   \n",
       "109633    0                ROMÃO            0             0         0   \n",
       "109646    0       FORTE SÃO JOÃO            0             0         0   \n",
       "109647    0       FORTE SÃO JOÃO            0             0         0   \n",
       "109649    0       FORTE SÃO JOÃO            0             0         0   \n",
       "109650    0       FORTE SÃO JOÃO            0             0         0   \n",
       "109830    0         SÃO BENEDITO            0             0         0   \n",
       "109847    0       NOVA PALESTINA            0             0         0   \n",
       "109848    0          RESISTÊNCIA            0             0         0   \n",
       "109852    0          RESISTÊNCIA            0             0         0   \n",
       "110231    0          RESISTÊNCIA            0             0         0   \n",
       "110235    0          RESISTÊNCIA            0             0         0   \n",
       "110236    0          RESISTÊNCIA            0             0         0   \n",
       "110299    0          RESISTÊNCIA            0             0         0   \n",
       "110313    0          RESISTÊNCIA            0             0         0   \n",
       "110319    0          RESISTÊNCIA            0             0         0   \n",
       "110320    0          RESISTÊNCIA            0             0         0   \n",
       "110321    0          RESISTÊNCIA            0             0         0   \n",
       "110331    0          RESISTÊNCIA            0             0         0   \n",
       "110334    0          RESISTÊNCIA            0             0         0   \n",
       "110335    0          RESISTÊNCIA            0             0         0   \n",
       "110339    0          RESISTÊNCIA            0             0         0   \n",
       "110341    0          RESISTÊNCIA            0             0         0   \n",
       "110342    0          RESISTÊNCIA            0             0         0   \n",
       "110343    0          RESISTÊNCIA            0             0         0   \n",
       "110345    0          RESISTÊNCIA            0             0         0   \n",
       "110346    0          RESISTÊNCIA            0             0         0   \n",
       "110454    0          RESISTÊNCIA            0             0         0   \n",
       "110460    0          RESISTÊNCIA            0             0         0   \n",
       "110507    0          MARIA ORTIZ            0             0         0   \n",
       "\n",
       "        alcoholism  handcap  sms_received  showed_up  \n",
       "59               0        0             0          1  \n",
       "63               0        0             0          1  \n",
       "64               0        0             1          1  \n",
       "65               0        0             0          1  \n",
       "67               0        0             0          1  \n",
       "89               0        0             0          1  \n",
       "101              0        0             0          1  \n",
       "104              0        0             0          0  \n",
       "132              0        0             1          0  \n",
       "150              0        0             0          1  \n",
       "188              0        0             0          1  \n",
       "192              0        0             0          1  \n",
       "193              0        0             1          1  \n",
       "194              0        0             0          1  \n",
       "250              0        0             0          0  \n",
       "256              0        0             0          0  \n",
       "266              0        0             0          1  \n",
       "292              0        0             0          1  \n",
       "305              0        0             0          1  \n",
       "306              0        0             0          1  \n",
       "310              0        0             0          1  \n",
       "358              0        0             0          0  \n",
       "359              0        0             0          1  \n",
       "366              0        0             1          0  \n",
       "377              0        0             1          1  \n",
       "434              0        0             1          0  \n",
       "524              0        0             1          1  \n",
       "525              0        0             1          0  \n",
       "526              0        0             0          1  \n",
       "565              0        0             1          1  \n",
       "...            ...      ...           ...        ...  \n",
       "109629           0        0             0          0  \n",
       "109633           0        0             1          0  \n",
       "109646           0        0             0          1  \n",
       "109647           0        0             0          0  \n",
       "109649           0        0             0          1  \n",
       "109650           0        0             0          0  \n",
       "109830           0        0             0          0  \n",
       "109847           0        0             1          0  \n",
       "109848           0        0             0          1  \n",
       "109852           0        0             0          1  \n",
       "110231           0        0             0          1  \n",
       "110235           0        0             0          0  \n",
       "110236           0        0             1          1  \n",
       "110299           0        0             1          0  \n",
       "110313           0        0             1          1  \n",
       "110319           0        0             1          1  \n",
       "110320           0        0             1          1  \n",
       "110321           0        0             1          1  \n",
       "110331           0        0             1          0  \n",
       "110334           0        0             0          1  \n",
       "110335           0        0             1          1  \n",
       "110339           0        0             1          0  \n",
       "110341           0        0             1          1  \n",
       "110342           0        0             0          1  \n",
       "110343           0        0             1          1  \n",
       "110345           0        0             0          1  \n",
       "110346           0        0             0          1  \n",
       "110454           0        0             0          1  \n",
       "110460           0        0             0          1  \n",
       "110507           0        0             0          1  \n",
       "\n",
       "[3539 rows x 14 columns]"
      ]
     },
     "execution_count": 158,
     "metadata": {},
     "output_type": "execute_result"
    }
   ],
   "source": [
    "df.query('age == 0')"
   ]
  },
  {
   "cell_type": "markdown",
   "metadata": {},
   "source": [
    "Seems alright. Let's check the ages avaliable in the data set."
   ]
  },
  {
   "cell_type": "code",
   "execution_count": 159,
   "metadata": {},
   "outputs": [
    {
     "data": {
      "text/plain": [
       "array([ -1,   0,   1,   2,   3,   4,   5,   6,   7,   8,   9,  10,  11,\n",
       "        12,  13,  14,  15,  16,  17,  18,  19,  20,  21,  22,  23,  24,\n",
       "        25,  26,  27,  28,  29,  30,  31,  32,  33,  34,  35,  36,  37,\n",
       "        38,  39,  40,  41,  42,  43,  44,  45,  46,  47,  48,  49,  50,\n",
       "        51,  52,  53,  54,  55,  56,  57,  58,  59,  60,  61,  62,  63,\n",
       "        64,  65,  66,  67,  68,  69,  70,  71,  72,  73,  74,  75,  76,\n",
       "        77,  78,  79,  80,  81,  82,  83,  84,  85,  86,  87,  88,  89,\n",
       "        90,  91,  92,  93,  94,  95,  96,  97,  98,  99, 100, 102, 115],\n",
       "      dtype=int64)"
      ]
     },
     "execution_count": 159,
     "metadata": {},
     "output_type": "execute_result"
    }
   ],
   "source": [
    "ages = df.age.unique()\n",
    "ages.sort()\n",
    "ages"
   ]
  },
  {
   "cell_type": "markdown",
   "metadata": {},
   "source": [
    "We have all the ages, with no interruption, until 98 years old."
   ]
  },
  {
   "cell_type": "markdown",
   "metadata": {},
   "source": [
    "### Check neighbourhood <a id='check_nei'/>\n",
    " The column neighbourhood could have values duplicated with different cases. Let's check it. <a href='#topo'>Top</a>"
   ]
  },
  {
   "cell_type": "code",
   "execution_count": 160,
   "metadata": {},
   "outputs": [
    {
     "data": {
      "text/plain": [
       "array(['JARDIM DA PENHA', 'MATA DA PRAIA', 'PONTAL DE CAMBURI',\n",
       "       'REPÚBLICA', 'GOIABEIRAS', 'ANDORINHAS', 'CONQUISTA',\n",
       "       'NOVA PALESTINA', 'DA PENHA', 'TABUAZEIRO', 'BENTO FERREIRA',\n",
       "       'SÃO PEDRO', 'SANTA MARTHA', 'SÃO CRISTÓVÃO', 'MARUÍPE',\n",
       "       'GRANDE VITÓRIA', 'SÃO BENEDITO', 'ILHA DAS CAIEIRAS',\n",
       "       'SANTO ANDRÉ', 'SOLON BORGES', 'BONFIM', 'JARDIM CAMBURI',\n",
       "       'MARIA ORTIZ', 'JABOUR', 'ANTÔNIO HONÓRIO', 'RESISTÊNCIA',\n",
       "       'ILHA DE SANTA MARIA', 'JUCUTUQUARA', 'MONTE BELO',\n",
       "       'MÁRIO CYPRESTE', 'SANTO ANTÔNIO', 'BELA VISTA', 'PRAIA DO SUÁ',\n",
       "       'SANTA HELENA', 'ITARARÉ', 'INHANGUETÁ', 'UNIVERSITÁRIO',\n",
       "       'SÃO JOSÉ', 'REDENÇÃO', 'SANTA CLARA', 'CENTRO', 'PARQUE MOSCOSO',\n",
       "       'DO MOSCOSO', 'SANTOS DUMONT', 'CARATOÍRA', 'ARIOVALDO FAVALESSA',\n",
       "       'ILHA DO FRADE', 'GURIGICA', 'JOANA D´ARC', 'CONSOLAÇÃO',\n",
       "       'PRAIA DO CANTO', 'BOA VISTA', 'MORADA DE CAMBURI', 'SANTA LUÍZA',\n",
       "       'SANTA LÚCIA', 'BARRO VERMELHO', 'ESTRELINHA', 'FORTE SÃO JOÃO',\n",
       "       'FONTE GRANDE', 'ENSEADA DO SUÁ', 'SANTOS REIS', 'PIEDADE',\n",
       "       'JESUS DE NAZARETH', 'SANTA TEREZA', 'CRUZAMENTO',\n",
       "       'ILHA DO PRÍNCIPE', 'ROMÃO', 'COMDUSA', 'SANTA CECÍLIA',\n",
       "       'VILA RUBIM', 'DE LOURDES', 'DO QUADRO', 'DO CABRAL', 'HORTO',\n",
       "       'SEGURANÇA DO LAR', 'ILHA DO BOI', 'FRADINHOS', 'NAZARETH',\n",
       "       'AEROPORTO', 'ILHAS OCEÂNICAS DE TRINDADE', 'PARQUE INDUSTRIAL'],\n",
       "      dtype=object)"
      ]
     },
     "execution_count": 160,
     "metadata": {},
     "output_type": "execute_result"
    }
   ],
   "source": [
    "df.neighbourhood.unique()"
   ]
  },
  {
   "cell_type": "markdown",
   "metadata": {},
   "source": [
    "### Create column waiting days <a id='create_dif'/>\n",
    "I am going to create a new column the store the patient waiting days. <a href='#topo'>Top</a>"
   ]
  },
  {
   "cell_type": "code",
   "execution_count": 161,
   "metadata": {
    "scrolled": false
   },
   "outputs": [
    {
     "data": {
      "text/html": [
       "<div>\n",
       "<style scoped>\n",
       "    .dataframe tbody tr th:only-of-type {\n",
       "        vertical-align: middle;\n",
       "    }\n",
       "\n",
       "    .dataframe tbody tr th {\n",
       "        vertical-align: top;\n",
       "    }\n",
       "\n",
       "    .dataframe thead th {\n",
       "        text-align: right;\n",
       "    }\n",
       "</style>\n",
       "<table border=\"1\" class=\"dataframe\">\n",
       "  <thead>\n",
       "    <tr style=\"text-align: right;\">\n",
       "      <th></th>\n",
       "      <th>patient_id</th>\n",
       "      <th>appointment_id</th>\n",
       "      <th>gender</th>\n",
       "      <th>scheduled_day</th>\n",
       "      <th>appointment_day</th>\n",
       "      <th>age</th>\n",
       "      <th>neighbourhood</th>\n",
       "      <th>scholarship</th>\n",
       "      <th>hipertension</th>\n",
       "      <th>diabetes</th>\n",
       "      <th>alcoholism</th>\n",
       "      <th>handcap</th>\n",
       "      <th>sms_received</th>\n",
       "      <th>showed_up</th>\n",
       "    </tr>\n",
       "  </thead>\n",
       "  <tbody>\n",
       "    <tr>\n",
       "      <th>0</th>\n",
       "      <td>2.987250e+13</td>\n",
       "      <td>5642903</td>\n",
       "      <td>F</td>\n",
       "      <td>2016-04-29</td>\n",
       "      <td>2016-04-29</td>\n",
       "      <td>62</td>\n",
       "      <td>JARDIM DA PENHA</td>\n",
       "      <td>0</td>\n",
       "      <td>1</td>\n",
       "      <td>0</td>\n",
       "      <td>0</td>\n",
       "      <td>0</td>\n",
       "      <td>0</td>\n",
       "      <td>1</td>\n",
       "    </tr>\n",
       "    <tr>\n",
       "      <th>1</th>\n",
       "      <td>5.589978e+14</td>\n",
       "      <td>5642503</td>\n",
       "      <td>M</td>\n",
       "      <td>2016-04-29</td>\n",
       "      <td>2016-04-29</td>\n",
       "      <td>56</td>\n",
       "      <td>JARDIM DA PENHA</td>\n",
       "      <td>0</td>\n",
       "      <td>0</td>\n",
       "      <td>0</td>\n",
       "      <td>0</td>\n",
       "      <td>0</td>\n",
       "      <td>0</td>\n",
       "      <td>1</td>\n",
       "    </tr>\n",
       "    <tr>\n",
       "      <th>2</th>\n",
       "      <td>4.262962e+12</td>\n",
       "      <td>5642549</td>\n",
       "      <td>F</td>\n",
       "      <td>2016-04-29</td>\n",
       "      <td>2016-04-29</td>\n",
       "      <td>62</td>\n",
       "      <td>MATA DA PRAIA</td>\n",
       "      <td>0</td>\n",
       "      <td>0</td>\n",
       "      <td>0</td>\n",
       "      <td>0</td>\n",
       "      <td>0</td>\n",
       "      <td>0</td>\n",
       "      <td>1</td>\n",
       "    </tr>\n",
       "    <tr>\n",
       "      <th>3</th>\n",
       "      <td>8.679512e+11</td>\n",
       "      <td>5642828</td>\n",
       "      <td>F</td>\n",
       "      <td>2016-04-29</td>\n",
       "      <td>2016-04-29</td>\n",
       "      <td>8</td>\n",
       "      <td>PONTAL DE CAMBURI</td>\n",
       "      <td>0</td>\n",
       "      <td>0</td>\n",
       "      <td>0</td>\n",
       "      <td>0</td>\n",
       "      <td>0</td>\n",
       "      <td>0</td>\n",
       "      <td>1</td>\n",
       "    </tr>\n",
       "  </tbody>\n",
       "</table>\n",
       "</div>"
      ],
      "text/plain": [
       "     patient_id  appointment_id gender scheduled_day appointment_day  age  \\\n",
       "0  2.987250e+13         5642903      F    2016-04-29      2016-04-29   62   \n",
       "1  5.589978e+14         5642503      M    2016-04-29      2016-04-29   56   \n",
       "2  4.262962e+12         5642549      F    2016-04-29      2016-04-29   62   \n",
       "3  8.679512e+11         5642828      F    2016-04-29      2016-04-29    8   \n",
       "\n",
       "       neighbourhood  scholarship  hipertension  diabetes  alcoholism  \\\n",
       "0    JARDIM DA PENHA            0             1         0           0   \n",
       "1    JARDIM DA PENHA            0             0         0           0   \n",
       "2      MATA DA PRAIA            0             0         0           0   \n",
       "3  PONTAL DE CAMBURI            0             0         0           0   \n",
       "\n",
       "   handcap  sms_received  showed_up  \n",
       "0        0             0          1  \n",
       "1        0             0          1  \n",
       "2        0             0          1  \n",
       "3        0             0          1  "
      ]
     },
     "execution_count": 161,
     "metadata": {},
     "output_type": "execute_result"
    }
   ],
   "source": [
    "df.head(4)"
   ]
  },
  {
   "cell_type": "code",
   "execution_count": 162,
   "metadata": {},
   "outputs": [],
   "source": [
    "days_time = df.appointment_day - df.scheduled_day\n",
    "days = days_time / np.timedelta64(1, 'D')\n",
    "days = days.astype(int)"
   ]
  },
  {
   "cell_type": "code",
   "execution_count": 163,
   "metadata": {},
   "outputs": [],
   "source": [
    "df.insert(df.columns.get_loc('appointment_day') + 1, 'waiting_days', days)"
   ]
  },
  {
   "cell_type": "code",
   "execution_count": 164,
   "metadata": {},
   "outputs": [
    {
     "data": {
      "text/html": [
       "<div>\n",
       "<style scoped>\n",
       "    .dataframe tbody tr th:only-of-type {\n",
       "        vertical-align: middle;\n",
       "    }\n",
       "\n",
       "    .dataframe tbody tr th {\n",
       "        vertical-align: top;\n",
       "    }\n",
       "\n",
       "    .dataframe thead th {\n",
       "        text-align: right;\n",
       "    }\n",
       "</style>\n",
       "<table border=\"1\" class=\"dataframe\">\n",
       "  <thead>\n",
       "    <tr style=\"text-align: right;\">\n",
       "      <th></th>\n",
       "      <th>patient_id</th>\n",
       "      <th>appointment_id</th>\n",
       "      <th>gender</th>\n",
       "      <th>scheduled_day</th>\n",
       "      <th>appointment_day</th>\n",
       "      <th>waiting_days</th>\n",
       "      <th>age</th>\n",
       "      <th>neighbourhood</th>\n",
       "      <th>scholarship</th>\n",
       "      <th>hipertension</th>\n",
       "      <th>diabetes</th>\n",
       "      <th>alcoholism</th>\n",
       "      <th>handcap</th>\n",
       "      <th>sms_received</th>\n",
       "      <th>showed_up</th>\n",
       "    </tr>\n",
       "  </thead>\n",
       "  <tbody>\n",
       "    <tr>\n",
       "      <th>0</th>\n",
       "      <td>2.987250e+13</td>\n",
       "      <td>5642903</td>\n",
       "      <td>F</td>\n",
       "      <td>2016-04-29</td>\n",
       "      <td>2016-04-29</td>\n",
       "      <td>0</td>\n",
       "      <td>62</td>\n",
       "      <td>JARDIM DA PENHA</td>\n",
       "      <td>0</td>\n",
       "      <td>1</td>\n",
       "      <td>0</td>\n",
       "      <td>0</td>\n",
       "      <td>0</td>\n",
       "      <td>0</td>\n",
       "      <td>1</td>\n",
       "    </tr>\n",
       "    <tr>\n",
       "      <th>1</th>\n",
       "      <td>5.589978e+14</td>\n",
       "      <td>5642503</td>\n",
       "      <td>M</td>\n",
       "      <td>2016-04-29</td>\n",
       "      <td>2016-04-29</td>\n",
       "      <td>0</td>\n",
       "      <td>56</td>\n",
       "      <td>JARDIM DA PENHA</td>\n",
       "      <td>0</td>\n",
       "      <td>0</td>\n",
       "      <td>0</td>\n",
       "      <td>0</td>\n",
       "      <td>0</td>\n",
       "      <td>0</td>\n",
       "      <td>1</td>\n",
       "    </tr>\n",
       "    <tr>\n",
       "      <th>2</th>\n",
       "      <td>4.262962e+12</td>\n",
       "      <td>5642549</td>\n",
       "      <td>F</td>\n",
       "      <td>2016-04-29</td>\n",
       "      <td>2016-04-29</td>\n",
       "      <td>0</td>\n",
       "      <td>62</td>\n",
       "      <td>MATA DA PRAIA</td>\n",
       "      <td>0</td>\n",
       "      <td>0</td>\n",
       "      <td>0</td>\n",
       "      <td>0</td>\n",
       "      <td>0</td>\n",
       "      <td>0</td>\n",
       "      <td>1</td>\n",
       "    </tr>\n",
       "    <tr>\n",
       "      <th>3</th>\n",
       "      <td>8.679512e+11</td>\n",
       "      <td>5642828</td>\n",
       "      <td>F</td>\n",
       "      <td>2016-04-29</td>\n",
       "      <td>2016-04-29</td>\n",
       "      <td>0</td>\n",
       "      <td>8</td>\n",
       "      <td>PONTAL DE CAMBURI</td>\n",
       "      <td>0</td>\n",
       "      <td>0</td>\n",
       "      <td>0</td>\n",
       "      <td>0</td>\n",
       "      <td>0</td>\n",
       "      <td>0</td>\n",
       "      <td>1</td>\n",
       "    </tr>\n",
       "  </tbody>\n",
       "</table>\n",
       "</div>"
      ],
      "text/plain": [
       "     patient_id  appointment_id gender scheduled_day appointment_day  \\\n",
       "0  2.987250e+13         5642903      F    2016-04-29      2016-04-29   \n",
       "1  5.589978e+14         5642503      M    2016-04-29      2016-04-29   \n",
       "2  4.262962e+12         5642549      F    2016-04-29      2016-04-29   \n",
       "3  8.679512e+11         5642828      F    2016-04-29      2016-04-29   \n",
       "\n",
       "   waiting_days  age      neighbourhood  scholarship  hipertension  diabetes  \\\n",
       "0             0   62    JARDIM DA PENHA            0             1         0   \n",
       "1             0   56    JARDIM DA PENHA            0             0         0   \n",
       "2             0   62      MATA DA PRAIA            0             0         0   \n",
       "3             0    8  PONTAL DE CAMBURI            0             0         0   \n",
       "\n",
       "   alcoholism  handcap  sms_received  showed_up  \n",
       "0           0        0             0          1  \n",
       "1           0        0             0          1  \n",
       "2           0        0             0          1  \n",
       "3           0        0             0          1  "
      ]
     },
     "execution_count": 164,
     "metadata": {},
     "output_type": "execute_result"
    }
   ],
   "source": [
    "df.head(4)"
   ]
  },
  {
   "cell_type": "code",
   "execution_count": 165,
   "metadata": {},
   "outputs": [
    {
     "name": "stdout",
     "output_type": "stream",
     "text": [
      "<class 'pandas.core.frame.DataFrame'>\n",
      "Int64Index: 110522 entries, 0 to 110526\n",
      "Data columns (total 15 columns):\n",
      "patient_id         110522 non-null float64\n",
      "appointment_id     110522 non-null int64\n",
      "gender             110522 non-null object\n",
      "scheduled_day      110522 non-null datetime64[ns]\n",
      "appointment_day    110522 non-null datetime64[ns]\n",
      "waiting_days       110522 non-null int32\n",
      "age                110522 non-null int64\n",
      "neighbourhood      110522 non-null object\n",
      "scholarship        110522 non-null int64\n",
      "hipertension       110522 non-null int64\n",
      "diabetes           110522 non-null int64\n",
      "alcoholism         110522 non-null int64\n",
      "handcap            110522 non-null int64\n",
      "sms_received       110522 non-null int64\n",
      "showed_up          110522 non-null int64\n",
      "dtypes: datetime64[ns](2), float64(1), int32(1), int64(9), object(2)\n",
      "memory usage: 13.1+ MB\n"
     ]
    }
   ],
   "source": [
    "df.info()"
   ]
  },
  {
   "cell_type": "code",
   "execution_count": 166,
   "metadata": {
    "scrolled": true
   },
   "outputs": [
    {
     "data": {
      "text/plain": [
       "count    110522.000000\n",
       "mean         10.184253\n",
       "std          15.255115\n",
       "min           0.000000\n",
       "25%           0.000000\n",
       "50%           4.000000\n",
       "75%          15.000000\n",
       "max         179.000000\n",
       "Name: waiting_days, dtype: float64"
      ]
     },
     "execution_count": 166,
     "metadata": {},
     "output_type": "execute_result"
    }
   ],
   "source": [
    "df.waiting_days.describe()"
   ]
  },
  {
   "cell_type": "code",
   "execution_count": 167,
   "metadata": {
    "scrolled": true
   },
   "outputs": [
    {
     "data": {
      "text/plain": [
       "0      38563\n",
       "2       6725\n",
       "4       5290\n",
       "1       5213\n",
       "7       4906\n",
       "6       4037\n",
       "5       3277\n",
       "14      2913\n",
       "3       2737\n",
       "8       2332\n",
       "21      1861\n",
       "28      1706\n",
       "13      1682\n",
       "9       1605\n",
       "15      1503\n",
       "10      1391\n",
       "20      1187\n",
       "22      1173\n",
       "16      1151\n",
       "12      1115\n",
       "17      1107\n",
       "29      1089\n",
       "19      1044\n",
       "18      1021\n",
       "27      1013\n",
       "11       987\n",
       "35       963\n",
       "23       822\n",
       "34       808\n",
       "26       731\n",
       "       ...  \n",
       "103        5\n",
       "109        5\n",
       "111        5\n",
       "98         5\n",
       "95         5\n",
       "112        5\n",
       "108        5\n",
       "96         4\n",
       "102        4\n",
       "105        4\n",
       "119        4\n",
       "92         3\n",
       "122        3\n",
       "107        2\n",
       "115        2\n",
       "93         2\n",
       "94         2\n",
       "97         2\n",
       "110        2\n",
       "126        1\n",
       "125        1\n",
       "123        1\n",
       "117        1\n",
       "139        1\n",
       "82         1\n",
       "101        1\n",
       "132        1\n",
       "151        1\n",
       "146        1\n",
       "127        1\n",
       "Name: waiting_days, Length: 129, dtype: int64"
      ]
     },
     "execution_count": 167,
     "metadata": {},
     "output_type": "execute_result"
    }
   ],
   "source": [
    "df.waiting_days.value_counts()"
   ]
  },
  {
   "cell_type": "markdown",
   "metadata": {},
   "source": [
    "### Save data cleaned <a id='save'/>\n",
    "I am going to save the data cleaned. <a href='#topo'>Top</a>"
   ]
  },
  {
   "cell_type": "code",
   "execution_count": 168,
   "metadata": {},
   "outputs": [],
   "source": [
    "df.to_csv('brasil_migue_v2.csv')"
   ]
  },
  {
   "cell_type": "markdown",
   "metadata": {},
   "source": [
    "## Exploratory Data Analysis <a id='eda'/>\n",
    "\n",
    "Now is time to explore some correlations between patients that do not show up in your appointments. <a href='#topo'>Top</a>"
   ]
  },
  {
   "cell_type": "markdown",
   "metadata": {},
   "source": [
    "### What the percentage of patients who did not showed up? <a id='w_percentage'/>\n",
    "First. I want to know how many patients are missing your appointment. <a href='#topo'>Top</a> - <a href='#c_percentage'>Conclusion</a>"
   ]
  },
  {
   "cell_type": "code",
   "execution_count": 169,
   "metadata": {},
   "outputs": [
    {
     "data": {
      "text/plain": [
       "20.18964550044335"
      ]
     },
     "execution_count": 169,
     "metadata": {},
     "output_type": "execute_result"
    }
   ],
   "source": [
    "not_showed_up = df.query('showed_up == 0').showed_up.count()\n",
    "not_showed_up_percentage = (not_showed_up / df.showed_up.count()) * 100\n",
    "not_showed_up_percentage"
   ]
  },
  {
   "cell_type": "markdown",
   "metadata": {},
   "source": [
    "20.19% patients do not showed up. "
   ]
  },
  {
   "cell_type": "markdown",
   "metadata": {},
   "source": [
    "### What ages have more patients who did not showed up? <a id='w_age'/>\n",
    "First I am going to divide the dataframe in 2 groups, the showed up and the not shoewd up. <a href='#topo'>Top</a>"
   ]
  },
  {
   "cell_type": "markdown",
   "metadata": {},
   "source": [
    "#### Divide in 2 groups, showed up and not showed up <a id='divide'/> <a href='#topo'>Top</a>"
   ]
  },
  {
   "cell_type": "code",
   "execution_count": 170,
   "metadata": {},
   "outputs": [],
   "source": [
    "df_not_showed_up = df.query('showed_up == 0')\n",
    "df_showed_up = df.query('showed_up == 1')"
   ]
  },
  {
   "cell_type": "code",
   "execution_count": 171,
   "metadata": {},
   "outputs": [
    {
     "data": {
      "text/html": [
       "<div>\n",
       "<style scoped>\n",
       "    .dataframe tbody tr th:only-of-type {\n",
       "        vertical-align: middle;\n",
       "    }\n",
       "\n",
       "    .dataframe tbody tr th {\n",
       "        vertical-align: top;\n",
       "    }\n",
       "\n",
       "    .dataframe thead th {\n",
       "        text-align: right;\n",
       "    }\n",
       "</style>\n",
       "<table border=\"1\" class=\"dataframe\">\n",
       "  <thead>\n",
       "    <tr style=\"text-align: right;\">\n",
       "      <th></th>\n",
       "      <th>patient_id</th>\n",
       "      <th>appointment_id</th>\n",
       "      <th>gender</th>\n",
       "      <th>scheduled_day</th>\n",
       "      <th>appointment_day</th>\n",
       "      <th>waiting_days</th>\n",
       "      <th>age</th>\n",
       "      <th>neighbourhood</th>\n",
       "      <th>scholarship</th>\n",
       "      <th>hipertension</th>\n",
       "      <th>diabetes</th>\n",
       "      <th>alcoholism</th>\n",
       "      <th>handcap</th>\n",
       "      <th>sms_received</th>\n",
       "      <th>showed_up</th>\n",
       "    </tr>\n",
       "  </thead>\n",
       "  <tbody>\n",
       "    <tr>\n",
       "      <th>6</th>\n",
       "      <td>7.336882e+14</td>\n",
       "      <td>5630279</td>\n",
       "      <td>F</td>\n",
       "      <td>2016-04-27</td>\n",
       "      <td>2016-04-29</td>\n",
       "      <td>2</td>\n",
       "      <td>23</td>\n",
       "      <td>GOIABEIRAS</td>\n",
       "      <td>0</td>\n",
       "      <td>0</td>\n",
       "      <td>0</td>\n",
       "      <td>0</td>\n",
       "      <td>0</td>\n",
       "      <td>0</td>\n",
       "      <td>0</td>\n",
       "    </tr>\n",
       "    <tr>\n",
       "      <th>7</th>\n",
       "      <td>3.449833e+12</td>\n",
       "      <td>5630575</td>\n",
       "      <td>F</td>\n",
       "      <td>2016-04-27</td>\n",
       "      <td>2016-04-29</td>\n",
       "      <td>2</td>\n",
       "      <td>39</td>\n",
       "      <td>GOIABEIRAS</td>\n",
       "      <td>0</td>\n",
       "      <td>0</td>\n",
       "      <td>0</td>\n",
       "      <td>0</td>\n",
       "      <td>0</td>\n",
       "      <td>0</td>\n",
       "      <td>0</td>\n",
       "    </tr>\n",
       "    <tr>\n",
       "      <th>11</th>\n",
       "      <td>7.542951e+12</td>\n",
       "      <td>5620163</td>\n",
       "      <td>M</td>\n",
       "      <td>2016-04-26</td>\n",
       "      <td>2016-04-29</td>\n",
       "      <td>3</td>\n",
       "      <td>29</td>\n",
       "      <td>NOVA PALESTINA</td>\n",
       "      <td>0</td>\n",
       "      <td>0</td>\n",
       "      <td>0</td>\n",
       "      <td>0</td>\n",
       "      <td>0</td>\n",
       "      <td>1</td>\n",
       "      <td>0</td>\n",
       "    </tr>\n",
       "    <tr>\n",
       "      <th>17</th>\n",
       "      <td>1.479497e+13</td>\n",
       "      <td>5633460</td>\n",
       "      <td>F</td>\n",
       "      <td>2016-04-28</td>\n",
       "      <td>2016-04-29</td>\n",
       "      <td>1</td>\n",
       "      <td>40</td>\n",
       "      <td>CONQUISTA</td>\n",
       "      <td>1</td>\n",
       "      <td>0</td>\n",
       "      <td>0</td>\n",
       "      <td>0</td>\n",
       "      <td>0</td>\n",
       "      <td>0</td>\n",
       "      <td>0</td>\n",
       "    </tr>\n",
       "  </tbody>\n",
       "</table>\n",
       "</div>"
      ],
      "text/plain": [
       "      patient_id  appointment_id gender scheduled_day appointment_day  \\\n",
       "6   7.336882e+14         5630279      F    2016-04-27      2016-04-29   \n",
       "7   3.449833e+12         5630575      F    2016-04-27      2016-04-29   \n",
       "11  7.542951e+12         5620163      M    2016-04-26      2016-04-29   \n",
       "17  1.479497e+13         5633460      F    2016-04-28      2016-04-29   \n",
       "\n",
       "    waiting_days  age   neighbourhood  scholarship  hipertension  diabetes  \\\n",
       "6              2   23      GOIABEIRAS            0             0         0   \n",
       "7              2   39      GOIABEIRAS            0             0         0   \n",
       "11             3   29  NOVA PALESTINA            0             0         0   \n",
       "17             1   40       CONQUISTA            1             0         0   \n",
       "\n",
       "    alcoholism  handcap  sms_received  showed_up  \n",
       "6            0        0             0          0  \n",
       "7            0        0             0          0  \n",
       "11           0        0             1          0  \n",
       "17           0        0             0          0  "
      ]
     },
     "execution_count": 171,
     "metadata": {},
     "output_type": "execute_result"
    }
   ],
   "source": [
    "df_not_showed_up.head(4)"
   ]
  },
  {
   "cell_type": "code",
   "execution_count": 172,
   "metadata": {
    "scrolled": false
   },
   "outputs": [
    {
     "data": {
      "text/html": [
       "<div>\n",
       "<style scoped>\n",
       "    .dataframe tbody tr th:only-of-type {\n",
       "        vertical-align: middle;\n",
       "    }\n",
       "\n",
       "    .dataframe tbody tr th {\n",
       "        vertical-align: top;\n",
       "    }\n",
       "\n",
       "    .dataframe thead th {\n",
       "        text-align: right;\n",
       "    }\n",
       "</style>\n",
       "<table border=\"1\" class=\"dataframe\">\n",
       "  <thead>\n",
       "    <tr style=\"text-align: right;\">\n",
       "      <th></th>\n",
       "      <th>patient_id</th>\n",
       "      <th>appointment_id</th>\n",
       "      <th>gender</th>\n",
       "      <th>scheduled_day</th>\n",
       "      <th>appointment_day</th>\n",
       "      <th>waiting_days</th>\n",
       "      <th>age</th>\n",
       "      <th>neighbourhood</th>\n",
       "      <th>scholarship</th>\n",
       "      <th>hipertension</th>\n",
       "      <th>diabetes</th>\n",
       "      <th>alcoholism</th>\n",
       "      <th>handcap</th>\n",
       "      <th>sms_received</th>\n",
       "      <th>showed_up</th>\n",
       "    </tr>\n",
       "  </thead>\n",
       "  <tbody>\n",
       "    <tr>\n",
       "      <th>0</th>\n",
       "      <td>2.987250e+13</td>\n",
       "      <td>5642903</td>\n",
       "      <td>F</td>\n",
       "      <td>2016-04-29</td>\n",
       "      <td>2016-04-29</td>\n",
       "      <td>0</td>\n",
       "      <td>62</td>\n",
       "      <td>JARDIM DA PENHA</td>\n",
       "      <td>0</td>\n",
       "      <td>1</td>\n",
       "      <td>0</td>\n",
       "      <td>0</td>\n",
       "      <td>0</td>\n",
       "      <td>0</td>\n",
       "      <td>1</td>\n",
       "    </tr>\n",
       "    <tr>\n",
       "      <th>1</th>\n",
       "      <td>5.589978e+14</td>\n",
       "      <td>5642503</td>\n",
       "      <td>M</td>\n",
       "      <td>2016-04-29</td>\n",
       "      <td>2016-04-29</td>\n",
       "      <td>0</td>\n",
       "      <td>56</td>\n",
       "      <td>JARDIM DA PENHA</td>\n",
       "      <td>0</td>\n",
       "      <td>0</td>\n",
       "      <td>0</td>\n",
       "      <td>0</td>\n",
       "      <td>0</td>\n",
       "      <td>0</td>\n",
       "      <td>1</td>\n",
       "    </tr>\n",
       "    <tr>\n",
       "      <th>2</th>\n",
       "      <td>4.262962e+12</td>\n",
       "      <td>5642549</td>\n",
       "      <td>F</td>\n",
       "      <td>2016-04-29</td>\n",
       "      <td>2016-04-29</td>\n",
       "      <td>0</td>\n",
       "      <td>62</td>\n",
       "      <td>MATA DA PRAIA</td>\n",
       "      <td>0</td>\n",
       "      <td>0</td>\n",
       "      <td>0</td>\n",
       "      <td>0</td>\n",
       "      <td>0</td>\n",
       "      <td>0</td>\n",
       "      <td>1</td>\n",
       "    </tr>\n",
       "    <tr>\n",
       "      <th>3</th>\n",
       "      <td>8.679512e+11</td>\n",
       "      <td>5642828</td>\n",
       "      <td>F</td>\n",
       "      <td>2016-04-29</td>\n",
       "      <td>2016-04-29</td>\n",
       "      <td>0</td>\n",
       "      <td>8</td>\n",
       "      <td>PONTAL DE CAMBURI</td>\n",
       "      <td>0</td>\n",
       "      <td>0</td>\n",
       "      <td>0</td>\n",
       "      <td>0</td>\n",
       "      <td>0</td>\n",
       "      <td>0</td>\n",
       "      <td>1</td>\n",
       "    </tr>\n",
       "  </tbody>\n",
       "</table>\n",
       "</div>"
      ],
      "text/plain": [
       "     patient_id  appointment_id gender scheduled_day appointment_day  \\\n",
       "0  2.987250e+13         5642903      F    2016-04-29      2016-04-29   \n",
       "1  5.589978e+14         5642503      M    2016-04-29      2016-04-29   \n",
       "2  4.262962e+12         5642549      F    2016-04-29      2016-04-29   \n",
       "3  8.679512e+11         5642828      F    2016-04-29      2016-04-29   \n",
       "\n",
       "   waiting_days  age      neighbourhood  scholarship  hipertension  diabetes  \\\n",
       "0             0   62    JARDIM DA PENHA            0             1         0   \n",
       "1             0   56    JARDIM DA PENHA            0             0         0   \n",
       "2             0   62      MATA DA PRAIA            0             0         0   \n",
       "3             0    8  PONTAL DE CAMBURI            0             0         0   \n",
       "\n",
       "   alcoholism  handcap  sms_received  showed_up  \n",
       "0           0        0             0          1  \n",
       "1           0        0             0          1  \n",
       "2           0        0             0          1  \n",
       "3           0        0             0          1  "
      ]
     },
     "execution_count": 172,
     "metadata": {},
     "output_type": "execute_result"
    }
   ],
   "source": [
    "df_showed_up.head(4)"
   ]
  },
  {
   "cell_type": "markdown",
   "metadata": {},
   "source": [
    "#### Check age column <a id='wc_age'/> <a href='#topo'>Top</a>"
   ]
  },
  {
   "cell_type": "code",
   "execution_count": 173,
   "metadata": {
    "scrolled": true
   },
   "outputs": [
    {
     "data": {
      "image/png": "[encoded data removed]",
      "text/plain": [
       "<Figure size 1008x360 with 1 Axes>"
      ]
     },
     "metadata": {
      "needs_background": "light"
     },
     "output_type": "display_data"
    }
   ],
   "source": [
    "plt.figure(figsize=(14, 5))\n",
    "brm.build_column_bar_chart(plt, df_showed_up, df_not_showed_up, 'age')\n",
    "plt.xticks(np.arange(df_showed_up.age.min()+1, df_showed_up.age.max(), 5))\n",
    "plt.title('Show up and not show up appointment quantity by age')\n",
    "plt.show()"
   ]
  },
  {
   "cell_type": "markdown",
   "metadata": {},
   "source": [
    "##### Difference between showed up and not showed up <a id='wd_age'/>\n",
    "I am going to plot just the difference between showed up and not showed up. <a href='#topo'>Top</a>"
   ]
  },
  {
   "cell_type": "code",
   "execution_count": 174,
   "metadata": {},
   "outputs": [
    {
     "data": {
      "image/png": "[encoded data removed]",
      "text/plain": [
       "<Figure size 1008x360 with 1 Axes>"
      ]
     },
     "metadata": {
      "needs_background": "light"
     },
     "output_type": "display_data"
    }
   ],
   "source": [
    "plt.figure(figsize=(14, 5))\n",
    "count_dif = brm.get_counts_difference(df_showed_up, df_not_showed_up, 'age', sort_index=True)\n",
    "plt.plot(count_dif.keys(), count_dif.values)\n",
    "plt.xticks(np.arange(min(count_dif.keys()), max(count_dif.keys()), 5))\n",
    "plt.ylabel('Difference')\n",
    "plt.xlabel('Age')\n",
    "plt.title('Difference between showed up and not showed up by age')\n",
    "plt.show()"
   ]
  },
  {
   "cell_type": "markdown",
   "metadata": {},
   "source": [
    "##### No showed up percentage by age <a id='wn_age'/>\n",
    "Let's plot the percentage of no showed up by age. I am going to plot a line to delimit what age pass the total of no showed up percentage. <a href='#topo'>Top</a>"
   ]
  },
  {
   "cell_type": "code",
   "execution_count": 175,
   "metadata": {
    "scrolled": true
   },
   "outputs": [
    {
     "data": {
      "image/png": "[encoded data removed]",
      "text/plain": [
       "<Figure size 1008x360 with 1 Axes>"
      ]
     },
     "metadata": {
      "needs_background": "light"
     },
     "output_type": "display_data"
    }
   ],
   "source": [
    "plt.figure(figsize=(14, 5))\n",
    "min_appointment_count = 3\n",
    "percentages = brm.build_no_showed_up_percentage_bar(plt, df, df_not_showed_up, not_showed_up_percentage, 'age', min_appointment_count)\n",
    "plt.xticks(np.arange(df_not_showed_up.age.min(), df_not_showed_up.age.max(), 5))\n",
    "plt.show()"
   ]
  },
  {
   "cell_type": "markdown",
   "metadata": {},
   "source": [
    "#### Answer <a id='wa_age'/>\n",
    "I am going to get the ages that passed the total of no showed up percentage. <a href='#topo'>Top</a> - <a href='#c_ages'>Conclusion</a>"
   ]
  },
  {
   "cell_type": "code",
   "execution_count": 176,
   "metadata": {
    "scrolled": true
   },
   "outputs": [
    {
     "data": {
      "text/plain": [
       "Int64Index([ 4,  5,  6,  7,  8,  9, 10, 11, 12, 13, 14, 15, 16, 17, 18, 19, 20,\n",
       "            21, 22, 23, 24, 25, 26, 27, 28, 29, 30, 31, 32, 33, 34, 35, 36, 37,\n",
       "            39, 40, 41, 42, 43, 44, 83, 90, 92, 95],\n",
       "           dtype='int64')"
      ]
     },
     "execution_count": 176,
     "metadata": {},
     "output_type": "execute_result"
    }
   ],
   "source": [
    "ages_not_showed_up = percentages.loc[lambda x: x > not_showed_up_percentage].keys()\n",
    "ages_not_showed_up"
   ]
  },
  {
   "cell_type": "markdown",
   "metadata": {},
   "source": [
    "### Which gender have more patients who did not showed up? <a id='w_gender'/> <a href='#topo'>Top</a>"
   ]
  },
  {
   "cell_type": "code",
   "execution_count": 177,
   "metadata": {
    "scrolled": true
   },
   "outputs": [
    {
     "data": {
      "image/png": "[encoded data removed]",
      "text/plain": [
       "<Figure size 432x288 with 1 Axes>"
      ]
     },
     "metadata": {
      "needs_background": "light"
     },
     "output_type": "display_data"
    }
   ],
   "source": [
    "brm.build_column_bar_chart(plt, df_showed_up, df_not_showed_up, 'gender')\n",
    "plt.title('Show up and not show up appointment quantity by gender')\n",
    "plt.show()"
   ]
  },
  {
   "cell_type": "markdown",
   "metadata": {},
   "source": [
    "#### Answer <a id='wa_gender'/> <a href='#topo'>Top</a> - <a href='#c_gender'>Conclusion</a>"
   ]
  },
  {
   "cell_type": "code",
   "execution_count": 178,
   "metadata": {
    "scrolled": true
   },
   "outputs": [
    {
     "data": {
      "image/png": "[encoded data removed]",
      "text/plain": [
       "<Figure size 432x288 with 1 Axes>"
      ]
     },
     "metadata": {
      "needs_background": "light"
     },
     "output_type": "display_data"
    }
   ],
   "source": [
    "brm.build_no_showed_up_percentage_plot(plt, df, df_not_showed_up, not_showed_up_percentage, 'gender');"
   ]
  },
  {
   "cell_type": "markdown",
   "metadata": {},
   "source": [
    "### Does schorlaship have more patients who did not showed up? <a id='w_school'/> <a href='#topo'>Top</a>"
   ]
  },
  {
   "cell_type": "code",
   "execution_count": 179,
   "metadata": {
    "scrolled": true
   },
   "outputs": [
    {
     "data": {
      "image/png": "[encoded data removed]",
      "text/plain": [
       "<Figure size 432x288 with 1 Axes>"
      ]
     },
     "metadata": {
      "needs_background": "light"
     },
     "output_type": "display_data"
    }
   ],
   "source": [
    "brm.build_column_bar_chart(plt, df_showed_up, df_not_showed_up, 'scholarship')\n",
    "plt.title('Show up and not show up appointment quantity by scholarship')\n",
    "plt.xticks([0, 1], [\"Doesn't have\", 'Has'])\n",
    "plt.show()"
   ]
  },
  {
   "cell_type": "markdown",
   "metadata": {},
   "source": [
    "#### Answer <a id='wa_school'/> <a href='#topo'>Top</a> - <a href='#c_welfare'>Conclusion</a>"
   ]
  },
  {
   "cell_type": "code",
   "execution_count": 180,
   "metadata": {},
   "outputs": [
    {
     "data": {
      "image/png": "[encoded data removed]",
      "text/plain": [
       "<Figure size 432x288 with 1 Axes>"
      ]
     },
     "metadata": {
      "needs_background": "light"
     },
     "output_type": "display_data"
    }
   ],
   "source": [
    "brm.build_no_showed_up_percentage_plot(plt, df, df_not_showed_up, not_showed_up_percentage, 'scholarship')\n",
    "plt.xticks([0, 1], [\"Doesn't have\", 'Has'])\n",
    "plt.show()"
   ]
  },
  {
   "cell_type": "markdown",
   "metadata": {},
   "source": [
    "### Which disease has more patients who did not showed up? <a id='w_disease'/> <a href='#topo'>Top</a>"
   ]
  },
  {
   "cell_type": "code",
   "execution_count": 181,
   "metadata": {
    "scrolled": true
   },
   "outputs": [
    {
     "data": {
      "image/png": "[encoded data removed]",
      "text/plain": [
       "<Figure size 432x288 with 1 Axes>"
      ]
     },
     "metadata": {
      "needs_background": "light"
     },
     "output_type": "display_data"
    }
   ],
   "source": [
    "brm.build_column_bar_chart(plt, df_showed_up, df_not_showed_up, 'hipertension')\n",
    "plt.title('Show up and not show up appointment quantity by hipertension')\n",
    "plt.xticks([0, 1], [\"Doesn't have\", 'Has'])\n",
    "plt.show()"
   ]
  },
  {
   "cell_type": "code",
   "execution_count": 182,
   "metadata": {
    "scrolled": true
   },
   "outputs": [
    {
     "data": {
      "image/png": "[encoded data removed]",
      "text/plain": [
       "<Figure size 432x288 with 1 Axes>"
      ]
     },
     "metadata": {
      "needs_background": "light"
     },
     "output_type": "display_data"
    }
   ],
   "source": [
    "brm.build_column_bar_chart(plt, df_showed_up, df_not_showed_up, 'diabetes')\n",
    "plt.title('Show up and not show up appointment quantity by diabetes')\n",
    "plt.xticks([0, 1], [\"Doesn't have\", 'Has'])\n",
    "plt.show()"
   ]
  },
  {
   "cell_type": "code",
   "execution_count": 183,
   "metadata": {
    "scrolled": true
   },
   "outputs": [
    {
     "data": {
      "image/png": "[encoded data removed]",
      "text/plain": [
       "<Figure size 432x288 with 1 Axes>"
      ]
     },
     "metadata": {
      "needs_background": "light"
     },
     "output_type": "display_data"
    }
   ],
   "source": [
    "brm.build_column_bar_chart(plt, df_showed_up, df_not_showed_up, 'alcoholism')\n",
    "plt.title('Show up and not show up appointment quantity by alcoholism')\n",
    "plt.xticks([0, 1], [\"Doesn't have\", 'Has'])\n",
    "plt.show()"
   ]
  },
  {
   "cell_type": "code",
   "execution_count": 184,
   "metadata": {
    "scrolled": true
   },
   "outputs": [
    {
     "data": {
      "image/png": "[encoded data removed]",
      "text/plain": [
       "<Figure size 432x288 with 1 Axes>"
      ]
     },
     "metadata": {
      "needs_background": "light"
     },
     "output_type": "display_data"
    }
   ],
   "source": [
    "brm.build_column_bar_chart(plt, df_showed_up, df_not_showed_up, 'handcap')\n",
    "plt.title('Show up and not show up appointment quantity by handicap')\n",
    "plt.xticks([0, 1], [\"Doesn't have\", 'Has'])\n",
    "plt.show()"
   ]
  },
  {
   "cell_type": "code",
   "execution_count": 185,
   "metadata": {},
   "outputs": [
    {
     "data": {
      "text/plain": [
       "0    20.899223\n",
       "1    17.301959\n",
       "Name: hipertension, dtype: float64"
      ]
     },
     "execution_count": 185,
     "metadata": {},
     "output_type": "execute_result"
    }
   ],
   "source": [
    "hipertension_percentage = brm.get_no_showed_up_percentages(df, df_not_showed_up, 'hipertension')\n",
    "hipertension_percentage"
   ]
  },
  {
   "cell_type": "code",
   "execution_count": 186,
   "metadata": {},
   "outputs": [
    {
     "data": {
      "text/plain": [
       "0    20.358943\n",
       "1    18.003273\n",
       "Name: diabetes, dtype: float64"
      ]
     },
     "execution_count": 186,
     "metadata": {},
     "output_type": "execute_result"
    }
   ],
   "source": [
    "diabetes_percentage = brm.get_no_showed_up_percentages(df, df_not_showed_up, 'diabetes')\n",
    "diabetes_percentage"
   ]
  },
  {
   "cell_type": "code",
   "execution_count": 187,
   "metadata": {},
   "outputs": [
    {
     "data": {
      "text/plain": [
       "0    20.190926\n",
       "1    20.148810\n",
       "Name: alcoholism, dtype: float64"
      ]
     },
     "execution_count": 187,
     "metadata": {},
     "output_type": "execute_result"
    }
   ],
   "source": [
    "alcoholism_percentage = brm.get_no_showed_up_percentages(df, df_not_showed_up, 'alcoholism')\n",
    "alcoholism_percentage"
   ]
  },
  {
   "cell_type": "code",
   "execution_count": 188,
   "metadata": {
    "scrolled": false
   },
   "outputs": [
    {
     "data": {
      "text/plain": [
       "0    20.233093\n",
       "1    18.088432\n",
       "Name: handcap, dtype: float64"
      ]
     },
     "execution_count": 188,
     "metadata": {},
     "output_type": "execute_result"
    }
   ],
   "source": [
    "handcap_percentage = brm.get_no_showed_up_percentages(df, df_not_showed_up, 'handcap')\n",
    "handcap_percentage"
   ]
  },
  {
   "cell_type": "markdown",
   "metadata": {},
   "source": [
    "#### Answer  <a id='wa_disease'/> <a href='#topo'>Top</a> - <a href='#c_disease'>Conclusion</a>"
   ]
  },
  {
   "cell_type": "code",
   "execution_count": 189,
   "metadata": {},
   "outputs": [],
   "source": [
    "disease_percentages = [hipertension_percentage[1], diabetes_percentage[1], alcoholism_percentage[1], handcap_percentage[1]]\n",
    "diseases = ['hiper', 'diab', 'alco', 'hand']\n",
    "percentages = pd.Series(disease_percentages, diseases)"
   ]
  },
  {
   "cell_type": "code",
   "execution_count": 190,
   "metadata": {},
   "outputs": [
    {
     "data": {
      "image/png": "[encoded data removed]",
      "text/plain": [
       "<Figure size 432x288 with 1 Axes>"
      ]
     },
     "metadata": {
      "needs_background": "light"
     },
     "output_type": "display_data"
    }
   ],
   "source": [
    "brm.build_no_showed_up_percentage_plot(plt, df, df_not_showed_up, not_showed_up_percentage, 'disease', percentages=percentages);"
   ]
  },
  {
   "cell_type": "markdown",
   "metadata": {},
   "source": [
    "### Is sms a important factor to a patient to showed up? <a id='w_sms'/> <a href='#topo'>Top</a>"
   ]
  },
  {
   "cell_type": "code",
   "execution_count": 191,
   "metadata": {
    "scrolled": false
   },
   "outputs": [
    {
     "data": {
      "image/png": "[encoded data removed]",
      "text/plain": [
       "<Figure size 432x288 with 1 Axes>"
      ]
     },
     "metadata": {
      "needs_background": "light"
     },
     "output_type": "display_data"
    }
   ],
   "source": [
    "brm.build_column_bar_chart(plt, df_showed_up, df_not_showed_up, 'sms_received')\n",
    "plt.title('Show up and not show up appointment quantity by SMS received')\n",
    "plt.xticks([0, 1], ['Not received', 'Received'])\n",
    "plt.show()"
   ]
  },
  {
   "cell_type": "markdown",
   "metadata": {},
   "source": [
    "#### Answer <a id='wa_sms'/> <a href='#topo'>Top</a> - <a href='#c_sms'>Conclusion</a>"
   ]
  },
  {
   "cell_type": "code",
   "execution_count": 192,
   "metadata": {},
   "outputs": [
    {
     "data": {
      "image/png": "[encoded data removed]",
      "text/plain": [
       "<Figure size 432x288 with 1 Axes>"
      ]
     },
     "metadata": {
      "needs_background": "light"
     },
     "output_type": "display_data"
    }
   ],
   "source": [
    "brm.build_no_showed_up_percentage_plot(plt, df, df_not_showed_up, not_showed_up_percentage, 'sms_received')\n",
    "plt.xticks([0, 1], ['Not received', 'Received'])\n",
    "plt.show()"
   ]
  },
  {
   "cell_type": "markdown",
   "metadata": {},
   "source": [
    "### Does waiting days have some correlation with patients who did not showed up? <a id='w_days'/> <a href='#topo'>Top</a>"
   ]
  },
  {
   "cell_type": "markdown",
   "metadata": {},
   "source": [
    "#### Answer <a href='#c_days'>Conclusion</a>"
   ]
  },
  {
   "cell_type": "code",
   "execution_count": 193,
   "metadata": {},
   "outputs": [
    {
     "data": {
      "image/png": "[encoded data removed]",
      "text/plain": [
       "<Figure size 1008x360 with 1 Axes>"
      ]
     },
     "metadata": {
      "needs_background": "light"
     },
     "output_type": "display_data"
    }
   ],
   "source": [
    "plt.figure(figsize=(14, 5))\n",
    "brm.build_column_plot(plt, df_showed_up, df_not_showed_up, 'waiting_days')\n",
    "plt.title('Show up and not show up appointment quantity by waiting days')\n",
    "plt.show()"
   ]
  },
  {
   "cell_type": "code",
   "execution_count": 194,
   "metadata": {},
   "outputs": [
    {
     "data": {
      "image/png": "[encoded data removed]",
      "text/plain": [
       "<Figure size 1008x360 with 1 Axes>"
      ]
     },
     "metadata": {
      "needs_background": "light"
     },
     "output_type": "display_data"
    }
   ],
   "source": [
    "plt.figure(figsize=(14, 5))\n",
    "brm.build_column_plot(plt, df_showed_up.query('waiting_days > 0'), df_not_showed_up.query('waiting_days > 0'), 'waiting_days')\n",
    "plt.title('Show up and not show up appointment quantity by waiting days more than 0')\n",
    "plt.show()"
   ]
  },
  {
   "cell_type": "markdown",
   "metadata": {},
   "source": [
    "### Wich wait time in days has more patients who did not showed up?  <a id='w_time'/> <a href='#topo'>Top</a> - <a href='#c_days'>Conclusion</a>"
   ]
  },
  {
   "cell_type": "code",
   "execution_count": 195,
   "metadata": {},
   "outputs": [
    {
     "data": {
      "image/png": "[encoded data removed]",
      "text/plain": [
       "<Figure size 1008x360 with 1 Axes>"
      ]
     },
     "metadata": {
      "needs_background": "light"
     },
     "output_type": "display_data"
    }
   ],
   "source": [
    "plt.figure(figsize=(14, 5))\n",
    "percentages = brm.build_no_showed_up_percentage_plot(plt, df, df_not_showed_up, not_showed_up_percentage, 'waiting_days')\n",
    "plt.xticks(np.arange(min(percentages.keys()), max(percentages.keys()), 10))\n",
    "plt.show()"
   ]
  },
  {
   "cell_type": "markdown",
   "metadata": {},
   "source": [
    "### What are appointment the periods with more patientes who did not showed up? <a id='w_appoi'/> <a href='#topo'>Top</a>"
   ]
  },
  {
   "cell_type": "code",
   "execution_count": 196,
   "metadata": {},
   "outputs": [
    {
     "data": {
      "image/png": "[encoded data removed]",
      "text/plain": [
       "<Figure size 1296x288 with 1 Axes>"
      ]
     },
     "metadata": {
      "needs_background": "light"
     },
     "output_type": "display_data"
    }
   ],
   "source": [
    "plt.figure(figsize=(18, 4))\n",
    "brm.build_column_bar_chart(plt, df_showed_up, df_not_showed_up, 'appointment_day')\n",
    "plt.setp(plt.gca().xaxis.get_majorticklabels(),\n",
    "         'rotation', 90)\n",
    "plt.title('Show up and not show up appointment quantity by appointment day')\n",
    "plt.show()"
   ]
  },
  {
   "cell_type": "markdown",
   "metadata": {},
   "source": [
    "#### Answer  <a id='wa_appoi'/> <a href='#topo'>Top</a>"
   ]
  },
  {
   "cell_type": "code",
   "execution_count": 197,
   "metadata": {},
   "outputs": [
    {
     "data": {
      "image/png": "[encoded data removed]",
      "text/plain": [
       "<Figure size 1296x288 with 1 Axes>"
      ]
     },
     "metadata": {
      "needs_background": "light"
     },
     "output_type": "display_data"
    }
   ],
   "source": [
    "plt.figure(figsize=(18, 4))\n",
    "brm.build_no_showed_up_percentage_bar(plt, df, df_not_showed_up, not_showed_up_percentage, 'appointment_day')\n",
    "plt.setp(plt.gca().xaxis.get_majorticklabels(),\n",
    "         'rotation', 90)\n",
    "plt.show()"
   ]
  },
  {
   "cell_type": "markdown",
   "metadata": {},
   "source": [
    "### What are the hospital locations with more patients who dis not showed up?  <a id='w_local'/> <a href='#topo'>Top</a>"
   ]
  },
  {
   "cell_type": "code",
   "execution_count": 198,
   "metadata": {},
   "outputs": [
    {
     "data": {
      "image/png": "[encoded data removed]",
      "text/plain": [
       "<Figure size 720x1728 with 1 Axes>"
      ]
     },
     "metadata": {
      "needs_background": "light"
     },
     "output_type": "display_data"
    }
   ],
   "source": [
    "plt.figure(figsize=(10, 24))\n",
    "brm.build_column_bar_chart(plt, df_showed_up, df_not_showed_up, 'neighbourhood', invert_axis=True)\n",
    "plt.title('Show up and not show up appointment quantity by hospital location')\n",
    "plt.show()"
   ]
  },
  {
   "cell_type": "markdown",
   "metadata": {},
   "source": [
    "#### Answer  <a id='wa_local'/> <a href='#topo'>Top</a> - <a href='#c_local'>Conclusion</a>"
   ]
  },
  {
   "cell_type": "code",
   "execution_count": 199,
   "metadata": {},
   "outputs": [
    {
     "data": {
      "image/png": "[encoded data removed]",
      "text/plain": [
       "<Figure size 720x1728 with 1 Axes>"
      ]
     },
     "metadata": {
      "needs_background": "light"
     },
     "output_type": "display_data"
    }
   ],
   "source": [
    "plt.figure(figsize=(10, 24))\n",
    "brm.build_no_showed_up_percentage_bar(plt, df, df_not_showed_up, not_showed_up_percentage, 'neighbourhood', min_appointment_count=5, invert_axis=True)\n",
    "plt.show()"
   ]
  },
  {
   "cell_type": "markdown",
   "metadata": {},
   "source": [
    "### Between the ages groups with more higher and lower indices, What is the means percentages of Maria Ortiz hospital patients who did not showed? <a id='w_maria'/> <a href='#topo'>Top</a>"
   ]
  },
  {
   "cell_type": "code",
   "execution_count": 200,
   "metadata": {},
   "outputs": [
    {
     "data": {
      "text/plain": [
       "Int64Index([ 4,  5,  6,  7,  8,  9, 10, 11, 12, 13, 14, 15, 16, 17, 18, 19, 20,\n",
       "            21, 22, 23, 24, 25, 26, 27, 28, 29, 30, 31, 32, 33, 34, 35, 36, 37,\n",
       "            39, 40, 41, 42, 43, 44, 83, 90, 92, 95],\n",
       "           dtype='int64')"
      ]
     },
     "execution_count": 200,
     "metadata": {},
     "output_type": "execute_result"
    }
   ],
   "source": [
    "ages_not_showed_up"
   ]
  },
  {
   "cell_type": "markdown",
   "metadata": {},
   "source": [
    "#### Create age group with more higher index of missing appointments <a id='wch_maria'/> <a href='#topo'>Top</a>"
   ]
  },
  {
   "cell_type": "code",
   "execution_count": 201,
   "metadata": {
    "scrolled": true
   },
   "outputs": [
    {
     "data": {
      "text/plain": [
       "'age == \"4\" | age == \"5\" | age == \"6\" | age == \"7\" | age == \"8\" | age == \"9\" | age == \"10\" | age == \"11\" | age == \"12\" | age == \"13\" | age == \"14\" | age == \"15\" | age == \"16\" | age == \"17\" | age == \"18\" | age == \"19\" | age == \"20\" | age == \"21\" | age == \"22\" | age == \"23\" | age == \"24\" | age == \"25\" | age == \"26\" | age == \"27\" | age == \"28\" | age == \"29\" | age == \"30\" | age == \"31\" | age == \"32\" | age == \"33\" | age == \"34\" | age == \"35\" | age == \"36\" | age == \"37\" | age == \"39\" | age == \"40\" | age == \"41\" | age == \"42\" | age == \"43\" | age == \"44\" | age == \"83\" | age == \"90\" | age == \"92\" | age == \"95\"'"
      ]
     },
     "execution_count": 201,
     "metadata": {},
     "output_type": "execute_result"
    }
   ],
   "source": [
    "age_query_high_array = [ 'age == \"{}\" | '.format(age) if i[0] != len(ages_not_showed_up.values)-1 else 'age == \"{}\"'.format(age) for i, age in np.ndenumerate(ages_not_showed_up.values)]\n",
    "age_high_query = ''.join(age_query_high_array)\n",
    "age_high_query"
   ]
  },
  {
   "cell_type": "code",
   "execution_count": 202,
   "metadata": {},
   "outputs": [
    {
     "data": {
      "text/html": [
       "<div>\n",
       "<style scoped>\n",
       "    .dataframe tbody tr th:only-of-type {\n",
       "        vertical-align: middle;\n",
       "    }\n",
       "\n",
       "    .dataframe tbody tr th {\n",
       "        vertical-align: top;\n",
       "    }\n",
       "\n",
       "    .dataframe thead th {\n",
       "        text-align: right;\n",
       "    }\n",
       "</style>\n",
       "<table border=\"1\" class=\"dataframe\">\n",
       "  <thead>\n",
       "    <tr style=\"text-align: right;\">\n",
       "      <th></th>\n",
       "      <th>patient_id</th>\n",
       "      <th>appointment_id</th>\n",
       "      <th>gender</th>\n",
       "      <th>scheduled_day</th>\n",
       "      <th>appointment_day</th>\n",
       "      <th>waiting_days</th>\n",
       "      <th>age</th>\n",
       "      <th>neighbourhood</th>\n",
       "      <th>scholarship</th>\n",
       "      <th>hipertension</th>\n",
       "      <th>diabetes</th>\n",
       "      <th>alcoholism</th>\n",
       "      <th>handcap</th>\n",
       "      <th>sms_received</th>\n",
       "      <th>showed_up</th>\n",
       "    </tr>\n",
       "  </thead>\n",
       "  <tbody>\n",
       "    <tr>\n",
       "      <th>78</th>\n",
       "      <td>6.259265e+11</td>\n",
       "      <td>5597672</td>\n",
       "      <td>M</td>\n",
       "      <td>2016-04-18</td>\n",
       "      <td>2016-04-29</td>\n",
       "      <td>11</td>\n",
       "      <td>21</td>\n",
       "      <td>MARIA ORTIZ</td>\n",
       "      <td>0</td>\n",
       "      <td>0</td>\n",
       "      <td>0</td>\n",
       "      <td>0</td>\n",
       "      <td>0</td>\n",
       "      <td>1</td>\n",
       "      <td>1</td>\n",
       "    </tr>\n",
       "    <tr>\n",
       "      <th>143</th>\n",
       "      <td>4.755763e+12</td>\n",
       "      <td>5641034</td>\n",
       "      <td>F</td>\n",
       "      <td>2016-04-29</td>\n",
       "      <td>2016-04-29</td>\n",
       "      <td>0</td>\n",
       "      <td>36</td>\n",
       "      <td>MARIA ORTIZ</td>\n",
       "      <td>0</td>\n",
       "      <td>0</td>\n",
       "      <td>0</td>\n",
       "      <td>0</td>\n",
       "      <td>0</td>\n",
       "      <td>0</td>\n",
       "      <td>1</td>\n",
       "    </tr>\n",
       "    <tr>\n",
       "      <th>262</th>\n",
       "      <td>2.621687e+11</td>\n",
       "      <td>5637980</td>\n",
       "      <td>F</td>\n",
       "      <td>2016-04-29</td>\n",
       "      <td>2016-04-29</td>\n",
       "      <td>0</td>\n",
       "      <td>37</td>\n",
       "      <td>MARIA ORTIZ</td>\n",
       "      <td>0</td>\n",
       "      <td>0</td>\n",
       "      <td>0</td>\n",
       "      <td>0</td>\n",
       "      <td>0</td>\n",
       "      <td>0</td>\n",
       "      <td>1</td>\n",
       "    </tr>\n",
       "    <tr>\n",
       "      <th>264</th>\n",
       "      <td>1.971196e+13</td>\n",
       "      <td>5638572</td>\n",
       "      <td>F</td>\n",
       "      <td>2016-04-29</td>\n",
       "      <td>2016-04-29</td>\n",
       "      <td>0</td>\n",
       "      <td>21</td>\n",
       "      <td>MARIA ORTIZ</td>\n",
       "      <td>0</td>\n",
       "      <td>0</td>\n",
       "      <td>0</td>\n",
       "      <td>0</td>\n",
       "      <td>0</td>\n",
       "      <td>0</td>\n",
       "      <td>1</td>\n",
       "    </tr>\n",
       "  </tbody>\n",
       "</table>\n",
       "</div>"
      ],
      "text/plain": [
       "       patient_id  appointment_id gender scheduled_day appointment_day  \\\n",
       "78   6.259265e+11         5597672      M    2016-04-18      2016-04-29   \n",
       "143  4.755763e+12         5641034      F    2016-04-29      2016-04-29   \n",
       "262  2.621687e+11         5637980      F    2016-04-29      2016-04-29   \n",
       "264  1.971196e+13         5638572      F    2016-04-29      2016-04-29   \n",
       "\n",
       "     waiting_days  age neighbourhood  scholarship  hipertension  diabetes  \\\n",
       "78             11   21   MARIA ORTIZ            0             0         0   \n",
       "143             0   36   MARIA ORTIZ            0             0         0   \n",
       "262             0   37   MARIA ORTIZ            0             0         0   \n",
       "264             0   21   MARIA ORTIZ            0             0         0   \n",
       "\n",
       "     alcoholism  handcap  sms_received  showed_up  \n",
       "78            0        0             1          1  \n",
       "143           0        0             0          1  \n",
       "262           0        0             0          1  \n",
       "264           0        0             0          1  "
      ]
     },
     "execution_count": 202,
     "metadata": {},
     "output_type": "execute_result"
    }
   ],
   "source": [
    "df_local_age_high = df.query('neighbourhood == \"MARIA ORTIZ\" & ({})'.format(age_high_query))\n",
    "df_local_age_high.head(4)"
   ]
  },
  {
   "cell_type": "code",
   "execution_count": 203,
   "metadata": {},
   "outputs": [
    {
     "data": {
      "text/html": [
       "<div>\n",
       "<style scoped>\n",
       "    .dataframe tbody tr th:only-of-type {\n",
       "        vertical-align: middle;\n",
       "    }\n",
       "\n",
       "    .dataframe tbody tr th {\n",
       "        vertical-align: top;\n",
       "    }\n",
       "\n",
       "    .dataframe thead th {\n",
       "        text-align: right;\n",
       "    }\n",
       "</style>\n",
       "<table border=\"1\" class=\"dataframe\">\n",
       "  <thead>\n",
       "    <tr style=\"text-align: right;\">\n",
       "      <th></th>\n",
       "      <th>patient_id</th>\n",
       "      <th>appointment_id</th>\n",
       "      <th>gender</th>\n",
       "      <th>scheduled_day</th>\n",
       "      <th>appointment_day</th>\n",
       "      <th>waiting_days</th>\n",
       "      <th>age</th>\n",
       "      <th>neighbourhood</th>\n",
       "      <th>scholarship</th>\n",
       "      <th>hipertension</th>\n",
       "      <th>diabetes</th>\n",
       "      <th>alcoholism</th>\n",
       "      <th>handcap</th>\n",
       "      <th>sms_received</th>\n",
       "      <th>showed_up</th>\n",
       "    </tr>\n",
       "  </thead>\n",
       "  <tbody>\n",
       "    <tr>\n",
       "      <th>546</th>\n",
       "      <td>5.816229e+12</td>\n",
       "      <td>5552638</td>\n",
       "      <td>F</td>\n",
       "      <td>2016-04-06</td>\n",
       "      <td>2016-04-29</td>\n",
       "      <td>23</td>\n",
       "      <td>26</td>\n",
       "      <td>MARIA ORTIZ</td>\n",
       "      <td>0</td>\n",
       "      <td>0</td>\n",
       "      <td>0</td>\n",
       "      <td>0</td>\n",
       "      <td>0</td>\n",
       "      <td>1</td>\n",
       "      <td>0</td>\n",
       "    </tr>\n",
       "    <tr>\n",
       "      <th>547</th>\n",
       "      <td>1.971196e+13</td>\n",
       "      <td>5536363</td>\n",
       "      <td>F</td>\n",
       "      <td>2016-04-01</td>\n",
       "      <td>2016-04-29</td>\n",
       "      <td>28</td>\n",
       "      <td>21</td>\n",
       "      <td>MARIA ORTIZ</td>\n",
       "      <td>0</td>\n",
       "      <td>0</td>\n",
       "      <td>0</td>\n",
       "      <td>0</td>\n",
       "      <td>0</td>\n",
       "      <td>1</td>\n",
       "      <td>0</td>\n",
       "    </tr>\n",
       "  </tbody>\n",
       "</table>\n",
       "</div>"
      ],
      "text/plain": [
       "       patient_id  appointment_id gender scheduled_day appointment_day  \\\n",
       "546  5.816229e+12         5552638      F    2016-04-06      2016-04-29   \n",
       "547  1.971196e+13         5536363      F    2016-04-01      2016-04-29   \n",
       "\n",
       "     waiting_days  age neighbourhood  scholarship  hipertension  diabetes  \\\n",
       "546            23   26   MARIA ORTIZ            0             0         0   \n",
       "547            28   21   MARIA ORTIZ            0             0         0   \n",
       "\n",
       "     alcoholism  handcap  sms_received  showed_up  \n",
       "546           0        0             1          0  \n",
       "547           0        0             1          0  "
      ]
     },
     "execution_count": 203,
     "metadata": {},
     "output_type": "execute_result"
    }
   ],
   "source": [
    "df_local_age_high_not_showed_up = df_local_age_high.query('showed_up == 0')\n",
    "df_local_age_high_not_showed_up.head(2)"
   ]
  },
  {
   "cell_type": "markdown",
   "metadata": {},
   "source": [
    "#### Create age group with more lower index of missing appointments <a id='wcl_maria'/> <a href='#topo'>Top</a>"
   ]
  },
  {
   "cell_type": "code",
   "execution_count": 204,
   "metadata": {},
   "outputs": [
    {
     "data": {
      "text/plain": [
       "'age != \"4\" & age != \"5\" & age != \"6\" & age != \"7\" & age != \"8\" & age != \"9\" & age != \"10\" & age != \"11\" & age != \"12\" & age != \"13\" & age != \"14\" & age != \"15\" & age != \"16\" & age != \"17\" & age != \"18\" & age != \"19\" & age != \"20\" & age != \"21\" & age != \"22\" & age != \"23\" & age != \"24\" & age != \"25\" & age != \"26\" & age != \"27\" & age != \"28\" & age != \"29\" & age != \"30\" & age != \"31\" & age != \"32\" & age != \"33\" & age != \"34\" & age != \"35\" & age != \"36\" & age != \"37\" & age != \"39\" & age != \"40\" & age != \"41\" & age != \"42\" & age != \"43\" & age != \"44\" & age != \"83\" & age != \"90\" & age != \"92\" & age != \"95\"'"
      ]
     },
     "execution_count": 204,
     "metadata": {},
     "output_type": "execute_result"
    }
   ],
   "source": [
    "age_query_low_array = [ 'age != \"{}\" & '.format(age) if i[0] != len(ages_not_showed_up.values)-1 else 'age != \"{}\"'.format(age) for i, age in np.ndenumerate(ages_not_showed_up.values)]\n",
    "age_low_query = ''.join(age_query_low_array)\n",
    "age_low_query"
   ]
  },
  {
   "cell_type": "code",
   "execution_count": 205,
   "metadata": {},
   "outputs": [
    {
     "data": {
      "text/html": [
       "<div>\n",
       "<style scoped>\n",
       "    .dataframe tbody tr th:only-of-type {\n",
       "        vertical-align: middle;\n",
       "    }\n",
       "\n",
       "    .dataframe tbody tr th {\n",
       "        vertical-align: top;\n",
       "    }\n",
       "\n",
       "    .dataframe thead th {\n",
       "        text-align: right;\n",
       "    }\n",
       "</style>\n",
       "<table border=\"1\" class=\"dataframe\">\n",
       "  <thead>\n",
       "    <tr style=\"text-align: right;\">\n",
       "      <th></th>\n",
       "      <th>patient_id</th>\n",
       "      <th>appointment_id</th>\n",
       "      <th>gender</th>\n",
       "      <th>scheduled_day</th>\n",
       "      <th>appointment_day</th>\n",
       "      <th>waiting_days</th>\n",
       "      <th>age</th>\n",
       "      <th>neighbourhood</th>\n",
       "      <th>scholarship</th>\n",
       "      <th>hipertension</th>\n",
       "      <th>diabetes</th>\n",
       "      <th>alcoholism</th>\n",
       "      <th>handcap</th>\n",
       "      <th>sms_received</th>\n",
       "      <th>showed_up</th>\n",
       "    </tr>\n",
       "  </thead>\n",
       "  <tbody>\n",
       "    <tr>\n",
       "      <th>74</th>\n",
       "      <td>9.672968e+12</td>\n",
       "      <td>5597628</td>\n",
       "      <td>F</td>\n",
       "      <td>2016-04-18</td>\n",
       "      <td>2016-04-29</td>\n",
       "      <td>11</td>\n",
       "      <td>64</td>\n",
       "      <td>MARIA ORTIZ</td>\n",
       "      <td>0</td>\n",
       "      <td>0</td>\n",
       "      <td>0</td>\n",
       "      <td>0</td>\n",
       "      <td>0</td>\n",
       "      <td>1</td>\n",
       "      <td>1</td>\n",
       "    </tr>\n",
       "    <tr>\n",
       "      <th>79</th>\n",
       "      <td>9.912882e+13</td>\n",
       "      <td>5597673</td>\n",
       "      <td>M</td>\n",
       "      <td>2016-04-18</td>\n",
       "      <td>2016-04-29</td>\n",
       "      <td>11</td>\n",
       "      <td>67</td>\n",
       "      <td>MARIA ORTIZ</td>\n",
       "      <td>0</td>\n",
       "      <td>0</td>\n",
       "      <td>0</td>\n",
       "      <td>0</td>\n",
       "      <td>0</td>\n",
       "      <td>1</td>\n",
       "      <td>0</td>\n",
       "    </tr>\n",
       "    <tr>\n",
       "      <th>144</th>\n",
       "      <td>1.758328e+14</td>\n",
       "      <td>5640987</td>\n",
       "      <td>M</td>\n",
       "      <td>2016-04-29</td>\n",
       "      <td>2016-04-29</td>\n",
       "      <td>0</td>\n",
       "      <td>50</td>\n",
       "      <td>MARIA ORTIZ</td>\n",
       "      <td>0</td>\n",
       "      <td>0</td>\n",
       "      <td>0</td>\n",
       "      <td>0</td>\n",
       "      <td>0</td>\n",
       "      <td>0</td>\n",
       "      <td>1</td>\n",
       "    </tr>\n",
       "    <tr>\n",
       "      <th>261</th>\n",
       "      <td>6.727362e+13</td>\n",
       "      <td>5637684</td>\n",
       "      <td>F</td>\n",
       "      <td>2016-04-29</td>\n",
       "      <td>2016-04-29</td>\n",
       "      <td>0</td>\n",
       "      <td>74</td>\n",
       "      <td>MARIA ORTIZ</td>\n",
       "      <td>0</td>\n",
       "      <td>1</td>\n",
       "      <td>1</td>\n",
       "      <td>0</td>\n",
       "      <td>0</td>\n",
       "      <td>0</td>\n",
       "      <td>1</td>\n",
       "    </tr>\n",
       "  </tbody>\n",
       "</table>\n",
       "</div>"
      ],
      "text/plain": [
       "       patient_id  appointment_id gender scheduled_day appointment_day  \\\n",
       "74   9.672968e+12         5597628      F    2016-04-18      2016-04-29   \n",
       "79   9.912882e+13         5597673      M    2016-04-18      2016-04-29   \n",
       "144  1.758328e+14         5640987      M    2016-04-29      2016-04-29   \n",
       "261  6.727362e+13         5637684      F    2016-04-29      2016-04-29   \n",
       "\n",
       "     waiting_days  age neighbourhood  scholarship  hipertension  diabetes  \\\n",
       "74             11   64   MARIA ORTIZ            0             0         0   \n",
       "79             11   67   MARIA ORTIZ            0             0         0   \n",
       "144             0   50   MARIA ORTIZ            0             0         0   \n",
       "261             0   74   MARIA ORTIZ            0             1         1   \n",
       "\n",
       "     alcoholism  handcap  sms_received  showed_up  \n",
       "74            0        0             1          1  \n",
       "79            0        0             1          0  \n",
       "144           0        0             0          1  \n",
       "261           0        0             0          1  "
      ]
     },
     "execution_count": 205,
     "metadata": {},
     "output_type": "execute_result"
    }
   ],
   "source": [
    "df_local_age_low = df.query('neighbourhood == \"MARIA ORTIZ\" & ({})'.format(age_low_query))\n",
    "df_local_age_low.head(4)"
   ]
  },
  {
   "cell_type": "code",
   "execution_count": 206,
   "metadata": {},
   "outputs": [
    {
     "data": {
      "text/html": [
       "<div>\n",
       "<style scoped>\n",
       "    .dataframe tbody tr th:only-of-type {\n",
       "        vertical-align: middle;\n",
       "    }\n",
       "\n",
       "    .dataframe tbody tr th {\n",
       "        vertical-align: top;\n",
       "    }\n",
       "\n",
       "    .dataframe thead th {\n",
       "        text-align: right;\n",
       "    }\n",
       "</style>\n",
       "<table border=\"1\" class=\"dataframe\">\n",
       "  <thead>\n",
       "    <tr style=\"text-align: right;\">\n",
       "      <th></th>\n",
       "      <th>patient_id</th>\n",
       "      <th>appointment_id</th>\n",
       "      <th>gender</th>\n",
       "      <th>scheduled_day</th>\n",
       "      <th>appointment_day</th>\n",
       "      <th>waiting_days</th>\n",
       "      <th>age</th>\n",
       "      <th>neighbourhood</th>\n",
       "      <th>scholarship</th>\n",
       "      <th>hipertension</th>\n",
       "      <th>diabetes</th>\n",
       "      <th>alcoholism</th>\n",
       "      <th>handcap</th>\n",
       "      <th>sms_received</th>\n",
       "      <th>showed_up</th>\n",
       "    </tr>\n",
       "  </thead>\n",
       "  <tbody>\n",
       "    <tr>\n",
       "      <th>79</th>\n",
       "      <td>9.912882e+13</td>\n",
       "      <td>5597673</td>\n",
       "      <td>M</td>\n",
       "      <td>2016-04-18</td>\n",
       "      <td>2016-04-29</td>\n",
       "      <td>11</td>\n",
       "      <td>67</td>\n",
       "      <td>MARIA ORTIZ</td>\n",
       "      <td>0</td>\n",
       "      <td>0</td>\n",
       "      <td>0</td>\n",
       "      <td>0</td>\n",
       "      <td>0</td>\n",
       "      <td>1</td>\n",
       "      <td>0</td>\n",
       "    </tr>\n",
       "    <tr>\n",
       "      <th>739</th>\n",
       "      <td>1.428839e+13</td>\n",
       "      <td>5498944</td>\n",
       "      <td>F</td>\n",
       "      <td>2016-03-22</td>\n",
       "      <td>2016-04-29</td>\n",
       "      <td>38</td>\n",
       "      <td>1</td>\n",
       "      <td>MARIA ORTIZ</td>\n",
       "      <td>0</td>\n",
       "      <td>0</td>\n",
       "      <td>0</td>\n",
       "      <td>0</td>\n",
       "      <td>0</td>\n",
       "      <td>1</td>\n",
       "      <td>0</td>\n",
       "    </tr>\n",
       "  </tbody>\n",
       "</table>\n",
       "</div>"
      ],
      "text/plain": [
       "       patient_id  appointment_id gender scheduled_day appointment_day  \\\n",
       "79   9.912882e+13         5597673      M    2016-04-18      2016-04-29   \n",
       "739  1.428839e+13         5498944      F    2016-03-22      2016-04-29   \n",
       "\n",
       "     waiting_days  age neighbourhood  scholarship  hipertension  diabetes  \\\n",
       "79             11   67   MARIA ORTIZ            0             0         0   \n",
       "739            38    1   MARIA ORTIZ            0             0         0   \n",
       "\n",
       "     alcoholism  handcap  sms_received  showed_up  \n",
       "79            0        0             1          0  \n",
       "739           0        0             1          0  "
      ]
     },
     "execution_count": 206,
     "metadata": {},
     "output_type": "execute_result"
    }
   ],
   "source": [
    "df_local_age_low_not_showed_up = df_local_age_low.query('showed_up == 0')\n",
    "df_local_age_low_not_showed_up.head(2)"
   ]
  },
  {
   "cell_type": "markdown",
   "metadata": {},
   "source": [
    "#### Charts <a id='wcc_maria'/> <a href='#topo'>Top</a>"
   ]
  },
  {
   "cell_type": "code",
   "execution_count": 207,
   "metadata": {
    "scrolled": true
   },
   "outputs": [
    {
     "data": {
      "image/png": "[encoded data removed]",
      "text/plain": [
       "<Figure size 1008x360 with 1 Axes>"
      ]
     },
     "metadata": {
      "needs_background": "light"
     },
     "output_type": "display_data"
    }
   ],
   "source": [
    "plt.figure(figsize=(14, 5))\n",
    "percentages_high = brm.build_no_showed_up_percentage_bar(plt, df_local_age_high, df_local_age_high_not_showed_up, not_showed_up_percentage, 'age')\n",
    "plt.xticks(np.arange(df_not_showed_up.age.min(), df_not_showed_up.age.max(), 5))\n",
    "plt.title('Maria Ortiz hospital no showed up patients by group age higher')\n",
    "plt.show()"
   ]
  },
  {
   "cell_type": "code",
   "execution_count": 208,
   "metadata": {},
   "outputs": [
    {
     "data": {
      "image/png": "[encoded data removed]",
      "text/plain": [
       "<Figure size 1008x360 with 1 Axes>"
      ]
     },
     "metadata": {
      "needs_background": "light"
     },
     "output_type": "display_data"
    }
   ],
   "source": [
    "plt.figure(figsize=(14, 5))\n",
    "percentages_low = brm.build_no_showed_up_percentage_bar(plt, df_local_age_low, df_local_age_low_not_showed_up, not_showed_up_percentage, 'age')\n",
    "plt.xticks(np.arange(df_not_showed_up.age.min(), df_not_showed_up.age.max(), 5))\n",
    "plt.title('Maria Ortiz hospital no showed up patients by group age low')\n",
    "plt.show()"
   ]
  },
  {
   "cell_type": "markdown",
   "metadata": {},
   "source": [
    "#### Answer <a id='wa_maria'/> <a href='#topo'>Top</a> - <a href='#c_maria'>Conclusion</a>"
   ]
  },
  {
   "cell_type": "code",
   "execution_count": 209,
   "metadata": {},
   "outputs": [
    {
     "data": {
      "text/plain": [
       "26.83804374610176"
      ]
     },
     "execution_count": 209,
     "metadata": {},
     "output_type": "execute_result"
    }
   ],
   "source": [
    "percentages_high.mean()"
   ]
  },
  {
   "cell_type": "code",
   "execution_count": 210,
   "metadata": {},
   "outputs": [
    {
     "data": {
      "text/plain": [
       "16.107222054852233"
      ]
     },
     "execution_count": 210,
     "metadata": {},
     "output_type": "execute_result"
    }
   ],
   "source": [
    "percentages_low.mean()"
   ]
  },
  {
   "cell_type": "markdown",
   "metadata": {},
   "source": [
    "## Conclusions <a id='conclusions'/>\n",
    "The exploratory section had the objective to search evidences that colud discover some correlations about the reasons of patients that not show up in a scheduled appointment. I am going to divide this conclusion to try to answer the questions made in last section.  <a href='#topo'>Top</a>"
   ]
  },
  {
   "cell_type": "markdown",
   "metadata": {},
   "source": [
    "### The percentage of patients who did not showed up <a id='c_percentage'/>\n",
    "Almost 20.19% of the patients did not show up in your scheduled appointments. The dataset's document said that was 30%. This question was important to confront the  dataset's document info. The next questions was focused these 20.19% of the patients. <a href='#topo'>Top</a> - <a href='#w_percentage'>Answer</a>"
   ]
  },
  {
   "cell_type": "markdown",
   "metadata": {},
   "source": [
    "### The ages with more patients who did not show up <a id='c_ages'/>\n",
    "The 20.19% found in the last question was used as delimited to get the ages with more higher indices of missing appointments. So, I got the ages greater than 20.19%. This 20.19% used as delimited was used in all the next questions.\n",
    "\n",
    "With these results was possibled to discover some correlations the patients who did not show up. Between 4 to 44 and some ages after 82 years old, the indices of abstencion is more higher where some ages can reach almost 30% of no show. <a href='#topo'>Top</a> - <a href='#wa_age'>Answer</a>"
   ]
  },
  {
   "cell_type": "markdown",
   "metadata": {},
   "source": [
    "#### The means percentages of Maria Ortiz hospital patients who did not show up <a id='c_maria'/>\n",
    "The Maria Ortiz's hospital is one of have the number of appointments and the percentage of abstention more higher. This hospital of the neighborhood was choosed to confirm the correlation found in the ages. In this case was possibled to see with more detail the correlation with the ages. Insige of the age group that have indices more higher of no show, the mean percentage of abstention is 26.83% against 16.10% of the another age group. <a href='#topo'>Top</a> - <a href='#wa_maria'>Answer</a>"
   ]
  },
  {
   "cell_type": "markdown",
   "metadata": {},
   "source": [
    "### Women have indices of no show up more higher <a id='c_gender'/>\n",
    "Women have more scheduled appoints than men, but men seems to show up more. Women has almost 20.30% of no show against almost 20% of men. <a href='#topo'>Top</a> - <a href='#wa_gender'>Answer</a>"
   ]
  },
  {
   "cell_type": "markdown",
   "metadata": {},
   "source": [
    "### The scholarship with more patients who did not show up <a id='c_welfare'/>\n",
    "Only a few of patients is participating  in the Bolsa Família welfare program. The patients inside this welfare has almost 24% of abstention. More higher than the delimited percentage of 20.19%. <a href='#topo'>Top</a> - <a href='#wa_school'>Answer</a>"
   ]
  },
  {
   "cell_type": "markdown",
   "metadata": {},
   "source": [
    "### The disease with more patients who did not show up <a id='c_disease'/>\n",
    "The diseases do not have any correlation with patients that not showed up. None passed by delimeted percentage. The only almost close of 20.19%, that could have some correlation, is alcoholism. <a href='#topo'>Top</a> - <a href='#wa_disease'>Answer</a>"
   ]
  },
  {
   "cell_type": "markdown",
   "metadata": {},
   "source": [
    "### SMS is not an important factor to a patient show up <a id='c_sms'/>\n",
    "The trend was that patients who received sms remenbering of your appointment had an index of show up more higher. But it is not the case. The number of patients who received SMS is much lower and the percentage of abstention reach almost 28%. <a href='#topo'>Top</a> - <a href='#wa_sms'>Answer</a>"
   ]
  },
  {
   "cell_type": "markdown",
   "metadata": {},
   "source": [
    "### Waiting days have correlation with patients who did not show up <a id='c_days'/>\n",
    "The number of appointments decreases while the waiting days increase, but is possible to see that the percentage of patients who did not show up increase. <a href='#w_time'>This chart</a> show that when the number of waiting days pass 1 day, the percentage of abstention already pass the delimeted percentage of 20.19%. <a href='#topo'>Top</a> - <a href='#w_days'>Answer</a>"
   ]
  },
  {
   "cell_type": "markdown",
   "metadata": {},
   "source": [
    "### The hospital locations with more patients who did not show up <a id='c_local'/>\n",
    "This info has some limitations. Is not possible to know if the hospital location is a city, neighborhood or district. If the data is really the neighborhood, is not possible to know which city this neighborhood belongs. In this case is not possible to do correlations with the patients who did not show up because some patients needs to go to another city to be attended. More detail about the hospital location and the local where the patient lives could help.\n",
    "<a href='#topo'>Top</a> - <a href='#wa_local'>Answer</a>"
   ]
  },
  {
   "cell_type": "markdown",
   "metadata": {},
   "source": [
    "## Limitations and final thoughs <a id='final'/>\n",
    "\n",
    "With this dataset, the main objective of this document of discovering some correlations about the reasons of patients who did not show up in a scheduled appointment, is not possible. The dataset lack with necessary information.\n",
    "\n",
    "The diseases informations do not give any insight. The dataset do not say to us what kind of medical appointment is the data. So, a patient with diabetes could schedule a medical appointment that don not have anything to do with his diesease.\n",
    "\n",
    "The dataset do not show if the appointment is in the public or private health service. We have the information if the patient is enrolled the goverment welfare program that could indicate if the data is about the public health service, but it is just a guess.\n",
    "\n",
    "We do not have valuable information about the patient. Where does the patient live? What is your education level? Do the teenagers patients have your complete family? Do the older patients have someone to take care of them?\n",
    "\n",
    "Just the hospital location do not help. Is not possible to know what city and state the hospital belongs, so I do not know about the hospital region or if this dataset englobe all Brazil's regions. Knowing about the hospital location could help to identify if the hospital has difficult access.\n",
    "\n",
    "How I said in the introduction section, this dataset do not seems trustfull. We can see in this <a href='#w_days'>graph</a> that the appointment quantity had an extreme decrease after the first fews waiting days. The waiting time do not looks like the reality. Great part of the appointments of this dataset was scheduled to the same day. In Brazil is normal a patient wait for months. Scheduling an appointment to the same day seems a fantasy in Brazil.\n",
    "\n",
    "This dataset give us more questions than answer. To answer the questions of this analysis, is necessary reviewed the data collection to discover why some patients did not show up your scheduled appointments.  <a href='#topo'>Top</a>"
   ]
  }
 ],
 "metadata": {
  "kernelspec": {
   "display_name": "Python 3",
   "language": "python",
   "name": "python3"
  },
  "language_info": {
   "codemirror_mode": {
    "name": "ipython",
    "version": 3
   },
   "file_extension": ".py",
   "mimetype": "text/x-python",
   "name": "python",
   "nbconvert_exporter": "python",
   "pygments_lexer": "ipython3",
   "version": "3.7.1"
  }
 },
 "nbformat": 4,
 "nbformat_minor": 2
}
